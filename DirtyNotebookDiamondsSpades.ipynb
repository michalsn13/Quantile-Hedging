{
 "cells": [
  {
   "cell_type": "code",
   "execution_count": 1,
   "id": "40658787",
   "metadata": {},
   "outputs": [],
   "source": [
    "from underlying import Underlying\n",
    "from option import Option\n",
    "from trader import Trader\n",
    "\n",
    "import matplotlib.pyplot as plt\n",
    "from tqdm import tqdm\n",
    "from quantile_hedging_calculator import *\n",
    "import numpy as np\n",
    "import pandas as pd\n",
    "from scipy.stats import norm\n",
    "from scipy.optimize import fsolve\n"
   ]
  },
  {
   "cell_type": "code",
   "execution_count": 2,
   "id": "be2e5a0c",
   "metadata": {},
   "outputs": [],
   "source": [
    "def payoff_call(X, K):\n",
    "    return np.maximum(X.iloc[:,-1]- K, 0)\n",
    "def payoff_put(X, K):\n",
    "    return np.maximum(K - X.iloc[:,-1], 0)"
   ]
  },
  {
   "cell_type": "code",
   "execution_count": 3,
   "id": "59ebe310",
   "metadata": {},
   "outputs": [],
   "source": [
    "mu = 0.06\n",
    "sigma =  0.3\n",
    "r = 0.05\n",
    "T = 1\n",
    "X0 = 100\n",
    "repeat = 100"
   ]
  },
  {
   "cell_type": "code",
   "execution_count": 4,
   "id": "b179b984",
   "metadata": {},
   "outputs": [],
   "source": [
    "mu_tilde = 0.07\n",
    "sigma_tilde = 0.02\n",
    "rho = 0.99\n",
    "S0 = 100\n",
    "K = 70"
   ]
  },
  {
   "attachments": {},
   "cell_type": "markdown",
   "id": "b1941150",
   "metadata": {},
   "source": [
    "**Call i Put**"
   ]
  },
  {
   "cell_type": "code",
   "execution_count": 5,
   "id": "fab3040b",
   "metadata": {},
   "outputs": [],
   "source": [
    "def dP_dQ(mu, sigma, T, r, W_T): \n",
    "    return np.exp(W_T * (mu-r) / sigma + 0.5 * T * ((mu - r) / sigma) ** 2)\n",
    "# 0< x < \\infty\n",
    "def G_call_basic(x, mu, sigma, mu_tilde, sigma_tilde, r, T, K, S0, W_T_tilde, rho):\n",
    "    if x <= 0:\n",
    "        raise Exception(\"x should be greater than 0\")\n",
    "    return dP_dQ(mu_tilde, sigma_tilde, T, r, W_T_tilde) * norm.cdf((np.log((K+x)/S0) - mu * T + 0.5 * sigma ** 2 * T - sigma * rho * W_T_tilde)/ (sigma * np.sqrt(T * (1 - rho ** 2))))\n",
    "\n",
    "def derivative_G_call_basic(x, mu, sigma, mu_tilde, sigma_tilde, r, T, K, S0, W_T_tilde, rho):\n",
    "    if x <= 0:\n",
    "        raise Exception(\"x should be greater than 0\")\n",
    "    return np.exp(-(np.log((K+x)/S0) - mu * T + 0.5 * sigma ** 2 * T - sigma * rho * W_T_tilde) ** 2 / (2 * sigma ** 2 * T * (1 - rho ** 2)))/((K + x) * sigma * np.sqrt(T * (1 - rho ** 2 ) * 2 * np.pi)) * dP_dQ(mu_tilde, sigma_tilde, T, r, W_T_tilde)\n",
    "# 0 < x < K\n",
    "def G_put_basic(x, mu, sigma, mu_tilde, sigma_tilde, r, T, K, S0, W_T_tilde, rho):\n",
    "    if x <= 0 or x >= K :\n",
    "        raise Exception(\"x should be greater than 0 and smaller than K\")\n",
    "    return dP_dQ(mu_tilde, sigma_tilde, T, r, W_T_tilde) * (1 -norm.cdf((np.log((K-x)/S0) - mu * T + 0.5 * sigma ** 2 * T - sigma * rho * W_T_tilde)/ (sigma * np.sqrt(T * (1 - rho ** 2)))))\n",
    "\n",
    "def derivative_G_put_basic(x, mu, sigma, mu_tilde, sigma_tilde, r, T, K, S0, W_T_tilde, rho):\n",
    "    if x <= 0 or x >= K :\n",
    "        raise Exception(\"x should be greater than 0 and smaller than K\")\n",
    "    return np.exp(-(np.log((K-x)/S0) - mu * T + 0.5 * sigma ** 2 * T - sigma * rho * W_T_tilde) ** 2 / (2 * sigma ** 2 * T * (1 - rho ** 2)))/((K- x) * sigma * np.sqrt(T * (1 - rho ** 2 ) * 2 * np.pi)) * dP_dQ(mu_tilde, sigma_tilde, T, r, W_T_tilde)"
   ]
  },
  {
   "attachments": {},
   "cell_type": "markdown",
   "id": "8a462de5",
   "metadata": {},
   "source": [
    "Bez dP_dQ"
   ]
  },
  {
   "cell_type": "code",
   "execution_count": 6,
   "id": "8b7e994f",
   "metadata": {},
   "outputs": [],
   "source": [
    "def G_call_basic_wo_const(x, mu, sigma, mu_tilde, sigma_tilde, r, T, K, S0, W_T_tilde, rho):\n",
    "    if x <= 0:\n",
    "        raise Exception(\"x should be greater than 0\")\n",
    "    return norm.cdf((np.log((K + x)/S0) - mu * T + 0.5 * sigma ** 2 * T - sigma * rho * W_T_tilde)/ (sigma * np.sqrt(T * (1 - rho ** 2))))\n",
    "\n",
    "def derivative_G_call_basic_wo_const(x, mu, sigma, mu_tilde, sigma_tilde, r, T, K, S0, W_T_tilde, rho):\n",
    "    if x <= 0:\n",
    "        raise Exception(\"x should be greater than 0\")\n",
    "    return np.exp(-(np.log((K + x)/S0) - mu * T + 0.5 * sigma ** 2 * T - sigma * rho * W_T_tilde) ** 2 / (2 * sigma ** 2 * T * (1 - rho ** 2))) / ((K + x) * sigma * np.sqrt(T * (1 - rho ** 2 ) * 2 * np.pi))\n",
    "# 0 < x < K\n",
    "def G_put_basic_wo_const(x, mu, sigma, mu_tilde, sigma_tilde, r, T, K, S0, W_T_tilde, rho):\n",
    "    if x <= 0 or x >= K :\n",
    "        raise Exception(\"x should be greater than 0 and smaller than K\")\n",
    "    return 1 - norm.cdf((np.log((K - x)/S0) - mu * T + 0.5 * sigma ** 2 * T - sigma * rho * W_T_tilde)/ (sigma * np.sqrt(T * (1 - rho ** 2))))\n",
    "\n",
    "def derivative_G_put_basic_wo_const(x, mu, sigma, mu_tilde, sigma_tilde, r, T, K, S0, W_T_tilde, rho):\n",
    "    if x <= 0 or x >= K :\n",
    "        raise Exception(\"x should be greater than 0 and smaller than K\")\n",
    "    return np.exp(-(np.log((K - x)/S0) - mu * T + 0.5 * sigma ** 2 * T - sigma * rho * W_T_tilde) ** 2 /  (2 * sigma ** 2 * T * (1 - rho ** 2)))/((K - x) * sigma * np.sqrt(T * (1 - rho ** 2 ) * 2 * np.pi))"
   ]
  },
  {
   "attachments": {},
   "cell_type": "markdown",
   "id": "dc755b70",
   "metadata": {},
   "source": [
    "*Test*"
   ]
  },
  {
   "cell_type": "code",
   "execution_count": 28,
   "id": "42822183",
   "metadata": {},
   "outputs": [],
   "source": [
    "#W_T_tilde = np.random.normal()\n",
    "W_T_tilde = -1.3\n",
    "#W_T_tilde = 1\n",
    "#W_T_tilde = 5\n",
    "#m = 0.0005 \n",
    "#m = 0.003\n",
    "m = 0.05"
   ]
  },
  {
   "cell_type": "code",
   "execution_count": 29,
   "id": "35d72913",
   "metadata": {},
   "outputs": [
    {
     "data": {
      "text/plain": [
       "0.44932896411722156"
      ]
     },
     "execution_count": 29,
     "metadata": {},
     "output_type": "execute_result"
    }
   ],
   "source": [
    "dP_dQ(mu_tilde, sigma_tilde, T, r, W_T_tilde)"
   ]
  },
  {
   "cell_type": "code",
   "execution_count": 30,
   "id": "7297bd06",
   "metadata": {},
   "outputs": [],
   "source": [
    "x_range = 100\n",
    "delta = 0.01\n",
    "x_call = np.arange(delta, x_range + delta, delta)\n",
    "x_put = np.arange(delta, K, delta)\n",
    "df_call = pd.DataFrame({ \"x\" : x_call, \"G(x)\" : np.zeros(len(x_call)), \"d/dx G(x)\" : np.zeros(len(x_call))})\n",
    "df_put = pd.DataFrame({ \"x\" : x_put, \"G(x)\" : np.zeros(len(x_put)), \"d/dx G(x)\" : np.zeros(len(x_put))})\n",
    "for i in range(len(x_call)):\n",
    "    df_call.at[i, \"G(x)\"] = G_call_basic(df_call.at[i, 'x'], mu, sigma, mu_tilde, sigma_tilde, r, T, K, S0, W_T_tilde, rho)\n",
    "    df_call.at[i, \"d/dx G(x)\"] = derivative_G_call_basic(df_call.at[i, 'x'], mu, sigma, mu_tilde, sigma_tilde, r, T, K, S0, W_T_tilde, rho)\n",
    "for i in range(len(x_put)):\n",
    "    df_put.at[i, \"G(x)\"] = G_put_basic(df_put.at[i, 'x'], mu, sigma, mu_tilde, sigma_tilde, r, T, K, S0, W_T_tilde, rho)\n",
    "    df_put.at[i, \"d/dx G(x)\"] = derivative_G_put_basic(df_put.at[i, 'x'], mu, sigma, mu_tilde, sigma_tilde, r, T, K, S0, W_T_tilde, rho)\n"
   ]
  },
  {
   "attachments": {},
   "cell_type": "markdown",
   "id": "14b0337f",
   "metadata": {},
   "source": [
    "**bez dP/dP**"
   ]
  },
  {
   "cell_type": "code",
   "execution_count": 15,
   "id": "52725935",
   "metadata": {},
   "outputs": [],
   "source": [
    "x_range = 500\n",
    "delta = 0.01\n",
    "x_call = np.arange(delta, x_range + delta, delta)\n",
    "x_put = np.arange(delta, K, delta)\n",
    "df_call = pd.DataFrame({ \"x\" : x_call, \"G(x)\" : np.zeros(len(x_call)), \"d/dx G(x)\" : np.zeros(len(x_call))})\n",
    "df_put = pd.DataFrame({ \"x\" : x_put, \"G(x)\" : np.zeros(len(x_put)), \"d/dx G(x)\" : np.zeros(len(x_put))})\n",
    "for i in range(len(x_call)):\n",
    "    df_call.at[i, \"G(x)\"] = G_call_basic_wo_const(df_call.at[i, 'x'], mu, sigma, mu_tilde, sigma_tilde, r, T, K, S0, W_T_tilde, rho)\n",
    "    df_call.at[i, \"d/dx G(x)\"] = derivative_G_call_basic_wo_const(df_call.at[i, 'x'], mu, sigma, mu_tilde, sigma_tilde, r, T, K, S0, W_T_tilde, rho)\n",
    "for i in range(len(x_put)):\n",
    "    df_put.at[i, \"G(x)\"] = G_put_basic_wo_const(df_put.at[i, 'x'], mu, sigma, mu_tilde, sigma_tilde, r, T, K, S0, W_T_tilde, rho)\n",
    "    df_put.at[i, \"d/dx G(x)\"] = derivative_G_put_basic_wo_const(df_put.at[i, 'x'], mu, sigma, mu_tilde, sigma_tilde, r, T, K, S0, W_T_tilde, rho)"
   ]
  },
  {
   "attachments": {},
   "cell_type": "markdown",
   "id": "170d563e",
   "metadata": {},
   "source": [
    "***numerical derivative***"
   ]
  },
  {
   "cell_type": "code",
   "execution_count": 31,
   "id": "188ce4c1",
   "metadata": {},
   "outputs": [],
   "source": [
    "df_call[\"num d/dx\"] = (df_call[\"G(x)\"].shift(-1)-df_call[\"G(x)\"])/delta\n",
    "df_put[\"num d/dx\"] = (df_put[\"G(x)\"].shift(-1)-df_put[\"G(x)\"])/delta"
   ]
  },
  {
   "attachments": {},
   "cell_type": "markdown",
   "id": "67149bbf",
   "metadata": {},
   "source": [
    "*test plot*"
   ]
  },
  {
   "cell_type": "code",
   "execution_count": 33,
   "id": "c6ad6359",
   "metadata": {},
   "outputs": [
    {
     "data": {
      "text/plain": [
       "<Axes: xlabel='x'>"
      ]
     },
     "execution_count": 33,
     "metadata": {},
     "output_type": "execute_result"
    },
    {
     "data": {
      "image/png": "[encoded data removed]",
      "text/plain": [
       "<Figure size 640x480 with 1 Axes>"
      ]
     },
     "metadata": {},
     "output_type": "display_data"
    },
    {
     "data": {
      "image/png": "[encoded data removed]",
      "text/plain": [
       "<Figure size 640x480 with 1 Axes>"
      ]
     },
     "metadata": {},
     "output_type": "display_data"
    },
    {
     "data": {
      "image/png": "[encoded data removed]",
      "text/plain": [
       "<Figure size 640x480 with 1 Axes>"
      ]
     },
     "metadata": {},
     "output_type": "display_data"
    },
    {
     "data": {
      "image/png": "[encoded data removed]",
      "text/plain": [
       "<Figure size 640x480 with 1 Axes>"
      ]
     },
     "metadata": {},
     "output_type": "display_data"
    }
   ],
   "source": [
    "df_call.plot(x = 'x', y = 1)\n",
    "df_call.plot(x = 'x', y = [2,3])\n",
    "df_put.plot(x = 'x', y = 1)\n",
    "df_put.plot(x = 'x', y = [2,3])"
   ]
  },
  {
   "attachments": {},
   "cell_type": "markdown",
   "id": "7475f5b2",
   "metadata": {},
   "source": [
    "Znajdowanie $x$ takiego, że $G'(x)=m$"
   ]
  },
  {
   "cell_type": "code",
   "execution_count": 37,
   "id": "8f707bbd",
   "metadata": {},
   "outputs": [],
   "source": [
    "def get_coefficients(m, mu, sigma, mu_tilde, sigma_tilde, r, T, K, S0, W_T_tilde, rho):\n",
    "    m_tilde = m / dP_dQ(mu_tilde, sigma_tilde, T, r, W_T_tilde)\n",
    "    a = 1\n",
    "    b = 2 * sigma ** 2 * T * (1 - rho ** 2 ) - 2 * np.log(S0) - 2 * mu * T + sigma ** 2 * T - 2 * rho * sigma * W_T_tilde\n",
    "    c = np.log(m_tilde * sigma * np.sqrt(2 * np.pi * T * (1 - rho ** 2))) * (2 * sigma ** 2 * T * (1 - rho ** 2 )) + (-np.log(S0) - mu * T + sigma ** 2 * T * 0.5 - rho * sigma * W_T_tilde) ** 2 \n",
    "    return a, b, c\n",
    "\n",
    "def get_delta(a, b, c):\n",
    "    return b ** 2 - 4 * a * c\n",
    "\n",
    "def find_x_analytical(m, W_T_tilde, mu, sigma, mu_tilde, sigma_tilde, r, T, K, S0,  rho, type = 'call', grid_step = 0.01):\n",
    "    coef = get_coefficients(m, mu, sigma, mu_tilde, sigma_tilde, r, T, K, S0, W_T_tilde, rho)\n",
    "    delta = get_delta(*coef)\n",
    "    if delta < 0:\n",
    "        #print('DELTA < 0')\n",
    "        return (0, \"ujemna delta, m za duże\")\n",
    "    elif delta == 0:\n",
    "        #print('DELTA RÓWNA 0')\n",
    "        if type == 'call':\n",
    "            x = (np.exp( -1 * coef[1] / (2 * coef[0])) - K)\n",
    "        else:\n",
    "            x = -(np.exp( -1 * coef[1] / (2 * coef[0])) - K)\n",
    "    else:\n",
    "        ## Delta daje dwa rozwy, ale biorę ten większy, bo ma być nad funkcją\n",
    "        if type == 'call':\n",
    "            #x = ( (np.exp(( -1 * coef[1] - np.sqrt(delta)) / (2 * coef[0] )) - K),(np.exp(( -1 * coef[1] + np.sqrt(delta)) / (2 * coef[0] )) - K) )\n",
    "            x = np.exp(( -1 * coef[1] + np.sqrt(delta)) / (2 * coef[0] )) - K\n",
    "        else:\n",
    "            #x = ( -(np.exp(( -1 * coef[1] + np.sqrt(delta)) / (2 * coef[0] )) - K), -(np.exp(( -1 * coef[1] - np.sqrt(delta)) / (2 * coef[0] )) - K) )\n",
    "            x = -np.exp(( -1 * coef[1] - np.sqrt(delta)) / (2 * coef[0] )) + K\n",
    "    if x < 0:\n",
    "        return (0, \"x prosta przechodzi przez zero, bo styczna jest pod wykresem funkcji\")\n",
    "    # sprawdzenie czy prosta styczna przechodzi jest cały czas nad\n",
    "    if type == 'call':\n",
    "        b = G_call_basic(x, mu, sigma, mu_tilde, sigma_tilde, r, T, K, S0, W_T_tilde, rho) - m * x\n",
    "        if G_call_basic(grid_step, mu, sigma, mu_tilde, sigma_tilde, r, T, K, S0, W_T_tilde, rho) -m * grid_step - b > 0:\n",
    "            return (0, \"prosta poniżej G(x), więc przechodzi przez 0\")\n",
    "    else:\n",
    "        b = G_put_basic(x, mu, sigma, mu_tilde, sigma_tilde, r, T, K, S0, W_T_tilde, rho) - m * x\n",
    "        if  G_put_basic(grid_step, mu, sigma, mu_tilde, sigma_tilde, r, T, K, S0, W_T_tilde, rho) -m * grid_step - b > 0:\n",
    "            return (0, \"prosta poniżej G(x), więc przechodzi przez 0\")\n",
    "\n",
    "    return (x, \"jest dobrze\")\n"
   ]
  },
  {
   "cell_type": "code",
   "execution_count": 38,
   "id": "fc3affa4",
   "metadata": {},
   "outputs": [
    {
     "data": {
      "text/plain": [
       "(0.7710897842763274, 'jest dobrze')"
      ]
     },
     "execution_count": 38,
     "metadata": {},
     "output_type": "execute_result"
    }
   ],
   "source": [
    "find_x_analytical(m, W_T_tilde, mu, sigma, mu_tilde, sigma_tilde, r, T, K, S0, rho, type = 'call', grid_step = 0.01)"
   ]
  },
  {
   "cell_type": "code",
   "execution_count": 39,
   "id": "48dd74b0",
   "metadata": {},
   "outputs": [
    {
     "data": {
      "text/plain": [
       "(2.9721777238152356, 'jest dobrze')"
      ]
     },
     "execution_count": 39,
     "metadata": {},
     "output_type": "execute_result"
    }
   ],
   "source": [
    "find_x_analytical(m, W_T_tilde, mu, sigma, mu_tilde, sigma_tilde, r, T, K, S0, rho, type = 'put', grid_step = 0.01)"
   ]
  },
  {
   "cell_type": "code",
   "execution_count": 40,
   "id": "cdcb4ba0",
   "metadata": {},
   "outputs": [],
   "source": [
    "def plot_line(x, m, mu, sigma, mu_tilde, sigma_tilde, r, T, K, S0, W_T_tilde, rho, type = 'call', grid_step = 0.1, x_range = 50, kind_of_plot = 'diff'):\n",
    "    if type == 'put' and  x_range > K:\n",
    "        x_range = K\n",
    "    x_grid = np.arange(grid_step, x_range, grid_step)\n",
    "    df = pd.DataFrame({ \"x\" : x_grid, \"G(x)\" : np.zeros(len(x_grid)), \"Line\" : np.zeros(len(x_grid)), \"Diff\" : np.zeros(len(x_grid))})\n",
    "    for i in range(len(x_grid)):\n",
    "        if type == 'call':\n",
    "            b = G_call_basic(x, mu, sigma, mu_tilde, sigma_tilde, r, T, K, S0, W_T_tilde, rho) - m * x\n",
    "            df.at[i, \"G(x)\"] = G_call_basic(df.at[i, 'x'], mu, sigma, mu_tilde, sigma_tilde, r, T, K, S0, W_T_tilde, rho)\n",
    "            df.at[i, \"Line\"] = m * df.at[i, 'x'] + b\n",
    "            df.at[i, \"Diff\"] = df.at[i, \"Line\"] - df.at[i, \"G(x)\"] \n",
    "\n",
    "        else:\n",
    "            b = G_put_basic(x, mu, sigma, mu_tilde, sigma_tilde, r, T, K, S0, W_T_tilde, rho) - m * x\n",
    "            df.at[i, \"G(x)\"] = G_put_basic(df.at[i, 'x'], mu, sigma, mu_tilde, sigma_tilde, r, T, K, S0, W_T_tilde, rho)\n",
    "            df.at[i, \"Line\"] = m * df.at[i, 'x'] + b\n",
    "            df.at[i, \"Diff\"] = df.at[i, \"Line\"] - df.at[i, \"G(x)\"] \n",
    "    #df.plot(x = 'x', y = [1,2])\n",
    "    if kind_of_plot == 'diff':\n",
    "        df.plot(x = 'x', y = [3])\n",
    "    else:\n",
    "        df.plot(x = 'x', y = [1,2])\n",
    "    return 0\n",
    "    \n",
    "       \n"
   ]
  },
  {
   "cell_type": "code",
   "execution_count": null,
   "id": "835cfa6a",
   "metadata": {},
   "outputs": [],
   "source": [
    "plot_line(10.86891998098762, m, mu, sigma, mu_tilde, sigma_tilde, r, T, K, S0, W_T_tilde, rho, type = 'call', grid_step = 0.1, x_range = 20, kind_of_plot = 'diff')\n",
    "plot_line(10.86891998098762, m, mu, sigma, mu_tilde, sigma_tilde, r, T, K, S0, W_T_tilde, rho, type = 'call', grid_step = 0.1, x_range = 20, kind_of_plot = \"XD\")"
   ]
  },
  {
   "cell_type": "code",
   "execution_count": 70,
   "id": "9d5c723f",
   "metadata": {},
   "outputs": [],
   "source": [
    "n = 10 ** 4\n",
    "W_T_tilde_vec = np.random.normal(size = n)\n",
    "m_vec = np.arange(0.01,0.15,0.01)\n",
    "#df_m = pd.DataFrame({\"m\": m_vec, \"Mean\": None, \"Jest dobrze\" : None, \"Zła delta\" : None , \"Styczna pod\" : None })\n",
    "df_m = pd.DataFrame({\"m\": m_vec, \"Mean\": None})"
   ]
  },
  {
   "cell_type": "code",
   "execution_count": 71,
   "id": "65d01f03",
   "metadata": {},
   "outputs": [],
   "source": [
    "df = pd.DataFrame({ \"W_T_tilde\" : W_T_tilde_vec, \"x\" : 0, \"powód\" : 0})"
   ]
  },
  {
   "cell_type": "code",
   "execution_count": 72,
   "id": "30ae354e",
   "metadata": {},
   "outputs": [],
   "source": [
    "for j in range(df_m.shape[0]):\n",
    "    for i in range(df.shape[0]):\n",
    "        df.iloc[i,1] = find_x_analytical(df_m.iloc[j,0], df.iloc[i,0], mu, sigma, mu_tilde, sigma_tilde, r, T, K, S0, rho, type = 'call', grid_step = 0.01)[0]\n",
    "    df_m.iloc[j, 1] = df['x'].mean() \n",
    "    "
   ]
  },
  {
   "cell_type": "code",
   "execution_count": 73,
   "id": "94e84adb",
   "metadata": {},
   "outputs": [
    {
     "data": {
      "text/html": [
       "<div>\n",
       "<style scoped>\n",
       "    .dataframe tbody tr th:only-of-type {\n",
       "        vertical-align: middle;\n",
       "    }\n",
       "\n",
       "    .dataframe tbody tr th {\n",
       "        vertical-align: top;\n",
       "    }\n",
       "\n",
       "    .dataframe thead th {\n",
       "        text-align: right;\n",
       "    }\n",
       "</style>\n",
       "<table border=\"1\" class=\"dataframe\">\n",
       "  <thead>\n",
       "    <tr style=\"text-align: right;\">\n",
       "      <th></th>\n",
       "      <th>m</th>\n",
       "      <th>Mean</th>\n",
       "    </tr>\n",
       "  </thead>\n",
       "  <tbody>\n",
       "    <tr>\n",
       "      <th>0</th>\n",
       "      <td>0.01</td>\n",
       "      <td>47.583825</td>\n",
       "    </tr>\n",
       "    <tr>\n",
       "      <th>1</th>\n",
       "      <td>0.02</td>\n",
       "      <td>46.117696</td>\n",
       "    </tr>\n",
       "    <tr>\n",
       "      <th>2</th>\n",
       "      <td>0.03</td>\n",
       "      <td>45.157945</td>\n",
       "    </tr>\n",
       "    <tr>\n",
       "      <th>3</th>\n",
       "      <td>0.04</td>\n",
       "      <td>39.686635</td>\n",
       "    </tr>\n",
       "    <tr>\n",
       "      <th>4</th>\n",
       "      <td>0.05</td>\n",
       "      <td>22.122949</td>\n",
       "    </tr>\n",
       "    <tr>\n",
       "      <th>5</th>\n",
       "      <td>0.06</td>\n",
       "      <td>13.616483</td>\n",
       "    </tr>\n",
       "    <tr>\n",
       "      <th>6</th>\n",
       "      <td>0.07</td>\n",
       "      <td>8.629628</td>\n",
       "    </tr>\n",
       "    <tr>\n",
       "      <th>7</th>\n",
       "      <td>0.08</td>\n",
       "      <td>5.586212</td>\n",
       "    </tr>\n",
       "    <tr>\n",
       "      <th>8</th>\n",
       "      <td>0.09</td>\n",
       "      <td>3.832954</td>\n",
       "    </tr>\n",
       "    <tr>\n",
       "      <th>9</th>\n",
       "      <td>0.10</td>\n",
       "      <td>2.693409</td>\n",
       "    </tr>\n",
       "    <tr>\n",
       "      <th>10</th>\n",
       "      <td>0.11</td>\n",
       "      <td>1.950556</td>\n",
       "    </tr>\n",
       "    <tr>\n",
       "      <th>11</th>\n",
       "      <td>0.12</td>\n",
       "      <td>1.41966</td>\n",
       "    </tr>\n",
       "    <tr>\n",
       "      <th>12</th>\n",
       "      <td>0.13</td>\n",
       "      <td>0.904373</td>\n",
       "    </tr>\n",
       "    <tr>\n",
       "      <th>13</th>\n",
       "      <td>0.14</td>\n",
       "      <td>0.693371</td>\n",
       "    </tr>\n",
       "  </tbody>\n",
       "</table>\n",
       "</div>"
      ],
      "text/plain": [
       "       m       Mean\n",
       "0   0.01  47.583825\n",
       "1   0.02  46.117696\n",
       "2   0.03  45.157945\n",
       "3   0.04  39.686635\n",
       "4   0.05  22.122949\n",
       "5   0.06  13.616483\n",
       "6   0.07   8.629628\n",
       "7   0.08   5.586212\n",
       "8   0.09   3.832954\n",
       "9   0.10   2.693409\n",
       "10  0.11   1.950556\n",
       "11  0.12    1.41966\n",
       "12  0.13   0.904373\n",
       "13  0.14   0.693371"
      ]
     },
     "execution_count": 73,
     "metadata": {},
     "output_type": "execute_result"
    }
   ],
   "source": [
    "df_m"
   ]
  },
  {
   "cell_type": "code",
   "execution_count": 74,
   "metadata": {},
   "outputs": [
    {
     "data": {
      "text/plain": [
       "<Axes: xlabel='m'>"
      ]
     },
     "execution_count": 74,
     "metadata": {},
     "output_type": "execute_result"
    },
    {
     "data": {
      "image/png": "[encoded data removed]",
      "text/plain": [
       "<Figure size 640x480 with 1 Axes>"
      ]
     },
     "metadata": {},
     "output_type": "display_data"
    }
   ],
   "source": [
    "df_m.plot(x = 'm', y = 'Mean')"
   ]
  },
  {
   "attachments": {},
   "cell_type": "markdown",
   "id": "ab309832",
   "metadata": {},
   "source": [
    "**Zmiana rho**"
   ]
  },
  {
   "cell_type": "code",
   "execution_count": 75,
   "id": "99c15006",
   "metadata": {},
   "outputs": [],
   "source": [
    "rho = 0.3"
   ]
  },
  {
   "cell_type": "code",
   "execution_count": 76,
   "id": "47c97133",
   "metadata": {},
   "outputs": [],
   "source": [
    "for j in range(df_m.shape[0]):\n",
    "    for i in range(df.shape[0]):\n",
    "        df.iloc[i,1] = find_x_analytical(df_m.iloc[j,0], df.iloc[i,0], mu, sigma, mu_tilde, sigma_tilde, r, T, K, S0, rho, type = 'call', grid_step = 0.01)[0]\n",
    "    df_m.iloc[j, 1] = df['x'].mean() "
   ]
  },
  {
   "cell_type": "code",
   "execution_count": 78,
   "id": "4997019d",
   "metadata": {},
   "outputs": [
    {
     "data": {
      "text/html": [
       "<div>\n",
       "<style scoped>\n",
       "    .dataframe tbody tr th:only-of-type {\n",
       "        vertical-align: middle;\n",
       "    }\n",
       "\n",
       "    .dataframe tbody tr th {\n",
       "        vertical-align: top;\n",
       "    }\n",
       "\n",
       "    .dataframe thead th {\n",
       "        text-align: right;\n",
       "    }\n",
       "</style>\n",
       "<table border=\"1\" class=\"dataframe\">\n",
       "  <thead>\n",
       "    <tr style=\"text-align: right;\">\n",
       "      <th></th>\n",
       "      <th>m</th>\n",
       "      <th>Mean</th>\n",
       "    </tr>\n",
       "  </thead>\n",
       "  <tbody>\n",
       "    <tr>\n",
       "      <th>0</th>\n",
       "      <td>0.01</td>\n",
       "      <td>63.766275</td>\n",
       "    </tr>\n",
       "    <tr>\n",
       "      <th>1</th>\n",
       "      <td>0.02</td>\n",
       "      <td>39.107451</td>\n",
       "    </tr>\n",
       "    <tr>\n",
       "      <th>2</th>\n",
       "      <td>0.03</td>\n",
       "      <td>25.148149</td>\n",
       "    </tr>\n",
       "    <tr>\n",
       "      <th>3</th>\n",
       "      <td>0.04</td>\n",
       "      <td>16.986175</td>\n",
       "    </tr>\n",
       "    <tr>\n",
       "      <th>4</th>\n",
       "      <td>0.05</td>\n",
       "      <td>11.740737</td>\n",
       "    </tr>\n",
       "    <tr>\n",
       "      <th>5</th>\n",
       "      <td>0.06</td>\n",
       "      <td>8.500629</td>\n",
       "    </tr>\n",
       "    <tr>\n",
       "      <th>6</th>\n",
       "      <td>0.07</td>\n",
       "      <td>6.340472</td>\n",
       "    </tr>\n",
       "    <tr>\n",
       "      <th>7</th>\n",
       "      <td>0.08</td>\n",
       "      <td>4.737566</td>\n",
       "    </tr>\n",
       "    <tr>\n",
       "      <th>8</th>\n",
       "      <td>0.09</td>\n",
       "      <td>3.660658</td>\n",
       "    </tr>\n",
       "    <tr>\n",
       "      <th>9</th>\n",
       "      <td>0.10</td>\n",
       "      <td>2.839973</td>\n",
       "    </tr>\n",
       "    <tr>\n",
       "      <th>10</th>\n",
       "      <td>0.11</td>\n",
       "      <td>2.260884</td>\n",
       "    </tr>\n",
       "    <tr>\n",
       "      <th>11</th>\n",
       "      <td>0.12</td>\n",
       "      <td>1.827387</td>\n",
       "    </tr>\n",
       "    <tr>\n",
       "      <th>12</th>\n",
       "      <td>0.13</td>\n",
       "      <td>1.503961</td>\n",
       "    </tr>\n",
       "    <tr>\n",
       "      <th>13</th>\n",
       "      <td>0.14</td>\n",
       "      <td>1.266055</td>\n",
       "    </tr>\n",
       "  </tbody>\n",
       "</table>\n",
       "</div>"
      ],
      "text/plain": [
       "       m       Mean\n",
       "0   0.01  63.766275\n",
       "1   0.02  39.107451\n",
       "2   0.03  25.148149\n",
       "3   0.04  16.986175\n",
       "4   0.05  11.740737\n",
       "5   0.06   8.500629\n",
       "6   0.07   6.340472\n",
       "7   0.08   4.737566\n",
       "8   0.09   3.660658\n",
       "9   0.10   2.839973\n",
       "10  0.11   2.260884\n",
       "11  0.12   1.827387\n",
       "12  0.13   1.503961\n",
       "13  0.14   1.266055"
      ]
     },
     "execution_count": 78,
     "metadata": {},
     "output_type": "execute_result"
    }
   ],
   "source": [
    "df_m"
   ]
  },
  {
   "cell_type": "code",
   "execution_count": 77,
   "id": "1d380584",
   "metadata": {},
   "outputs": [
    {
     "data": {
      "text/plain": [
       "<Axes: xlabel='m'>"
      ]
     },
     "execution_count": 77,
     "metadata": {},
     "output_type": "execute_result"
    },
    {
     "data": {
      "image/png": "[encoded data removed]",
      "text/plain": [
       "<Figure size 640x480 with 1 Axes>"
      ]
     },
     "metadata": {},
     "output_type": "display_data"
    }
   ],
   "source": [
    "df_m.plot(x = 'm', y = 'Mean')"
   ]
  }
 ],
 "metadata": {
  "kernelspec": {
   "display_name": "Python 3",
   "language": "python",
   "name": "python3"
  },
  "language_info": {
   "codemirror_mode": {
    "name": "ipython",
    "version": 3
   },
   "file_extension": ".py",
   "mimetype": "text/x-python",
   "name": "python",
   "nbconvert_exporter": "python",
   "pygments_lexer": "ipython3",
   "version": "3.11.3"
  },
  "vscode": {
   "interpreter": {
    "hash": "ce8a57943e983d567ae9060fe6335504910fb866712b8310a04a22009cdb9aa7"
   }
  }
 },
 "nbformat": 4,
 "nbformat_minor": 5
}
