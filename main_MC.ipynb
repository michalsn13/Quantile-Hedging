{
 "cells": [
  {
   "cell_type": "code",
   "execution_count": null,
   "id": "40658787",
   "metadata": {},
   "outputs": [],
   "source": [
    "from underlying import Underlying\n",
    "from option import Option, Vanilla\n",
    "from trader import Trader\n",
    "\n",
    "import matplotlib.pyplot as plt\n",
    "from tqdm import tqdm\n",
    "from quantile_hedging_calculator import *\n",
    "import numpy as np\n",
    "import pandas as pd"
   ]
  },
  {
   "cell_type": "code",
   "execution_count": null,
   "id": "be2e5a0c",
   "metadata": {},
   "outputs": [],
   "source": [
    "def payoff_call(X, K):\n",
    "    return np.maximum(X.iloc[:,-1]- K, 0)\n",
    "def payoff_put(X, K):\n",
    "    return np.maximum(K - X.iloc[:,-1], 0)"
   ]
  },
  {
   "cell_type": "code",
   "execution_count": null,
   "id": "59ebe310",
   "metadata": {},
   "outputs": [],
   "source": [
    "mu = 0.01\n",
    "sigma =  0.11\n",
    "r = 0.05\n",
    "T = 1\n",
    "X0 = 100\n",
    "repeat = 100"
   ]
  },
  {
   "cell_type": "markdown",
   "id": "167f3c0b",
   "metadata": {},
   "source": [
    "## Full hedging - Vanilla Call"
   ]
  },
  {
   "cell_type": "code",
   "execution_count": null,
   "id": "9449fcdb",
   "metadata": {},
   "outputs": [],
   "source": [
    "K = 80"
   ]
  },
  {
   "cell_type": "code",
   "execution_count": null,
   "id": "34cb4e4b",
   "metadata": {},
   "outputs": [],
   "source": [
    "underlying = Underlying(mu, sigma, r, 250)"
   ]
  },
  {
   "cell_type": "code",
   "execution_count": null,
   "id": "6c5da668",
   "metadata": {},
   "outputs": [],
   "source": [
    "_, reality = underlying.simulate_P(repeat, T)"
   ]
  },
  {
   "cell_type": "code",
   "execution_count": null,
   "id": "9bab3a47",
   "metadata": {},
   "outputs": [],
   "source": [
    "vanilla_call = Option(underlying, lambda X: payoff_call(X, K), T)"
   ]
  },
  {
   "cell_type": "code",
   "execution_count": null,
   "id": "f8c2134a",
   "metadata": {},
   "outputs": [],
   "source": [
    "BS_price_call = vanilla_call.get_MC_delta(X0, 0)\n",
    "BS_price_call"
   ]
  },
  {
   "cell_type": "code",
   "execution_count": null,
   "id": "6eaed68c",
   "metadata": {},
   "outputs": [],
   "source": [
    "call_vanilla = Vanilla(underlying, K, T, True)\n",
    "print(call_vanilla.get_delta(X0))"
   ]
  },
  {
   "cell_type": "code",
   "execution_count": null,
   "id": "325cde0f",
   "metadata": {
    "scrolled": false
   },
   "outputs": [],
   "source": [
    "money_time_call = pd.DataFrame(np.zeros(reality.shape))\n",
    "delta_time_call = pd.DataFrame(np.zeros(reality.shape))\n",
    "for i in tqdm(range(repeat)):\n",
    "    trader = Trader(initial_capital = BS_price_call)\n",
    "    money, delta, _ = trader.simulate_hedging(vanilla_call, X0*reality.iloc[[i],:], update_freq = 1)\n",
    "    money_time_call.loc[i] = money\n",
    "    delta_time_call.loc[i] = delta"
   ]
  },
  {
   "cell_type": "code",
   "execution_count": null,
   "id": "efb8aae2",
   "metadata": {
    "scrolled": false
   },
   "outputs": [],
   "source": [
    "(X0*reality).T.plot(legend = False)"
   ]
  },
  {
   "cell_type": "code",
   "execution_count": null,
   "id": "29ad246c",
   "metadata": {
    "scrolled": false
   },
   "outputs": [],
   "source": [
    "(money_time_call).T.plot(legend = False)"
   ]
  },
  {
   "cell_type": "code",
   "execution_count": null,
   "id": "69492cdf",
   "metadata": {
    "scrolled": false
   },
   "outputs": [],
   "source": [
    "(delta_time_call).T.plot(legend = False)"
   ]
  },
  {
   "cell_type": "code",
   "execution_count": null,
   "id": "f0f04c5a",
   "metadata": {
    "scrolled": false
   },
   "outputs": [],
   "source": [
    "plt.hist(money_time_call.iloc[:,-1])"
   ]
  },
  {
   "cell_type": "markdown",
   "id": "7c2d30cd",
   "metadata": {},
   "source": [
    "## Full hedging - Vanilla Put"
   ]
  },
  {
   "cell_type": "code",
   "execution_count": null,
   "id": "66e18eac",
   "metadata": {},
   "outputs": [],
   "source": [
    "K = 120"
   ]
  },
  {
   "cell_type": "code",
   "execution_count": null,
   "id": "c5cc48f9",
   "metadata": {},
   "outputs": [],
   "source": [
    "underlying = Underlying(mu, sigma, r, 250)"
   ]
  },
  {
   "cell_type": "code",
   "execution_count": null,
   "id": "a2af7d7d",
   "metadata": {},
   "outputs": [],
   "source": [
    "_, reality = underlying.simulate_P(repeat, T)"
   ]
  },
  {
   "cell_type": "code",
   "execution_count": null,
   "id": "77ac5299",
   "metadata": {},
   "outputs": [],
   "source": [
    "vanilla_put = Option(underlying, lambda X: payoff_put(X, K), T)"
   ]
  },
  {
   "cell_type": "code",
   "execution_count": null,
   "id": "8af2eaf6",
   "metadata": {},
   "outputs": [],
   "source": [
    "BS_price_put = vanilla_put.get_MC_price(X0, 0)\n",
    "BS_price_put"
   ]
  },
  {
   "cell_type": "code",
   "execution_count": null,
   "id": "1463ec7b",
   "metadata": {
    "scrolled": false
   },
   "outputs": [],
   "source": [
    "money_time_put = pd.DataFrame(np.zeros(reality.shape))\n",
    "delta_time_put = pd.DataFrame(np.zeros(reality.shape))\n",
    "for i in tqdm(range(repeat)):\n",
    "    trader = Trader(initial_capital = BS_price_put)\n",
    "    money, delta, _ = trader.simulate_hedging(vanilla_put, X0*reality.iloc[[i],:], update_freq = 1)\n",
    "    money_time_put.loc[i] = money\n",
    "    delta_time_put.loc[i] = delta"
   ]
  },
  {
   "cell_type": "code",
   "execution_count": null,
   "id": "8757daea",
   "metadata": {
    "scrolled": false
   },
   "outputs": [],
   "source": [
    "(X0*reality).T.plot(legend = False)"
   ]
  },
  {
   "cell_type": "code",
   "execution_count": null,
   "id": "23a34080",
   "metadata": {
    "scrolled": false
   },
   "outputs": [],
   "source": [
    "(money_time_put).T.plot(legend = False)"
   ]
  },
  {
   "cell_type": "code",
   "execution_count": null,
   "id": "76cbe5d2",
   "metadata": {
    "scrolled": false
   },
   "outputs": [],
   "source": [
    "(delta_time_put).T.plot(legend = False)"
   ]
  },
  {
   "cell_type": "code",
   "execution_count": null,
   "id": "66bc61c5",
   "metadata": {
    "scrolled": false
   },
   "outputs": [],
   "source": [
    "plt.hist(money_time_put.iloc[:,-1])"
   ]
  },
  {
   "cell_type": "markdown",
   "id": "e8919d46",
   "metadata": {},
   "source": [
    "## Quantile hedging with half of required initial capital- Vanilla Call"
   ]
  },
  {
   "cell_type": "code",
   "execution_count": null,
   "id": "e00ada67",
   "metadata": {},
   "outputs": [],
   "source": [
    "K = 80"
   ]
  },
  {
   "cell_type": "code",
   "execution_count": null,
   "id": "2d63d710",
   "metadata": {},
   "outputs": [],
   "source": [
    "underlying = Underlying(mu, sigma, r, 250)"
   ]
  },
  {
   "cell_type": "code",
   "execution_count": null,
   "id": "3974b182",
   "metadata": {},
   "outputs": [],
   "source": [
    "_, reality = underlying.simulate_P(repeat, T)"
   ]
  },
  {
   "cell_type": "code",
   "execution_count": null,
   "id": "01d9f236",
   "metadata": {
    "scrolled": false
   },
   "outputs": [],
   "source": [
    "money_time_call = pd.DataFrame(np.zeros(reality.shape))\n",
    "delta_time_call = pd.DataFrame(np.zeros(reality.shape))\n",
    "for i in tqdm(range(repeat)):\n",
    "    trader = Trader(initial_capital = BS_price_call/2)\n",
    "    money, delta, success_prob = trader.simulate_hedging(vanilla_call, X0*reality.iloc[[i],:], update_freq = 1, limited_capital = True)\n",
    "    money_time_call.loc[i] = money\n",
    "    delta_time_call.loc[i] = delta\n",
    "print(f'Success probability with initial capital={BS_price_call/2:.2f} is: {success_prob}')"
   ]
  },
  {
   "cell_type": "code",
   "execution_count": null,
   "id": "76e4178a",
   "metadata": {
    "scrolled": false
   },
   "outputs": [],
   "source": [
    "(X0*reality).T.plot(legend = False)"
   ]
  },
  {
   "cell_type": "code",
   "execution_count": null,
   "id": "114a71c1",
   "metadata": {
    "scrolled": false
   },
   "outputs": [],
   "source": [
    "(money_time_call).T.plot(legend = False)"
   ]
  },
  {
   "cell_type": "code",
   "execution_count": null,
   "id": "426b9806",
   "metadata": {
    "scrolled": false
   },
   "outputs": [],
   "source": [
    "(delta_time_call).T.plot(legend = False)"
   ]
  },
  {
   "cell_type": "code",
   "execution_count": null,
   "id": "c74cd224",
   "metadata": {
    "scrolled": false
   },
   "outputs": [],
   "source": [
    "plt.hist(money_time_call.iloc[:,-1])"
   ]
  },
  {
   "cell_type": "code",
   "execution_count": null,
   "id": "7bb44864",
   "metadata": {},
   "outputs": [],
   "source": [
    "print(f'Empiric success probability with initial capital={BS_price_call/2:.2f} is: {(money_time_call.iloc[:,-1] >= -0.1*BS_price_call/2).mean()}')"
   ]
  },
  {
   "cell_type": "markdown",
   "id": "e44dfde8",
   "metadata": {},
   "source": [
    "## Quantile hedging with half of required initial capital- Vanilla Put"
   ]
  },
  {
   "cell_type": "code",
   "execution_count": null,
   "id": "3abdf710",
   "metadata": {},
   "outputs": [],
   "source": [
    "K = 120"
   ]
  },
  {
   "cell_type": "code",
   "execution_count": null,
   "id": "d4af25d0",
   "metadata": {},
   "outputs": [],
   "source": [
    "underlying = Underlying(mu, sigma, r, 250)"
   ]
  },
  {
   "cell_type": "code",
   "execution_count": null,
   "id": "65a5013e",
   "metadata": {},
   "outputs": [],
   "source": [
    "_, reality = underlying.simulate_P(repeat, T)"
   ]
  },
  {
   "cell_type": "code",
   "execution_count": null,
   "id": "db4ea0c8",
   "metadata": {
    "scrolled": false
   },
   "outputs": [],
   "source": [
    "money_time_put = pd.DataFrame(np.zeros(reality.shape))\n",
    "delta_time_put = pd.DataFrame(np.zeros(reality.shape))\n",
    "for i in tqdm(range(repeat)):\n",
    "    trader = Trader(initial_capital = BS_price_put/2)\n",
    "    money, delta, success_prob = trader.simulate_hedging(vanilla_put, X0*reality.iloc[[i],:], update_freq = 1, limited_capital = True)\n",
    "    money_time_put.loc[i] = money\n",
    "    delta_time_put.loc[i] = delta\n",
    "print(f'Success probability with initial capital={BS_price_put/2:.2f} is: {success_prob}')"
   ]
  },
  {
   "cell_type": "code",
   "execution_count": null,
   "id": "803d40a9",
   "metadata": {
    "scrolled": false
   },
   "outputs": [],
   "source": [
    "(X0*reality).T.plot(legend = False)"
   ]
  },
  {
   "cell_type": "code",
   "execution_count": null,
   "id": "5ecb06ff",
   "metadata": {
    "scrolled": false
   },
   "outputs": [],
   "source": [
    "(money_time_put).T.plot(legend = False)"
   ]
  },
  {
   "cell_type": "code",
   "execution_count": null,
   "id": "21f65908",
   "metadata": {
    "scrolled": false
   },
   "outputs": [],
   "source": [
    "(delta_time_put).T.plot(legend = False)"
   ]
  },
  {
   "cell_type": "code",
   "execution_count": null,
   "id": "7a4f5091",
   "metadata": {
    "scrolled": false
   },
   "outputs": [],
   "source": [
    "plt.hist(money_time_put.iloc[:,-1])"
   ]
  },
  {
   "cell_type": "code",
   "execution_count": null,
   "id": "9c729e60",
   "metadata": {},
   "outputs": [],
   "source": [
    "print(f'Empiric success probability with initial capital={BS_price_put/2:.2f} is: {(money_time_put.iloc[:,-1] >= -0.1*BS_price_put/2).mean()}')"
   ]
  },
  {
   "cell_type": "code",
   "execution_count": null,
   "id": "e2c2decc",
   "metadata": {},
   "outputs": [],
   "source": []
  },
  {
   "cell_type": "code",
   "execution_count": null,
   "id": "f0db480f",
   "metadata": {},
   "outputs": [],
   "source": []
  },
  {
   "cell_type": "code",
   "execution_count": null,
   "id": "8ed5688f",
   "metadata": {},
   "outputs": [],
   "source": []
  }
 ],
 "metadata": {
  "kernelspec": {
   "display_name": "Python 3 (ipykernel)",
   "language": "python",
   "name": "python3"
  },
  "language_info": {
   "codemirror_mode": {
    "name": "ipython",
    "version": 3
   },
   "file_extension": ".py",
   "mimetype": "text/x-python",
   "name": "python",
   "nbconvert_exporter": "python",
   "pygments_lexer": "ipython3",
   "version": "3.9.13"
  }
 },
 "nbformat": 4,
 "nbformat_minor": 5
}
