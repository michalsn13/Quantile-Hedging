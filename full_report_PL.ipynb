{
 "cells": [
  {
   "cell_type": "markdown",
   "id": "b49921b5",
   "metadata": {},
   "source": [
    "# Quantile Hedging\n",
    "### Przemysław Adamski, Michał Dąbrowski, Wiktor Jacaszek\n",
    "\n",
    "## Wprowadzenie\n",
    "Celem poniższego projektu jest omówienie projektu wykonanego w ramach przedmiotu Inżynieria finansowa 2 na Uniwersytecie Wrocławskim. Polegał on na omówieniu i zaimplementowaniu do zagadnienia Quantile Hedging w zadanym świecie. Poniżej znajduje się wprowadzenie oznaczeń aktywów, które będą dalej stosowane w projekcie.\n",
    "\n",
    "$$ \\begin{align*} \n",
    "dS_t &=  \\mu S_tdt + \\sigma S_tdW_t, & S_0 &= 100, \\\\ \n",
    "dX_t &=  \\widetilde{\\mu} X_tdt + \\widetilde{\\sigma} X_td\\widetilde{W_t}, & X_0 &= 100, \\\\ \n",
    "dB_t &=  rB_tdt, & B_0 &= 1, \\\\ \n",
    "\\end{align*}$$\n",
    "takie, że $\\{(W_t, \\widetilde{W_t}):t \\geq 0\\}$ jest dwuwymiarowym ruchem Browna ze stałą korelacją $\\rho$. Wobec czego procesy stochastyczne $S_t $oraz $W_t$, są skorelowanymi geometrycznymi ruchami Browna. Wobec czego zadany świat jest opisywany przez model Blacka-Scholesa. Główną osią badań projektu będzie badanie klasycznych opcji call i put, na aktywo $S$ o cenie strike $K$ z momentem zapadania $T = 1.$ Quantile hedging polega na próbie zabezpieczenia danych opcji z kapitałem początkowym $V \\leq V^{BS},$ gdzie $V^{BS}$ to cena opcji w modelu Blacka-Scholesa. W dalszej części będziemy oznaczać przez parametr $\\alpha$ stosunek $\\frac{V}{V^{BS}}$  \n",
    "Naszym zadaniem będzie maksymalizowanie pewnych funkcji celu:\n",
    "1. $\\mathbb{E} \\left[ \\mathbb{1}_{H \\leq V_T} \\right] = \\mathbb{P} \\left [ \\text{Będziemy w stanie zabezpieczyć opcję} \\right] $\n",
    "2. $\\mathbb{E} \\left[ \\mathbb{1}_{H \\leq V_T}  + \\frac{V_T}{H} \\mathbb{1}_{H > V_T} \\right]$,\n",
    "gdzie $H$ jest wartością wypłaty danej opcji w momencie $T$.\n",
    "\n",
    "Warto zwrócić uwagę, że obie te funkcje są ograniczone z góry przez 1.\n",
    "\n",
    "Główną ideą hedgingu kwantylowego, jest próba zabezpieczenia opcji z mniejszą ilością kapitału, dzięki czemu będziemy w stanie ją zabezpieczyć na pewnym poziomie istotności. Możliwe, że w takim przypadku dodaniem niewielkiej niepewności, będziemy w stanie więcej zarobić i być bardziej konkurencyjni na rynku. Dodatkowo w świecie rzeczywistym ceny aktywów nie są odzwzorywane przez geometryczny ruch Browna oraz wartości dryfu i zmienności są zmienne w czasie, zatem i tak nie jesteśmy w stanie w pełni zabezpieczyć opcji, zatem w niektórych przypadkach dodatkowe ryzyko może być pożądane, względem dodatkowego zysku uzyskanego mniejszym wkładem w hedgowanie. Na początku będziemy rozważać sytuację w której aktywo $S$ jest handlowalne, dla obu funkcji celu, następnie przejdziemy do przypadku w którym jedynie będziemy mogli handlować aktywem $X$. Będziemy oczywiście rozważać jedynie strategie samofinansujące. Naszym głównym zadaniem będzie znajdowanie maksymalnej wartości funkcji celu dla ustalonego kapitału oraz minimalnego kapitału dla ustalonej wartości funkcji celu, okaże się, że w praktyce sprowadzi się to do jednego problemu, zbadania zależności między $V \\text{ i } P_V^{\\max}$, gdzie $P_V^{\\max}$ oznacza maksymalną funkcję celu dla kapitału początkowego $V$. Poniższy projekt został zaimplementowany w języku *Python* przy użyciu metod programowania obiektowego, podczas tworzenia korzystaliśmy z narzędzia *Git* w celu kontroli wersji, poniżej znajduje się link do  [repozytorium projektu](https://github.com/michalsn13/Quantile-Hedging).\n"
   ]
  },
  {
   "cell_type": "markdown",
   "id": "422a14df",
   "metadata": {},
   "source": [
    "### Zaimportowanie bibliotek/klas przed przejściem dalej <font color='red'>** (oraz lista potencjalnych instalacji!) **</font> "
   ]
  },
  {
   "cell_type": "code",
   "execution_count": 1,
   "id": "c1ee21f4",
   "metadata": {},
   "outputs": [],
   "source": [
    "## Importy\n",
    "\n",
    "#Biblioteki do potencjalnego zainstalowania\n",
    "#pip install matplotlib seaborn tqdm numpy pandas scipy multiprocess\n",
    "\n",
    "from underlying import Underlying, NonTradedUnderlying\n",
    "from option import Option, Vanilla, Vanilla_on_NonTraded\n",
    "from trader import Trader, trader_loop\n",
    "from additional_analysis_functions import dP_dQ, integrand, G_func, get_coefficients, get_delta, wrapping_function, find_x, plot_line_G\n",
    "from quantile_hedging_calculator import *\n",
    "\n",
    "import matplotlib.pyplot as plt\n",
    "import seaborn as sb\n",
    "from tqdm import tqdm\n",
    "import numpy as np\n",
    "import pandas as pd\n",
    "from scipy.stats import norm\n",
    "from scipy.stats import lognorm\n",
    "import scipy.integrate as integrate\n",
    "from scipy.optimize import root_scalar\n",
    "from IPython import display\n",
    "from time import sleep\n",
    "\n",
    "from multiprocess import Pool\n",
    "processors = 8\n",
    "\n",
    "import warnings\n",
    "warnings.filterwarnings(\"ignore\")"
   ]
  },
  {
   "cell_type": "markdown",
   "id": "100eae56",
   "metadata": {},
   "source": [
    "## Wyprowadzenie hedgingu kwantylowego (dla handlowalnego aktywa bazowego)\n",
    "\n",
    "Wyprowadźmy teraz teorię stojącą za hedgingiem kwantylowym, skupiąc się na pierwszej funkcji celu\n",
    "\n",
    "$$\\phi = \\mathbb{1}_{\\{H \\leq V_{T} \\}},$$\n",
    "\n",
    "a więc sytuacji, w której chcielibyśmy, aby nasz ograniczony kapitał przekazany na hedging zabezpieczał nas dokładnie z jak największym prawdopodobieństwem. Aby to przedstawić formalniej oznaczmy\n",
    "\n",
    "$$A = {\\{H \\leq V_{T} \\}}$$\n",
    "\n",
    "i naszym celem jest znalezienie zbioru $A$ maksymalizującego prawdopodobieństwo \n",
    "\n",
    "$$P \\left[ A \\right],$$\n",
    "\n",
    "przy założeniu, ze początkowy kapitał $V_{0}$ spełnia $V_{0} < H_{0}$ (gdzie $H_{0}$ oznacza cenę Blacka-Scholesa zabezpieczanej opcji), oraz znalezienie strategii, którą mamy się kierować, aby cel ten osiągnąć.\n",
    "\n",
    "#### Twierdzenie:\n",
    "Jeśli $Q$ oznacza jedyną miarę martyngałową i wprowadzimy miarę $Q^{*}$, zadaną przez pochodną Radona-Nikodyma:\n",
    "\n",
    "$$\\frac{dQ^{*}}{dQ} = \\frac{H}{H_{0}}$$\n",
    "\n",
    "(gdzie H jest zmienną losową określającą payoff zabezpieczanej opcji) to zbiorem $\\tilde{A}$ maksymalizującym powyższe prawdopodobieństwo jest\n",
    "\n",
    "$$\\tilde{A} = \\Big{\\{} \\frac{dP}{dQ} > \\tilde{a} \\cdot H \\Big{\\}},$$\n",
    "\n",
    "dla\n",
    "\n",
    "$$\\tilde{a} = inf \\Big{\\{} a: Q^{*} \\left( \\frac{dP}{dQ} > a \\cdot H \\right) \\leq \\alpha \\Big{\\}},$$\n",
    "\n",
    "spełniający\n",
    "\n",
    "$$Q^{*}(\\tilde{A}) = \\alpha := \\frac{V_{0}}{H_{0}},$$\n",
    "\n",
    "a optymalną strategią jest idealny delta hedging opcji o payoffie $\\tilde{H} = H \\cdot \\mathbb{1}_{\\tilde{A}}$.\n",
    "\n",
    "Zamiast przepisywać dowód z pracy Petera Leukerta i Hansa Folmera, skupimy się na obrazowym wyjaśnieniu powyższej teorii i pokazaniu jak w praktyce znaleźć zbiór $\\tilde{A}$ oraz poszukiwaną strategię.  \n",
    "\n",
    "### Szukanie zbioru $\\tilde{A}$\n",
    "\n",
    "Zgodnie z powyższym, musimy znaleźć zbiór\n",
    "\n",
    "$$\\tilde{A} = \\Big{\\{} \\frac{dP}{dQ} > \\tilde{a} \\cdot H \\Big{\\}}$$\n",
    "\n",
    "Wiemy, że w przypadku modelowania zachowania aktywa geometrycznym ruchem Browna, pochodna Radona-Nikodyma ma postać\n",
    "\n",
    "$$ \\frac{d Q}{d P} =  e^{- \\lambda W_{t} - \\frac{1}{2} \\lambda^{2}t}$$\n",
    "\n",
    "dla $\\lambda = \\frac{\\mu - r}{\\sigma}$, tak więc występująca w naszym zbiorze odwrotność wynosi\n",
    "\n",
    "$$ \\frac{d P}{d Q} =  e^{\\lambda W_{t} + \\frac{1}{2} \\lambda^{2}t}.$$\n",
    "\n",
    "Skupimy się teraz na przypadku klasycznej opcji call, o cenie wykonania $K$, co daje nam payoff\n",
    "\n",
    "$$H = \\left( S_{T} - K \\right)_{+}$$. Zbiór $\\tilde{A}$ jest więc trajektorii spełniających nierówność\n",
    "\n",
    "$$e^{\\lambda W_{t} + \\frac{1}{2} \\lambda^{2}t} > \\tilde{a} \\cdot \\left( S_{T} - K \\right)_{+},$$\n",
    "\n",
    "co po rozpisaniu wzoru $S_{T}$ daje\n",
    "\n",
    "$$ e^{\\lambda W_{T} + \\frac{1}{2} \\lambda^{2}T} > \\tilde{a} \\cdot \\left( e^{ \\left( \\mu - \\frac{\\sigma^{2}}{2} \\right)T + \\sigma W_{T}} - K \\right)_{+}.$$\n",
    "\n",
    "Obrazowo, mamy w tej chwili (z perspektywy $W_{T}$) dwie funkcje wykładnicze i jedyny nierozpisany jeszcze parametr $\\tilde{a}$, będzie służył do przemnożenia prawej strony, ale zbiór rozwiązań nierówności miał miarę $\\alpha$. Po chwili zastanowienia jednak, zauważamy, że są dwa przypadki, wynikające ze współczynników przy $W_T$. Przedstawmy to na wykresie:"
   ]
  },
  {
   "cell_type": "code",
   "execution_count": null,
   "id": "79da2659",
   "metadata": {},
   "outputs": [],
   "source": [
    "mu = 0.02\n",
    "sigma = 0.1\n",
    "r = 0.01\n",
    "T = 1\n",
    "X0 = 100\n",
    "K = 110\n",
    "p = 0.8\n",
    "l = (mu-r)/sigma\n",
    "\n",
    "WT = np.arange(-2,12,0.01)\n",
    "ST = X0*np.exp((mu-sigma**2/2)*T+sigma*WT)\n",
    "X = np.zeros(shape=(len(ST),2))\n",
    "X[:,0], X[:,1] = X0, ST\n",
    "X = pd.DataFrame(X)\n",
    "dP_dQ = np.exp(l*WT+0.5*l**2*T)\n",
    "K = 100\n",
    "\n",
    "fig, (ax1, ax2) = plt.subplots(1, 2)\n",
    "fig.set_figwidth(10)\n",
    "\n",
    "ax1.set_xlabel('$\\mathregular{W_T}$')\n",
    "ax1.set_ylabel('Payoff', labelpad=20)\n",
    "ax2.set_xlabel('$\\mathregular{W_T}$')\n",
    "#ax2.set_ylabel('Payoff', labelpad=20)\n",
    "\n",
    "# Payoff klasycznej funkcji call\n",
    "ax1.plot(WT,np.array((X.iloc[:,-1] - K) * (X.iloc[:,-1] > K)), color = 'blue', linewidth = 3, label = 'Przeskalowany payoff' )\n",
    "ax1.plot(WT, X0*dP_dQ/2, color = 'orange', linewidth = 3, label = 'Pochodna Radona-Nikodyma')\n",
    "ax1.set_ylim(top=max(X0*dP_dQ)+2)\n",
    "ax1.set_title('Przypadek $\\mathregular{\\lambda \\leq \\sigma}$')\n",
    "ax1.set_ylim(bottom=-10,top=200)\n",
    "#wybacz kreski od ręki xd\n",
    "ax1.axvline(x=6.7, color='red')\n",
    "ax1.legend(loc=\"upper left\")\n",
    "\n",
    "mu_2 = 0.032\n",
    "l_2 = (mu_2-r)/sigma\n",
    "WT_2 = np.arange(-2,12,0.01)\n",
    "ST_2 = X0*np.exp((mu_2-sigma**2/2)*T+sigma*WT)\n",
    "X_2 = np.zeros(shape=(len(ST_2),2))\n",
    "X_2[:,0], X_2[:,1] = X0, ST_2\n",
    "X_2 = pd.DataFrame(X_2)\n",
    "dP_dQ_2 = np.exp(l_2*WT_2+0.5*l_2**2*T)\n",
    "\n",
    "# Payoff procentowej opcji call\n",
    "ax2.plot(WT_2,np.array((X_2.iloc[:,-1] - K) * (X_2.iloc[:,-1] > K)), color = 'blue', linewidth = 3, label = 'Przeskalowany payoff')\n",
    "ax2.plot(WT_2, X0*dP_dQ_2/5, color = 'orange', linewidth = 3, label = 'Pochodna Radona-Nikodyma')\n",
    "ax2.set_title('Przypadek $\\mathregular{\\lambda > \\sigma}$')\n",
    "ax2.set_ylim(bottom=-10,top=200)\n",
    "ax2.axvline(x=3.2, color='red')\n",
    "ax2.axvline(x=9.4, color='red')\n",
    "ax2.legend(loc=\"upper left\")\n",
    "\n",
    "plt.show()"
   ]
  },
  {
   "cell_type": "markdown",
   "id": "2d326376",
   "metadata": {},
   "source": [
    "Otrzymujemy więc przypadki $\\lambda \\leq \\sigma$ i $\\lambda > \\sigma$, które rozpiszemy.\n",
    "\n",
    "W pierwszy przypadku, nierówność jest spełniona dla $W_{T}$ mniejszych niż punkt przecięcia widoczny na lewym wykresie (nazwijmy go $w_{0}$). Finalnie jednak będzie nas interesowało jaka cena aktywa wynika z takiej wartości (aby nałożyć indykator na payoff opcji), tak więc od razu możemy podejść do zagadnienia przez pryzmat ceny aktywa. Ponadto, widząc już, że otrzymamy w tym przypadku rezultat postaci $\\tilde{A} = \\Big{\\{} W_{T} < w_{0} \\Big{\\}} = \\Big{\\{} S_{T} < c \\Big{\\}}$ (gdzie c to cena wynikajaca z wartości $w_{0}$) możemy oderwać się od rozwiązywania nierówności i spojrzeć dalej. Mianowicie, wiemy, że $c$ musi być dobrane tak, by cena opcji o payoffie o zerowych wartościach powyżej $c$, miała cenę $V_{0}$. Dzięki temu możemy iteracyjnie podejść do zagadnienia następująco:\n",
    "\n",
    "1) Generujemy trajektorie $W_{T}$ i sortujemy:\n",
    "\n",
    "$$W_{T} = \\left[ -2.782, -2.23, ... ,-0.56, 0.124, ... , 2.857 \\right]$$\n",
    "\n",
    "2) Przekładamy je na ceny $S_{T}$\n",
    "\n",
    "$$S_{T} = \\left[ 58.39, 62.34, ... , 91.15, 103.14, ... , 183.73 \\right]$$\n",
    "\n",
    "3) Chcemy $Q^{*}(\\tilde{A}) = \\alpha$, a skoro $Q^{*}(\\tilde{A}) = \\mathbb{E}_{Q} \\left[ \\frac{dQ^{*}}{dQ} \\cdot \\mathbb{1}_{\\tilde{A}} \\right] = \\mathbb{E} \\left[ \\frac{dQ}{dP} \\cdot \\frac{dQ^{*}}{dQ} \\cdot \\mathbb{1}_{\\tilde{A}} \\right]$, to likczymy najpierw pełen wektor $\\frac{dQ}{dP} \\cdot \\frac{dQ^{*}}{dQ} (= \\frac{dQ^{*}}{dP})$ zgodnie ze wzorami wyprowadzonymi wcześniej, podstawiając powyższe symulacje i payoff opcji call pod $H$:\n",
    "$$\\frac{dQ^{*}}{dP} = \\left[ 0 , 0, ... , 0, 0.001, 0.003, ..., 4.75\\right]$$\n",
    "\n",
    "4) Iterujemy po liczbach $c$ od ostatniej ceny $S_{T}$, co skutkuje zerowaniem wartości $S_{T} > c$ oraz odpowiadających im wartości w wektorze $\\frac{dQ^{*}}{dP}$, licząc przy tym $\\mathbb{E} \\left[ \\frac{dQ}{dP} \\cdot \\frac{dQ^{*}}{dQ} \\cdot \\mathbb{1}_{\\tilde{A}} \\right]$, aż znajdziemy takie, które daje $\\mathbb{E} \\left[ \\frac{dQ}{dP} \\cdot \\frac{dQ^{*}}{dQ} \\cdot \\mathbb{1}_{\\tilde{A}} \\right] = \\alpha$. \n",
    "\n",
    "5) Ponieważ symulacje same z siebie wychodzą się zgodnie z rozkładem normalnym, to liczenie $\\mathbb{E} \\left[ \\frac{dQ}{dP} \\cdot \\frac{dQ^{*}}{dQ} \\cdot \\mathbb{1}_{\\tilde{A}} \\right]$ odbywa się poprzez sumowanie $\\frac{dQ^{*}}{dP} \\cdot \\mathbb{1}_{ \\{ S_{T} < c \\} } \\cdot \\frac{1}{n}$, gdzie $n$ oznacza liczbę symulacji i reprezentuje wagi (rozkłozone jednostajnie) z wartości oczekiwanej\n",
    "\n",
    "Koniec, znaliźliśmy poszukiwane $c$ i mamy teraz \"obciety\" payoff naszej wyjściowej opcji call. Strategia hedgingu polega na idealnym hedgowaniu opcji, mającej włąśnie ten ocięty payoff. \n",
    "\n",
    "Przypadek drugi jest bardzo adekwatny. Różnica polega na tym, ze będziemy mieli dwa przedziały:\n",
    "$$\\tilde{A} = \\Big{\\{} S_{T} < c_{1} \\Big{\\}} \\cup \\Big{\\{} S_{T} > c_{2} \\Big{\\}}$$\n",
    "i do rozwiazania podchodzimy tymi samymi krokami, z tą różnicą, ze camiast iterować jednym c, to iterujemy za pomocą $c_{1}$ i $c_{2}$, by zerować wartości między nimi, zachowując jednak zasadzę, że zostawione niezerowe wartości mają takie same wagi (czyli sumy wartośći z $\\frac{dQ^{*}}{dP}$, dla wartości odpowiadajacych $S_{T} < c_{1}$ i $S_{T} > c_{2}$ sa takie same.\n",
    "\n",
    "Na koniec przedstawmy jak koncepcyjnie wyglądają payoffy opcji, które chcemy zabezpieczać:"
   ]
  },
  {
   "cell_type": "code",
   "execution_count": null,
   "id": "cd8c3eb7",
   "metadata": {},
   "outputs": [],
   "source": [
    "ST_1 = np.arange(80,120,1)\n",
    "ST_2 = np.arange(120,150,1)\n",
    "K = 100\n",
    "\n",
    "fig, (ax1, ax2) = plt.subplots(1, 2)\n",
    "fig.set_figwidth(10)\n",
    "\n",
    "ax1.set_xlabel('$\\mathregular{S_T}$')\n",
    "ax1.set_ylabel('Payoff', labelpad=20)\n",
    "ax2.set_xlabel('$\\mathregular{S_T}$')\n",
    "#ax2.set_ylabel('Payoff', labelpad=20)\n",
    "\n",
    "# Payoff klasycznej funkcji call\n",
    "ax1.plot(ST_1,(ST_1 - K) * (ST_1 > K), color = 'green', linewidth = 3, label = 'Obcięty payoff')\n",
    "ax1.plot(ST_2,np.zeros(len(ST_2)) , linewidth = 3, color = 'green')\n",
    "ax1.set_title('Payoff opcji do zabezpieczania, $\\mathregular{\\lambda \\leq \\sigma}$')\n",
    "ax1.set_ylim(bottom=-2,top=50)\n",
    "ax1.legend(loc=\"upper left\")\n",
    "\n",
    "ST_3 = np.arange(80,105,1)\n",
    "ST_4 = np.arange(105,130,1)\n",
    "ST_5 = np.arange(130,150,1)\n",
    "\n",
    "# Payoff procentowej opcji call\n",
    "ax2.plot(ST_3,(ST_3 - K) * (ST_3 > K), color = 'green', linewidth = 3, label = 'Obcięty payoff')\n",
    "ax2.plot(ST_4,np.zeros(len(ST_4)) , color='green', linewidth = 3)\n",
    "ax2.plot(ST_5,ST_5 - K , color='green', linewidth = 3)\n",
    "ax2.set_title('Payoff opcji do zabezpieczania, $\\mathregular{\\lambda > \\sigma}$')\n",
    "ax2.set_ylim(bottom=-2,top=50)\n",
    "ax2.legend(loc=\"upper left\")\n",
    "\n",
    "plt.show()"
   ]
  },
  {
   "cell_type": "code",
   "execution_count": null,
   "id": "1912ce78",
   "metadata": {
    "hideCode": true
   },
   "outputs": [],
   "source": [
    "mu = 0.06\n",
    "sigma =  0.2\n",
    "r = 0.00\n",
    "T = 1\n",
    "X0 = 100\n",
    "repeat = 1000\n",
    "#repeat = 10 # aby zobaczyć czy kod działa i jest sensownie\n",
    "values_per_year = 250"
   ]
  },
  {
   "cell_type": "markdown",
   "id": "43652fa5",
   "metadata": {},
   "source": [
    "## Aktywo handlowalne, wyniki symulacji\n",
    "Poniżej przedstawimy wykresy przedstawiające wyniki otrzymane przy pomocy symulacji, dla parametru $V = 0.5 V^{BS}$ danej opcji. Na potrzebę symulacji uznaliśmy za sukces w którym po wykonaniu opcji mamy więcej niż $-0.1 V$ kapitału, wynika to z faktu, że nawet przy pełnym zabezpieczaniu przez to, że rehedgujemy nasz portfel w sposób dyskretny, a nie ciągły wartość portela może wynosić ujemną wartość, a nie 0. Tak jak wcześniej pokazaliśmy w obydwóch przypadkach funkcji celu powinniśmy się zabezpieczać w ten sam sposób, wobec czego będziemy badać je równocześnie, wartość pierwszej funkcji celu będziemy oznaczać jako *prawdopodobieństwo sukcesu*, natomiast drugiej jako *succes ratio*. Symulacje rozdzielimy na dwa przypadki w zależności od przypadku $\\mu - r > \\sigma^2$ oraz $\\mu - r < \\sigma^2$"
   ]
  },
  {
   "cell_type": "markdown",
   "id": "9626acd1",
   "metadata": {
    "hideCode": false
   },
   "source": [
    "### Przypadek $\\mu - r > \\sigma^2$\n",
    "Poniższe wyniki otrzymaliśmy dla poniższych parametrów:\n",
    "* $ \\mu = 0.06$\n",
    "* $ \\sigma = 0.2$\n",
    "* $r = 0 $\n",
    "\n",
    "Parametry zostały tak dobrane, aby zachodził warunek $\\mu - r > \\sigma^2$"
   ]
  },
  {
   "cell_type": "code",
   "execution_count": null,
   "id": "a527bf16",
   "metadata": {
    "hideCode": true,
    "hideOutput": true,
    "hidePrompt": false
   },
   "outputs": [],
   "source": [
    "K = 80\n",
    "underlying = Underlying(mu, sigma, r, values_per_year)\n",
    "_, reality = underlying.simulate_P(repeat, T)\n",
    "vanilla_call = Vanilla(underlying, K, T, True)\n",
    "BS_price_call = vanilla_call.get_price(X0, 0)\n",
    "V0 = BS_price_call / 2\n",
    "money_time_call = pd.DataFrame(np.zeros(reality.shape))\n",
    "delta_time_call = pd.DataFrame(np.zeros(reality.shape))\n",
    "for i in range(repeat):\n",
    "    trader = Trader(initial_capital = V0)\n",
    "    money, delta, objective_func = trader.simulate_hedging(vanilla_call, X0*reality.iloc[[i],:], update_freq = 1, mode = 'quantile_traded')\n",
    "    money_time_call.loc[i] = money\n",
    "    delta_time_call.loc[i] = delta\n",
    "#print(f'Success probability with initial capital={V0:.2f} is: {objective_func[0]:.4f}')\n",
    "#print(f'Success ratio with initial capital={V0:.2f} is: {objective_func[1]:.4f}')\n"
   ]
  },
  {
   "cell_type": "markdown",
   "id": "51a0adc0",
   "metadata": {},
   "source": [
    "### Opcja call\n",
    "Poniżej znajdują się wykresy dla opcji z ceną wykonanania $K = 80$, $V = 10.59$ "
   ]
  },
  {
   "cell_type": "code",
   "execution_count": null,
   "id": "8a6d0a6a",
   "metadata": {
    "hideCode": true,
    "hidePrompt": true
   },
   "outputs": [],
   "source": [
    "X = pd.DataFrame(np.arange(0,300))\n",
    "plt.figure(figsize=(10,5))\n",
    "vanilla_call = Vanilla(underlying, K, T, True)\n",
    "BS_price = vanilla_call.get_price(X0, 0)\n",
    "V0 = 0.5 * BS_price\n",
    "payoff_func, objective_func, c = payoff_from_v0(vanilla_call, V0, X0)\n",
    "plt.plot(X, payoff_func(X))\n",
    "plt.title(f'K = {K}\\np-stwo sukcesu = {objective_func[0]:.3f} i success ratio = {objective_func[1]:.3f}')\n",
    "plt.axvline(K, color = 'black', lw = 4);"
   ]
  },
  {
   "cell_type": "code",
   "execution_count": null,
   "id": "34cc2f80",
   "metadata": {
    "hideCode": true,
    "hideOutput": false,
    "hidePrompt": true
   },
   "outputs": [],
   "source": [
    "money_time_call_outcome = money_time_call.copy()\n",
    "money_time_call_outcome['outcome'] = money_time_call.apply(lambda row: 'success' if row.iloc[-1] >= - 0.1 * V0 else 'fail', axis = 1)\n",
    "fig, axs = plt.subplots(4,1, figsize = (10, 20))\n",
    "sb.histplot(ax = axs[0],x = money_time_call_outcome[underlying.values_per_year * T], bins = 50, hue = money_time_call_outcome['outcome'], legend = True, stat = 'density').set_title(f'Ostateczny stan portfela- wszystkie symulacje');\n",
    "sb.histplot(ax = axs[1], x = (X0*reality)[underlying.values_per_year * T], hue = money_time_call_outcome['outcome'], bins = 50, stat = 'density').set_title('Ostateczna cena aktywa bazowego- wszystkie symulacje')\n",
    "axs[1].axvline(K, color = 'black', lw = 4)\n",
    "sb.scatterplot(ax = axs[2], x = (X0*reality).iloc[:,-1], y = np.maximum((X0*reality)[underlying.values_per_year * T] - K,0), hue = money_time_call_outcome['outcome']).set_title('Ostateczny payoff opcji (wszystkie symulacje)')\n",
    "sb.histplot(ax = axs[3], x = np.maximum((X0*reality)[underlying.values_per_year * T] - K,0), hue = money_time_call_outcome['outcome'], bins = 50, stat = 'density').set_title('Ostateczny payoff opcji (wszystkie symulacje)- histogram');"
   ]
  },
  {
   "cell_type": "markdown",
   "id": "143aae11",
   "metadata": {},
   "source": [
    "### Opcja put\n",
    "Poniżej znajdują się wykresy dla opcji z ceną wykonanania $K = 120$, $V = 11.07$"
   ]
  },
  {
   "cell_type": "code",
   "execution_count": null,
   "id": "130798eb",
   "metadata": {
    "hideCode": true,
    "hideOutput": true,
    "hidePrompt": false
   },
   "outputs": [],
   "source": [
    "\n",
    "K = 120\n",
    "underlying = Underlying(mu, sigma, r, values_per_year)\n",
    "_, reality = underlying.simulate_P(repeat, T)\n",
    "vanilla_put = Vanilla(underlying, K, T, False)\n",
    "BS_price_put = vanilla_put.get_price(X0, 0)\n",
    "money_time_put = pd.DataFrame(np.zeros(reality.shape))\n",
    "delta_time_put = pd.DataFrame(np.zeros(reality.shape))\n",
    "V0 = BS_price_put / 2\n",
    "for i in range(repeat):\n",
    "    trader = Trader(initial_capital = V0)\n",
    "    money, delta, objective_func = trader.simulate_hedging(vanilla_put, X0*reality.iloc[[i],:], update_freq = 1, mode = 'quantile_traded')\n",
    "    money_time_put.loc[i] = money\n",
    "    delta_time_put.loc[i] = delta"
   ]
  },
  {
   "cell_type": "code",
   "execution_count": null,
   "id": "a2d5b42e",
   "metadata": {
    "hideCode": true,
    "hidePrompt": false
   },
   "outputs": [],
   "source": [
    "X = pd.DataFrame(np.arange(0,300))\n",
    "plt.figure(figsize=(10,5))\n",
    "vanilla_put = Vanilla(underlying, K, T, False)\n",
    "BS_price = vanilla_put.get_price(X0, 0)\n",
    "V0 = 0.5 * BS_price\n",
    "payoff_func, objective_func, c = payoff_from_v0(vanilla_put, V0, X0)\n",
    "plt.plot(X, payoff_func(X))\n",
    "plt.title(f'K = {K}\\np-stwo sukcesu = {objective_func[0]:.3f} i success ratio = {objective_func[1]:.3f}')\n",
    "plt.axvline(K, color = 'black', lw = 4);"
   ]
  },
  {
   "cell_type": "code",
   "execution_count": null,
   "id": "78957ae3",
   "metadata": {
    "hideCode": true,
    "hidePrompt": false
   },
   "outputs": [],
   "source": [
    "money_time_put_outcome = money_time_put.copy()\n",
    "money_time_put_outcome['outcome'] = money_time_put.apply(lambda row: 'success' if row.iloc[-1] >= - 0.1 * V0 else 'fail', axis = 1)\n",
    "fig, axs = plt.subplots(4,1, figsize = (10, 20))\n",
    "sb.histplot(ax = axs[0],x = money_time_put_outcome[underlying.values_per_year * T], bins = 50, hue = money_time_put_outcome['outcome'], legend = True, stat = 'density').set_title(f'Ostateczny stan portfela- wszystkie symulacje');\n",
    "sb.histplot(ax = axs[1], x = (X0*reality)[underlying.values_per_year * T], hue = money_time_put_outcome['outcome'], bins = 50, stat = 'density').set_title('Ostateczna cena aktywa bazowego- wszystkie symulacje')\n",
    "axs[1].axvline(K, color = 'black', lw = 4)\n",
    "sb.scatterplot(ax = axs[2], x = (X0*reality).iloc[:,-1], y = np.maximum( K -(X0*reality)[underlying.values_per_year * T],0), hue = money_time_put_outcome['outcome']).set_title('Ostateczny payoff opcji (wszystkie symulacje)')\n",
    "sb.histplot(ax = axs[3], x = np.maximum(K - (X0*reality)[underlying.values_per_year * T],0), hue = money_time_put_outcome['outcome'], bins = 50, stat = 'density').set_title('Ostateczny payoff opcji (wszystkie symulacje)- histogram');"
   ]
  },
  {
   "cell_type": "markdown",
   "id": "5465b07f",
   "metadata": {},
   "source": [
    "### Przypadek $\\mu - r < \\sigma^2$\n",
    "Poniższe wyniki otrzymaliśmy dla poniższych parametrów:\n",
    "* $ \\mu = 0.06$\n",
    "* $ \\sigma = 0.2$\n",
    "* $r = 0.05 $\n",
    "\n",
    "Parametry zostały tak dobrane, aby zachodził warunek $\\mu - r < \\sigma^2$"
   ]
  },
  {
   "cell_type": "code",
   "execution_count": null,
   "id": "38c76c9f",
   "metadata": {
    "hideCode": true,
    "hideOutput": true,
    "hidePrompt": false
   },
   "outputs": [],
   "source": [
    "r = 0.05"
   ]
  },
  {
   "cell_type": "markdown",
   "id": "907af1c3",
   "metadata": {
    "hideCode": false
   },
   "source": [
    "### Opcja call\n",
    "Poniżej znajdują się wykresy dla opcji z ceną wykonanania $K = 80$, $V = 12.29$"
   ]
  },
  {
   "cell_type": "code",
   "execution_count": null,
   "id": "4937ae13",
   "metadata": {
    "hideCode": true,
    "hideOutput": true,
    "hidePrompt": false
   },
   "outputs": [],
   "source": [
    "K = 80\n",
    "underlying = Underlying(mu, sigma, r, values_per_year)\n",
    "_, reality = underlying.simulate_P(repeat, T)\n",
    "vanilla_call = Vanilla(underlying, K, T, True)\n",
    "BS_price_call = vanilla_call.get_price(X0, 0)\n",
    "V0 = BS_price_call / 2\n",
    "money_time_call = pd.DataFrame(np.zeros(reality.shape))\n",
    "delta_time_call = pd.DataFrame(np.zeros(reality.shape))\n",
    "for i in range(repeat):\n",
    "    trader = Trader(initial_capital = V0)\n",
    "    money, delta, objective_func = trader.simulate_hedging(vanilla_call, X0*reality.iloc[[i],:], update_freq = 1, mode = 'quantile_traded')\n",
    "    money_time_call.loc[i] = money\n",
    "    delta_time_call.loc[i] = delta\n",
    "#print(f'Success probability with initial capital={V0:.2f} is: {objective_func[0]:.4f}')\n",
    "#print(f'Success ratio with initial capital={V0:.2f} is: {objective_func[1]:.4f}')"
   ]
  },
  {
   "cell_type": "code",
   "execution_count": null,
   "id": "8678576e",
   "metadata": {
    "hideCode": true
   },
   "outputs": [],
   "source": [
    "X = pd.DataFrame(np.arange(0,300))\n",
    "plt.figure(figsize=(10,5))\n",
    "vanilla_call = Vanilla(underlying, K, T, True)\n",
    "BS_price = vanilla_call.get_price(X0, 0)\n",
    "V0 = 0.5 * BS_price\n",
    "payoff_func, objective_func, c = payoff_from_v0(vanilla_call, V0, X0)\n",
    "plt.plot(X, payoff_func(X))\n",
    "plt.title(f'K = {K}\\np-stwo sukcesu = {objective_func[0]:.3f} i success ratio = {objective_func[1]:.3f}')\n",
    "plt.axvline(K, color = 'black', lw = 4);"
   ]
  },
  {
   "cell_type": "code",
   "execution_count": null,
   "id": "b9a7dd06",
   "metadata": {
    "hideCode": true
   },
   "outputs": [],
   "source": [
    "money_time_call_outcome = money_time_call.copy()\n",
    "money_time_call_outcome['outcome'] = money_time_call.apply(lambda row: 'success' if row.iloc[-1] >= - 0.1 * V0 else 'fail', axis = 1)\n",
    "fig, axs = plt.subplots(4,1, figsize = (10, 20))\n",
    "sb.histplot(ax = axs[0],x = money_time_call_outcome[underlying.values_per_year * T], bins = 50, hue = money_time_call_outcome['outcome'], legend = True, stat = 'density').set_title(f'Ostateczny stan portfela- wszystkie symulacje');\n",
    "sb.histplot(ax = axs[1], x = (X0*reality)[underlying.values_per_year * T], hue = money_time_call_outcome['outcome'], bins = 50, stat = 'density').set_title('Ostateczna cena aktywa bazowego- wszystkie symulacje')\n",
    "axs[1].axvline(K, color = 'black', lw = 4)\n",
    "sb.scatterplot(ax = axs[2], x = (X0*reality).iloc[:,-1], y = np.maximum((X0*reality)[underlying.values_per_year * T] - K,0), hue = money_time_call_outcome['outcome']).set_title('Ostateczny payoff opcji (wszystkie symulacje)')\n",
    "sb.histplot(ax = axs[3], x = np.maximum((X0*reality)[underlying.values_per_year * T] - K,0), hue = money_time_call_outcome['outcome'], bins = 50, stat = 'density').set_title('Ostateczny payoff opcji (wszystkie symulacje)- histogram');"
   ]
  },
  {
   "cell_type": "markdown",
   "id": "4fe4c122",
   "metadata": {
    "hidePrompt": false
   },
   "source": [
    "### Opcja put\n",
    "Poniżej znajdują się wykresy dla opcji z ceną wykonanania $K = 120$, $V = 8.69$"
   ]
  },
  {
   "cell_type": "code",
   "execution_count": null,
   "id": "92687b6f",
   "metadata": {
    "hideCode": false,
    "hideOutput": true,
    "hidePrompt": false
   },
   "outputs": [],
   "source": [
    "K = 120\n",
    "underlying = Underlying(mu, sigma, r, values_per_year)\n",
    "_, reality = underlying.simulate_P(repeat, T)\n",
    "vanilla_put = Vanilla(underlying, K, T, False)\n",
    "BS_price_put = vanilla_put.get_price(X0, 0)\n",
    "money_time_put = pd.DataFrame(np.zeros(reality.shape))\n",
    "delta_time_put = pd.DataFrame(np.zeros(reality.shape))\n",
    "V0 = BS_price_put / 2\n",
    "for i in range(repeat):\n",
    "    trader = Trader(initial_capital = V0)\n",
    "    money, delta, objective_func = trader.simulate_hedging(vanilla_put, X0*reality.iloc[[i],:], update_freq = 1, mode = 'quantile_traded')\n",
    "    money_time_put.loc[i] = money\n",
    "    delta_time_put.loc[i] = delta"
   ]
  },
  {
   "cell_type": "code",
   "execution_count": null,
   "id": "1101a960",
   "metadata": {
    "hideCode": true,
    "hidePrompt": false
   },
   "outputs": [],
   "source": [
    "X = pd.DataFrame(np.arange(0,300))\n",
    "plt.figure(figsize=(10,5))\n",
    "vanilla_put = Vanilla(underlying, K, T, False)\n",
    "BS_price = vanilla_put.get_price(X0, 0)\n",
    "V0 = 0.5 * BS_price\n",
    "payoff_func, objective_func, c = payoff_from_v0(vanilla_put, V0, X0)\n",
    "plt.plot(X, payoff_func(X))\n",
    "plt.title(f'K = {K}\\np-stwo sukcesu = {objective_func[0]:.3f} i success ratio = {objective_func[1]:.3f}')\n",
    "plt.axvline(K, color = 'black', lw = 4);"
   ]
  },
  {
   "cell_type": "code",
   "execution_count": null,
   "id": "88229888",
   "metadata": {
    "hideCode": true,
    "hidePrompt": false
   },
   "outputs": [],
   "source": [
    "money_time_put_outcome = money_time_put.copy()\n",
    "money_time_put_outcome['outcome'] = money_time_put.apply(lambda row: 'success' if row.iloc[-1] >= - 0.1 * V0 else 'fail', axis = 1)\n",
    "fig, axs = plt.subplots(4,1, figsize = (10, 20))\n",
    "sb.histplot(ax = axs[0],x = money_time_put_outcome[underlying.values_per_year * T], bins = 50, hue = money_time_put_outcome['outcome'], legend = True, stat = 'density').set_title(f'Ostateczny stan portfela- wszystkie symulacje');\n",
    "sb.histplot(ax = axs[1], x = (X0*reality)[underlying.values_per_year * T], hue = money_time_put_outcome['outcome'], bins = 50, stat = 'density').set_title('Ostateczna cena aktywa bazowego- wszystkie symulacje')\n",
    "axs[1].axvline(K, color = 'black', lw = 4)\n",
    "sb.scatterplot(ax = axs[2], x = (X0*reality).iloc[:,-1], y = np.maximum( K -(X0*reality)[underlying.values_per_year * T],0), hue = money_time_put_outcome['outcome']).set_title('Ostateczny payoff opcji (wszystkie symulacje)')\n",
    "sb.histplot(ax = axs[3], x = np.maximum(K - (X0*reality)[underlying.values_per_year * T],0), hue = money_time_put_outcome['outcome'], bins = 50, stat = 'density').set_title('Ostateczny payoff opcji (wszystkie symulacje)- histogram');"
   ]
  },
  {
   "cell_type": "markdown",
   "id": "05491a51",
   "metadata": {},
   "source": [
    "Na podstawie powyższych ilustracji jesteśmy w stanie zauważyć, że używając quantile hedgingu faktycznie zabezpieczamy się na opcje, z payoffem znajdującym się na korespondującym wykresie. Warto zwrócić uwagę, że histogramy przedstawiające sukcesy i porażki nachodzą na siebie, co wynika z wad delta hedgingu. Istnieją nawet symulacje których payoff wynosi 0, jednak nie byliśmy w stanie się na nie zabezpieczyć przez sposób zachowywania się portfela."
   ]
  },
  {
   "cell_type": "markdown",
   "id": "b7782504",
   "metadata": {},
   "source": [
    "## Analiza wrażliwości\n",
    "\n",
    "Poniżej przeprowadzę podstawową analizę wpływu parametrów $K, \\sigma \\text{ i } \\alpha$ na kształt funkcji zmodyfikowanego payoffu oraz wartości funkcji celu. Domyślnymi argumentami wartości funkcji jest cena strike $K = 100, \\sigma = 0.2, \\alpha =0.5 \\text{ oraz } r = 0.05$. Przeprowadzimy rozumowanie dla obu opcji, call i put."
   ]
  },
  {
   "cell_type": "markdown",
   "id": "40602393",
   "metadata": {},
   "source": [
    "## wpływ ceny strike $K$"
   ]
  },
  {
   "cell_type": "code",
   "execution_count": null,
   "id": "91da41f9",
   "metadata": {
    "hideCode": true,
    "hideOutput": false,
    "hidePrompt": false
   },
   "outputs": [],
   "source": [
    "Ks = [ 80, 100, 120, 140, 160, 180]\n",
    "X = pd.DataFrame(np.arange(0,300))\n",
    "fig, axs = plt.subplots(3, 2, figsize=(10,10), sharex = True, sharey = True)\n",
    "fig.tight_layout(pad=5.0)\n",
    "for num, K in enumerate(Ks):\n",
    "    vanilla_call = Vanilla(underlying, K, T, True)\n",
    "    BS_price = vanilla_call.get_price(X0, 0)\n",
    "    V0 = 0.5 * BS_price\n",
    "    payoff_func, objective_func, c = payoff_from_v0(vanilla_call, V0, X0)\n",
    "    axs[num//2, num%2].plot(X, payoff_func(X))\n",
    "    axs[num//2, num%2].set_title(f'K = {K}\\np-stwo sukcesu = {objective_func[0]:.3f} i success ratio = {objective_func[1]:.3f}')\n",
    "    axs[num//2, num%2].axvline(K, color = 'black', lw = 4)\n",
    "plt.subplots_adjust(top=0.9)\n",
    "plt.suptitle('Kwantylowy hedging opcji call używając połowy ceny w zależności od ceny wykonania K\\nzmodyfikowany payoff', size = 12);"
   ]
  },
  {
   "cell_type": "code",
   "execution_count": null,
   "id": "38944235",
   "metadata": {
    "hideCode": true
   },
   "outputs": [],
   "source": [
    "Ks = [80, 100, 120, 140, 160, 180]\n",
    "X = pd.DataFrame(np.arange(0,300))\n",
    "fig, axs = plt.subplots(3, 2, figsize=(10,10), sharex = True, sharey = True)\n",
    "fig.tight_layout(pad=5.0)\n",
    "for num, K in enumerate(Ks):\n",
    "    vanilla_put = Vanilla(underlying, K, T, False)\n",
    "    BS_price = vanilla_put.get_price(X0, 0)\n",
    "    V0 = 0.5 * BS_price\n",
    "    payoff_func, objective_func, c = payoff_from_v0(vanilla_put, V0, X0)\n",
    "    axs[num//2, num%2].plot(X, payoff_func(X))\n",
    "    axs[num//2, num%2].set_title(f'K = {K}\\np-stwo sukcesu = {objective_func[0]:.3f} i success ratio = {objective_func[1]:.3f}')\n",
    "    axs[num//2, num%2].axvline(K, color = 'black', lw = 4)\n",
    "plt.subplots_adjust(top=0.9)\n",
    "plt.suptitle('Kwantylowy hedging opcji put używając połowy ceny w zależności od ceny wykonania K\\nzmodyfikowany payoff', size = 12);"
   ]
  },
  {
   "cell_type": "markdown",
   "id": "f75609b4",
   "metadata": {},
   "source": [
    "Z powyższych rysunków możemy zaobserwować, że zmiana jedynie parametru $K$ zmienia prawdopobieństwo zabezpieczenia opcji, w przypadku opcji call wzrost parametru $K$ zwiększa je, natomiast w przypadku opcji put zmniejsza. Wynika to między innymi z faktu, że wzrost parametru $K$ zwiększa prawdopodobieństwo, że wartość payoffu opcji call wyniesie 0, natomiast w przypadku opcji put zwiększa prawdopodobieństwo na dodatni payoff."
   ]
  },
  {
   "cell_type": "markdown",
   "id": "641817df",
   "metadata": {},
   "source": [
    "## Wpływ parametru $\\alpha$"
   ]
  },
  {
   "cell_type": "code",
   "execution_count": null,
   "id": "257da63a",
   "metadata": {
    "hideCode": true,
    "hideOutput": false,
    "hidePrompt": false
   },
   "outputs": [],
   "source": [
    "K = 100\n",
    "alphas = [0.01, 0.1, 0.2, 0.4, 0.6, 0.8, 0.9, 0.99]\n",
    "X = pd.DataFrame(np.arange(0,300))\n",
    "fig, axs = plt.subplots(4, 2, figsize=(10,10), sharex = True, sharey = True)\n",
    "fig.tight_layout(pad=5.0)\n",
    "for num, alpha in enumerate(alphas):\n",
    "    vanilla_call = Vanilla(underlying, K, T, True)\n",
    "    BS_price = vanilla_call.get_price(X0, 0)\n",
    "    V0 = alpha * BS_price\n",
    "    payoff_func, objective_func, _ = payoff_from_v0(vanilla_call, V0, X0)\n",
    "    axs[num//2, num%2].plot(X, payoff_func(X))\n",
    "    axs[num//2, num%2].set_title(f'alpha = {alpha}\\np-stwo sukcesu = {objective_func[0]:.3f} i success ratio = {objective_func[1]:.3f}')\n",
    "    axs[num//2, num%2].axvline(K, color = 'black', lw = 4)\n",
    "plt.subplots_adjust(top=0.9)\n",
    "plt.suptitle(f'Kwantylowy hedging opcji call(K = {K}) w zależności od procenta użytej ceny\\nzmodyfikowany payoff', size = 12);"
   ]
  },
  {
   "cell_type": "code",
   "execution_count": null,
   "id": "b14974db",
   "metadata": {
    "hideCode": true,
    "hidePrompt": true
   },
   "outputs": [],
   "source": [
    "K = 100\n",
    "alphas = [0.01, 0.1, 0.2, 0.4, 0.6, 0.8, 0.9, 0.99]\n",
    "X = pd.DataFrame(np.arange(0,300))\n",
    "fig, axs = plt.subplots(4, 2, figsize=(10,10), sharex = True, sharey = True)\n",
    "fig.tight_layout(pad=5.0)\n",
    "vanilla_put = Vanilla(underlying, K, T, False)\n",
    "BS_price = vanilla_put.get_price(X0, 0)\n",
    "for num, alpha in enumerate(alphas):\n",
    "    V0 = alpha * BS_price\n",
    "    payoff_func, objective_func, c = payoff_from_v0(vanilla_put, V0, X0)\n",
    "    axs[num//2, num%2].plot(X, payoff_func(X))\n",
    "    axs[num//2, num%2].set_title(f'alpha = {alpha}\\np-stwo sukcesu = {objective_func[0]:.3f} i success ratio = {objective_func[1]:.3f}')\n",
    "    axs[num//2, num%2].axvline(K, color = 'black', lw = 4)\n",
    "plt.subplots_adjust(top=0.9)\n",
    "plt.suptitle(f'Kwantylowy hedging opcji put(K = {K}) w zależności od procenta użytej ceny\\nzmodyfikowany payoff', size = 12);"
   ]
  },
  {
   "cell_type": "markdown",
   "id": "caa3313b",
   "metadata": {},
   "source": [
    "Powyższe wykresy wskazują na to, że wzraz ze wzrostem parametru $\\alpha$, zabezpieczamy się na opcję o większym payoffie, jest to dość oczywisty i intuicyjny wniosek, ponieważ nasz kapitał się zwiększa, zatem możemy zabezpieczyć się na droższą opcję. Warto zwróciv uwagę, że nawet dla wartości $\\alpha$ bliskich 0, prawdopodobieństwo zabezpieczenia opcji jest spore."
   ]
  },
  {
   "cell_type": "markdown",
   "id": "2a4aa4e8",
   "metadata": {
    "hidePrompt": false
   },
   "source": [
    "## Wpływ parametru $\\sigma $\n"
   ]
  },
  {
   "cell_type": "code",
   "execution_count": null,
   "id": "5448d965",
   "metadata": {
    "hideCode": true,
    "hidePrompt": true
   },
   "outputs": [],
   "source": [
    "K = 100\n",
    "sigmas = [0.05, 0.1, 0.2, 0.5, 0.6, 0.7, 0.8, 0.9]\n",
    "X = pd.DataFrame(np.arange(0,300))\n",
    "fig, axs = plt.subplots(4, 2, figsize=(10,10), sharex = True, sharey = True)\n",
    "fig.tight_layout(pad=5.0)\n",
    "for num, s in enumerate(sigmas):\n",
    "    underlying = Underlying(mu, s, r, values_per_year)    \n",
    "    vanilla_call = Vanilla(underlying, K, T, True)\n",
    "    BS_price = vanilla_call.get_price(X0, 0)\n",
    "    V0 = 0.5 * BS_price\n",
    "    payoff_func, objective_func, _ = payoff_from_v0(vanilla_call, V0, X0)\n",
    "    axs[num//2, num%2].plot(X, payoff_func(X))\n",
    "    axs[num//2, num%2].set_title(f'sigma = {s}\\np-stwo sukcesu = {objective_func[0]:.3f} i success ratio = {objective_func[1]:.3f}')\n",
    "    axs[num//2, num%2].axvline(K, color = 'black', lw = 4)\n",
    "plt.subplots_adjust(top=0.9)\n",
    "plt.suptitle(f'Kwantylowy hedging opcji call(K = {K}) używając połowy ceny w zależności od zmienności aktywa\\nzmodyfikowany payoff', size = 12);"
   ]
  },
  {
   "cell_type": "code",
   "execution_count": null,
   "id": "1170c1ad",
   "metadata": {
    "hideCode": true,
    "hidePrompt": false
   },
   "outputs": [],
   "source": [
    "K = 100\n",
    "sigmas = [0.05, 0.1, 0.2, 0.5, 0.6, 0.7, 0.8, 0.9]\n",
    "X = pd.DataFrame(np.arange(0,300))\n",
    "fig, axs = plt.subplots(4, 2, figsize=(10,10), sharex = True, sharey = True)\n",
    "fig.tight_layout(pad=5.0)\n",
    "for num, s in enumerate(sigmas):\n",
    "    underlying = Underlying(mu, s, r, values_per_year)    \n",
    "    vanilla_put = Vanilla(underlying, K, T, False)\n",
    "    BS_price = vanilla_put.get_price(X0, 0)\n",
    "    V0 = 0.5 * BS_price\n",
    "    payoff_func, objective_func, _ = payoff_from_v0(vanilla_put, V0, X0)\n",
    "    axs[num//2, num%2].plot(X, payoff_func(X))\n",
    "    axs[num//2, num%2].set_title(f'sigma = {s}\\np-stwo sukcesu = {objective_func[0]:.3f} i success ratio = {objective_func[1]:.3f}')\n",
    "    axs[num//2, num%2].axvline(K, color = 'black', lw = 4)\n",
    "plt.subplots_adjust(top=0.9)\n",
    "plt.suptitle(f'Kwantylowy hedging opcji put(K = {K}) używając połowy ceny w zależności od zmienności aktywa\\nzmodyfikowany payoff', size = 12);"
   ]
  },
  {
   "cell_type": "markdown",
   "id": "012a2d78",
   "metadata": {},
   "source": [
    "Możemy zauważyć, z rysunków że $\\sigma$ ma wpływ na kształt zmodyfikowanego payoffu, co jest zgodne z warunkiem na kształt w zależności od wartości znaku wyrażenia $\\mu - r - \\sigma^2 $. Wraz ze wzrostem zmienności, prawdopodobieństwo zabezpieczenia opcji call wzrasta używając połowy kapitału, natomiast dla opcji put zależność jest odwrotna."
   ]
  },
  {
   "cell_type": "markdown",
   "id": "17e9b5bb",
   "metadata": {
    "hidePrompt": false
   },
   "source": [
    "## Wpływ parametru $\\alpha \\text{ oraz } K$"
   ]
  },
  {
   "cell_type": "code",
   "execution_count": null,
   "id": "a5f3344a",
   "metadata": {
    "hideCode": true,
    "hidePrompt": false
   },
   "outputs": [],
   "source": [
    "Ks = [80, 100, 120, 140]\n",
    "fig, axs = plt.subplots(2, 2, figsize=(10,10))\n",
    "for num, K in enumerate(Ks):\n",
    "    vanilla_call = Vanilla(underlying, K, T, True)\n",
    "    BS_price = vanilla_call.get_price(X0, 0)\n",
    "    alphas = np.arange(5,101,1)/100\n",
    "    probs = []\n",
    "    ratios = []\n",
    "    for a in alphas:\n",
    "        _, objective_func, _ = payoff_from_v0(vanilla_call, a * BS_price, X0)\n",
    "        probs.append(objective_func[0])\n",
    "        ratios.append(objective_func[1])\n",
    "    axs[num//2, num%2].plot(alphas, probs, color = 'black')\n",
    "    axs[num//2, num%2].plot(alphas, ratios, color = 'blue')\n",
    "    axs[num//2, num%2].legend(['p-stwo sukcesu', 'success ratio'])\n",
    "    axs[num//2, num%2].plot([0,1],[0,1], color = 'red', lw = 1, linestyle='-.')\n",
    "    axs[num//2, num%2].set_title(f'Cena pełna opcji = {BS_price:.2f} z K = {K}')\n",
    "    axs[num//2, num%2].set_xlabel('alpha')\n",
    "    axs[num//2, num%2].set_ylabel('funkcja celu')\n",
    "    axs[num//2, num%2].set_xlim([0.05,1])\n",
    "    axs[num//2, num%2].set_ylim([0.05,1])\n",
    "plt.suptitle('Hedging kwantylowy opcji call w zależności od ceny wykonania K\\nalpha vs wartość funkcji celu', size = 15);"
   ]
  },
  {
   "cell_type": "code",
   "execution_count": null,
   "id": "e3e3fb43",
   "metadata": {
    "hideCode": true,
    "hidePrompt": false
   },
   "outputs": [],
   "source": [
    "Ks = [80, 100, 120, 140]\n",
    "fig, axs = plt.subplots(2, 2, figsize=(10,10))\n",
    "for num, K in enumerate(Ks):\n",
    "    vanilla_put = Vanilla(underlying, K, T, False)\n",
    "    BS_price = vanilla_put.get_price(X0, 0)\n",
    "    alphas = np.arange(5,101,1)/100\n",
    "    probs = []\n",
    "    ratios = []\n",
    "    for a in alphas:\n",
    "        _, objective_func, _ = payoff_from_v0(vanilla_put, a * BS_price, X0)\n",
    "        probs.append(objective_func[0])\n",
    "        ratios.append(objective_func[1])\n",
    "    axs[num//2, num%2].plot(alphas, probs, color = 'black')\n",
    "    axs[num//2, num%2].plot(alphas, ratios, color = 'blue')\n",
    "    axs[num//2, num%2].legend(['p-stwo sukcesu', 'success ratio'])\n",
    "    axs[num//2, num%2].plot([0,1],[0,1], color = 'red', lw = 1, linestyle='-.')\n",
    "    axs[num//2, num%2].set_title(f'Cena pełna opcji = {BS_price:.2f} z K = {K}')\n",
    "    axs[num//2, num%2].set_xlabel('alpha')\n",
    "    axs[num//2, num%2].set_ylabel('funkcja celu')\n",
    "    axs[num//2, num%2].set_xlim([0.05,1])\n",
    "    axs[num//2, num%2].set_ylim([0.05,1])\n",
    "plt.suptitle('Hedging kwantylowy opcji putw zależności od ceny wykonania K\\nalpha vs wartość funkcji celu', size = 15);"
   ]
  },
  {
   "cell_type": "markdown",
   "id": "58fa34b0",
   "metadata": {},
   "source": [
    "Jedną z zależności którą możemy zaobserwować z wykresu, jest ta, że wze wzrostem parametru $\\alpha$ zwiększa się wartość funkcji celu, wynika to z tego że zabezpieczamy się większą  opcją, wobec czego jesteśmy zabezpieczeni na więcej scenariuszy. Dodatkowo znowu możemy dojść do wniosku, że wzrost ceny strike zwiększa prawdopodobieństwo zabezpieczenia dla opcji call, natomiast dla opcji put zmniejsza. Warto zwrócić uwagę na dość duże prawdopodbieństwo zabezpieczenia dla opcji call, i znacznie mniejsze dla opcji put."
   ]
  },
  {
   "cell_type": "markdown",
   "id": "a54afb84",
   "metadata": {},
   "source": [
    "### Druga Funkcja Celu\n",
    "\n",
    "Rozpatrzymy teraz drugą funkcję celu\n",
    "\n",
    "$$ \\phi = \\mathbb{1}_{\\{H \\leq V_{T} \\}} + \\frac{V_{T}}{H} \\mathbb{1}_{\\{H > V_{T} \\}}$$\n",
    "\n",
    "i naszym celem ponownie będzie optymalizacja jej wartości oczekiwanej $ \\left( \\mathbb{E}\\left[ \\phi \\right] \\right) $.\n",
    "Publikacja Hansa F \\\"{o} llmera i Petera Leukerta tym razem także dostarcza rozwiązanie, według którego strategią optymalizującą powyższą wartość jest pełny $\\Delta$-hedging opcji o payoffie $\\tilde{H} = \\tilde{\\phi}H$, dla\n",
    "\n",
    "$$\\tilde{\\phi} = \\mathbb{1}_{\\{\\frac{dP}{dQ} > \\tilde{a} H \\}} + \\gamma \\mathbb{1}_{\\{\\frac{dP}{dQ} = \\tilde{a} H \\}},$$\n",
    "gdzie\n",
    "\n",
    "$$\\gamma = \\frac{\\alpha - Q^{*} \\left[ \\frac{dP}{dQ} > \\tilde{a}H  \\right]}{Q^{*} \\left[ \\frac{dP}{dQ} = \\tilde{a}H  \\right]}.$$\n",
    "\n",
    "Pierwszy indykator funkcji $\\tilde{\\phi}$ pokrywa sytuacje z pierwszej funkcji celu, tak więc jedyną różnicą jest występowanie drugiego indykatora.\n",
    "\n",
    "Teza:\n",
    "\n",
    "W przypadku klasycznych opcji call i put oraz trajektorii modelowanych geometrycznym ruchem Browna, zbiór $\\{\\frac{dP}{dQ} = \\tilde{a} H \\}$ jest zbiorem miary zero.\n",
    "\n",
    "Dowód:\n",
    "\n",
    "Jak już wiemy\n",
    "\n",
    "$$ \\frac{d P}{d Q} =  e^{\\lambda W_{t} + \\frac{1}{2} \\lambda^{2}t}.$$ \n",
    "\n",
    "Tym samym rozpatrujemy zbiór trajektorii spełniających równość\n",
    "\n",
    "$$e^{\\lambda W_{T} + \\frac{1}{2} \\lambda^{2}T} = \\tilde{a} \\cdot H.$$\n",
    "\n",
    "Korzystamy w tym miejscu z założenia, że rozpatrujemy opcję call (w przypadku opcji put argument jest analogiczny) i możemy rozpisać payoff $H$ jako:\n",
    "\n",
    "$$H = \\left( S_{T} - K \\right)_{+}.$$\n",
    "\n",
    "Następnie rozpisujemy jawnie wzór na $S_{T}$, co daje\n",
    "\n",
    "$$H = \\left( e^{ \\left( \\mu - \\frac{\\sigma^{2}}{2} \\right)T + \\sigma W_{T}} - K \\right)_{+} $$\n",
    "\n",
    "czym dochodzimy do poniższej postaci równości \n",
    "\n",
    "$$ e^{\\lambda W_{T} + \\frac{1}{2} \\lambda^{2}T} = \\tilde{a} \\cdot \\left( e^{ \\left( \\mu - \\frac{\\sigma^{2}}{2} \\right)T + \\sigma W_{T}} - K \\right)_{+}.$$\n",
    "\n",
    "Zauważmy teraz, że możemy pominąć nałożoną po prawej stronie część dodatnią. Lewa strona równości jest funkcją wykładniczą, tak więc zawsze jest dodatnia i tym samym równość nie może zajść w przypadku gdy prawa strona jest zerowa lub ujemna, wobec czego pozwolenie ujemnym przypadkom pozostać ujemnym (zamiast zamieniania ich na 0), nie zmienia zbioru rozwiązań. Mamy tym samym\n",
    "\n",
    "$$ e^{\\lambda W_{T} + \\frac{1}{2} \\lambda^{2}T} = \\tilde{a} \\cdot  \\left( e^{ \\left( \\mu - \\frac{\\sigma^{2}}{2} \\right)T + \\sigma W_{T}} - K \\right).$$\n",
    "\n",
    "Rozpiszmy teraz $\\lambda$\n",
    "\n",
    "$$ e^{ \\left( \\frac{\\mu - r}{\\sigma} \\right) W_{T} + \\frac{1}{2} \\left( \\frac{\\mu - r}{\\sigma} \\right)^{2}T} = \\tilde{a} \\cdot e^{ \\left( \\mu - \\frac{\\sigma^{2}}{2} \\right)T + \\sigma W_{T}} - \\tilde{a} \\cdot K$$\n",
    "\n",
    "oraz dla przejrzystości wprowadźmy dwa oznaczenia\n",
    "\n",
    "$$b_{1} = e^{\\frac{1}{2} \\left( \\frac{\\mu - r}{\\sigma} \\right)^{2}T}\\ , \\quad b_{2} = e^{\\left( \\mu - \\frac{\\sigma^{2}}{2} \\right)T}$$\n",
    "\n",
    "by ostatecznie otrzymać\n",
    "\n",
    "$$ b_{1} \\cdot e^{ \\left( \\frac{\\mu - r}{\\sigma} \\right) W_{T}} = \\tilde{a} \\cdot b_{2} \\cdot e^{\\sigma W_{T}} - \\tilde{a} \\cdot K.$$\n",
    "\n",
    "Są teraz trzy możliwe sytuacje:\n",
    "1. Równanie jest sprzeczne i nie ma rozwiązań, co zadaje zbiór pusty (który jest oczywiście miary zero)\n",
    "\n",
    "2. Równanie ma jedno lub dwa rozwiązania. Korzystamy teraz jednak z założenia o ciągłości, a mianowicie, ponieważ $W_{T}$ pochodzi z rozkładu normalnego, to dla każdego $x$ mamy $P \\left [W_{T} = x \\right] = 0 $, co również daje nam zbiór miary zero.\n",
    "\n",
    "3. Potencjalnie interesowałaby nas więc jedynie ostatnia sytuacja  w której funkcje się (przynajmniej na pewnym przedziale) pokrywają, co zadałoby przedział o niezerowej mierze. Tak się jednak nie dzieje, ponieważ o ile może się zdarzyć, że części wykładnicze są takie same, o tyle prawa strona ma niezerowe przesunięcie. Uzasadnienie:\n",
    "\n",
    "    Przesuniecie jest zadane przez $\\tilde{a} K$. Jeśli $\\tilde{a} = 0$, to cała prawa strona równa się $0$, co w obliczu dodatniości lewej strony daje sprzeczność. $K$ natomiast jest parametrem opcji call. Z założenia K > 0, ponieważ w przeciwnym przypadku nie mielibyśmy do czynienia z tym aktywem pochodnym (w przypadku K = 0 opcja dawałaby nam możliwość \"zakupu\" aktywa za darmo, niezależnie od scenariusza).\n",
    "    \n",
    "Co kończy dowód, że $\\{\\frac{dP}{dQ} = \\tilde{a} H \\}$ jest miary 0.\n",
    "\n",
    "Wniosek:\n",
    "\n",
    "Optymalizacja drugiej funkcji celu jest osiągana przez strategię, którą realizowaliśmy przy pierwszej funkcji celu."
   ]
  },
  {
   "cell_type": "markdown",
   "id": "e8919d46",
   "metadata": {},
   "source": [
    "## Druga funkcja celu z niezerową miarą drugiego indykatora"
   ]
  },
  {
   "cell_type": "markdown",
   "id": "2187409a",
   "metadata": {},
   "source": [
    "Naszym celem jest teraz wykreować sytuację, w której drugi indykator nie będzie bazował na zbiorze o zerowej mierze. Dążymy więc do tego, by zbiór\n",
    "\n",
    "$$D = \\Big{\\{} \\frac{dP}{dQ} = \\tilde{a} H \\Big{\\}}$$\n",
    "\n",
    "miał dodatnią miarę. Kluczowym momentem w poprzednim dowodzie było doprowadzenie powyższego zbioru do postaci\n",
    "\n",
    "$$D = \\Big{\\{} e^{\\lambda W_{T} + \\frac{1}{2} \\lambda^{2}T} = \\tilde{a} \\cdot H \\Big{\\}},$$\n",
    "\n",
    "a zerowość wynikała z payoffu klasycznej funkcji call, a konkretnie odejmowania współczynnika, którego nie można było wyzerować. Oznacza to, że aby osiagnąć cel musimy znaleźć opcję o innym payoffie, a powyższy dowodów sugeruje, że zapewne udałoby się dopasować w niej współczynniki jeśli jej payoff będzie miał charakter multiplikatywny. Wprowadzamy więc taką opcję, którą nazwyamy autorsko Procentową Opcją Call. Przedstawiamy jej działanie poniżej.\n",
    "\n",
    "**Procentowa Opcja Call:** <br>\n",
    "Posiadacz opcji zyskuje możliwość zakupu w chwili $T$ aktywa po cenie $p \\cdot S_{T}$, jeśli cena przekroczy próg $K$ $(\\text{dla }p \\in (0,1))$. <br>\n",
    "\n",
    "**Payoff:** $H = \\left( S_{T} - p \\cdot S_{T} \\right) \\cdot \\mathbb{1}_{\\{ S_{T} > K \\}} = \\left( 1 - p \\right) \\cdot S_{T}  \\cdot \\mathbb{1}_{\\{ S_{T} > K \\}}$\n",
    "\n",
    "Spójrzmy jak on wygląda (na każdym kroku porównując do klasycznej opcji call):"
   ]
  },
  {
   "cell_type": "code",
   "execution_count": null,
   "id": "65b7d28b",
   "metadata": {},
   "outputs": [],
   "source": [
    "mu = 0.02\n",
    "sigma = 0.1\n",
    "r = 0.01\n",
    "T = 1\n",
    "X0 = 100\n",
    "K = 110\n",
    "p = 0.8\n",
    "l = (mu-r)/sigma\n",
    "values_per_year = 250\n",
    "\n",
    "def measure_payoff(X,p,K):\n",
    "    return (1-p)*X.iloc[:, -1]*(X.iloc[:, -1] > K)\n",
    "\n",
    "#Przedstawienie jak wyglada payoff tej funkcji z perspektywy S_T i porównanie do klasycznej\n",
    "ST = np.arange(70,141,1)\n",
    "X = np.zeros(shape=(len(ST),2))\n",
    "X[:,0], X[:,1] = X0, ST\n",
    "X = pd.DataFrame(X)"
   ]
  },
  {
   "cell_type": "code",
   "execution_count": null,
   "id": "f21091ce",
   "metadata": {},
   "outputs": [],
   "source": [
    "fig, (ax1, ax2) = plt.subplots(1, 2)\n",
    "fig.set_figwidth(10)\n",
    "\n",
    "ax1.set_xlabel('$\\mathregular{S_T}$')\n",
    "ax1.set_ylabel('Payoff', labelpad=20)\n",
    "ax2.set_xlabel('$\\mathregular{S_T}$')\n",
    "\n",
    "# Payoff klasycznej funkcji call\n",
    "ax1.plot(ST,np.array((X.iloc[:,-1] - K) * (X.iloc[:,-1] > K)), color = 'purple', linewidth = 3, label='H')\n",
    "ax1.set_ylim(top=max(max((X.iloc[:,-1] - K) * (X.iloc[:,-1] > K)),max(measure_payoff(X.iloc[ST>K,:],p,K)))+2)\n",
    "ax1.set_ylim(bottom = -2)\n",
    "ax1.set_title('Klasyczna opcja call, K = ' + str(K))\n",
    "ax1.legend(loc=\"upper left\")\n",
    "ax1.set_xticks(np.arange(70,141,10))\n",
    "\n",
    "# Payoff procentowej opcji call\n",
    "ax2.plot(ST[ST<=K],np.array(measure_payoff(X.iloc[ST<=K,:],p,K)), color = 'blue', linewidth = 3, label='H')\n",
    "ax2.plot(ST[ST>K],np.array(measure_payoff(X.iloc[ST>K,:],p,K)), color = 'blue', linewidth = 3)\n",
    "ax2.set_ylim(top=max(max((X.iloc[:,-1] - K) * (X.iloc[:,-1] > K)),max(measure_payoff(X.iloc[ST>K,:],p,K)))+2)\n",
    "ax2.set_ylim(bottom = -2)\n",
    "ax2.set_title('Procentowa opcja call, K = ' + str(K) + ', p = ' +  str(p))\n",
    "ax2.legend(loc=\"upper left\")\n",
    "ax2.set_xticks(np.arange(70,141,10))\n",
    "\n",
    "plt.show()\n"
   ]
  },
  {
   "cell_type": "markdown",
   "id": "9223534c",
   "metadata": {},
   "source": [
    "Zobaczmy, że taka opcja rzeczywiście może spełniać powyższy warunek. Podstawiamy za $H$ policzony payoff i otrzymujemy\n",
    "\n",
    "$$D = \\Big{\\{} e^{\\lambda W_{T} + \\frac{1}{2} \\lambda^{2}T} = \\tilde{a} \\cdot \\left( 1 - p \\right) \\cdot S_{T} \\cdot \\mathbb{1}_{\\{ S_{T} > K \\}}  \\Big{\\}}$$\n",
    "\n",
    "oraz po rozpisaniu $S_{T}$\n",
    "\n",
    "$$D = \\Big{\\{} e^{\\lambda W_{T} + \\frac{1}{2} \\lambda^{2}T} = \\tilde{a} \\cdot \\left( 1 - p \\right) \\cdot e^{\\left(\\mu - \\frac{\\sigma^{2}}{2}\\right)T + \\sigma W_{T}} \\cdot \\mathbb{1}_{\\{ S_{T} > K \\}}  \\Big{\\}}.$$\n",
    "\n",
    "Intuicja za powyższym warunkiem $\\left( D = \\Big{\\{} \\frac{dP}{dQ} = \\tilde{a} H \\Big{\\}} \\right)$ jest następująca: chcemy przeskalować payoffu opcji, w sposób, który umożliwia jej pokrycie się z pochodną Radona-Nikodyma na pewnym przedziale (w tym przypadku $S_{T} < K$). Sytuację przed i po przeskalowanu możemy zaobserwowac na poniższych wykresach: (Uwaga! w literaturze patrzy się na ceny z perspektywy stosunku do wartości początkowej aktywa, tu jednak pozostaniemy przy wartościach nominalnych, tak więc pochodna Radona-Nikodyma została przemnożona przez cenę początkową wynoszącą 100)"
   ]
  },
  {
   "cell_type": "code",
   "execution_count": null,
   "id": "0a6d65bd",
   "metadata": {},
   "outputs": [],
   "source": [
    "WT = np.arange(-2,8,0.01)\n",
    "ST = X0*np.exp((mu-sigma**2/2)*T+sigma*WT)\n",
    "X = np.zeros(shape=(len(ST),2))\n",
    "X[:,0], X[:,1] = X0, ST\n",
    "X = pd.DataFrame(X)\n",
    "\n",
    "#plt.plot(WT,np.array(a_wave*measure_payoff(X,p,1.1)))\n",
    "#Radon-Nikodym\n",
    "dP_dQ = np.exp(l*WT+0.5*l**2*T)"
   ]
  },
  {
   "cell_type": "code",
   "execution_count": null,
   "id": "c058b662",
   "metadata": {},
   "outputs": [],
   "source": [
    "################\n",
    "fig, (ax1, ax2) = plt.subplots(1, 2)\n",
    "fig.set_figwidth(10)\n",
    "\n",
    "ax1.set_xlabel('$\\mathregular{W_T}$')\n",
    "ax1.set_ylabel('Payoff', labelpad=20)\n",
    "ax2.set_xlabel('$\\mathregular{W_T}$')\n",
    "#ax2.set_ylabel('Payoff', labelpad=20)\n",
    "\n",
    "# Payoff klasycznej funkcji call\n",
    "ax1.plot(WT,np.array((X.iloc[:,-1] - K) * (X.iloc[:,-1] > K)), color = 'blue', linewidth = 3)\n",
    "ax1.plot(WT, X0*dP_dQ, color = 'orange', linewidth = 3)\n",
    "ax1.set_ylim(top=max(X0*dP_dQ)+2)\n",
    "ax1.set_title('Klasyczna opcja call')\n",
    "\n",
    "# Payoff procentowej opcji call\n",
    "ax2.plot(WT[ST<=K],np.array(measure_payoff(X.iloc[ST<=K,:],p,K)), color = 'blue', linewidth = 3)\n",
    "ax2.plot(WT[ST>K],np.array(measure_payoff(X.iloc[ST>K,:],p,K)), color = 'blue', linewidth = 3)\n",
    "ax2.plot(WT, X0*dP_dQ, color = 'orange', linewidth = 3)\n",
    "ax2.set_title('Procentowa opcja call')\n",
    "ax2.set_ylim(top=max(X0*dP_dQ)+2)\n",
    "plt.show()"
   ]
  },
  {
   "cell_type": "code",
   "execution_count": null,
   "id": "bf82c78c",
   "metadata": {},
   "outputs": [],
   "source": [
    "#Przeskalowane przez a_wave\n",
    "a_wave = np.exp((sigma**2-mu)*T)/(1-p)\n",
    "fig, (ax1, ax2) = plt.subplots(1, 2)\n",
    "fig.set_figwidth(10)\n",
    "\n",
    "ax1.set_xlabel('$\\mathregular{W_T}$')\n",
    "ax1.set_ylabel('Payoff', labelpad=20)\n",
    "ax2.set_xlabel('$\\mathregular{W_T}$')\n",
    "#ax2.set_ylabel('Payoff', labelpad=20)\n",
    "\n",
    "# Payoff klasycznej funkcji call\n",
    "ax1.plot(WT,a_wave*np.array((X.iloc[:,-1] - K) * (X.iloc[:,-1] > K)), color = 'blue', linewidth = 3)\n",
    "ax1.plot(WT, X0*dP_dQ, color = 'orange', linewidth = 3)\n",
    "ax1.set_ylim(top=max(X0*dP_dQ)+2)\n",
    "ax1.set_title('Klasyczna opcja call')\n",
    "ax1.plot()\n",
    "\n",
    "# Payoff procentowej opcji call\n",
    "ax2.plot(WT[ST<=K],np.array(a_wave*measure_payoff(X.iloc[ST<=K,:],p,K)), color = 'blue', linewidth = 3)\n",
    "ax2.plot(WT[ST>K],np.array(a_wave*measure_payoff(X.iloc[ST>K,:],p,K)), color = 'green', linewidth = 3)\n",
    "ax2.plot(WT[ST<=K], X0*dP_dQ[ST<=K], color = 'orange', linewidth = 3)\n",
    "ax2.plot(WT[ST>K], X0*dP_dQ[ST>K], color = 'green', linewidth = 3)\n",
    "ax2.set_title('Procentowa opcja call')\n",
    "ax2.set_ylim(top=max(X0*dP_dQ)+2)\n",
    "plt.show()\n"
   ]
  },
  {
   "cell_type": "markdown",
   "id": "c24c7498",
   "metadata": {},
   "source": [
    "Przejdźmy więc do konkretnego doboru parametrów. Ponieważ $W_{T}$ jest traktowany jako *zmienna* tych funkcji, to w celu zapewnienia równości (na przedziale $S_{T} > K$) musimy zapewnić równość współczynników przy $W_{T}$ oraz tych mnożących funkcję wykładniczą. równość współczynników $W_{T}$ daje kluczowy warunek:\n",
    "\n",
    "$$\\lambda = \\sigma,$$\n",
    "\n",
    "co po rozpisaniu $\\lambda = \\frac{\\mu-r}{\\sigma}$ daje\n",
    "\n",
    "$$\\mu - r = \\sigma^{2}.$$\n",
    "\n",
    "Możemy teraz skrócić cześci potęg związanych z $W_{T}$ oraz użyć powyższego warunku do podstawienia pod $\\lambda$ i przenieść eksponens na jedną stronę, aby orzymać\n",
    "\n",
    "$$D = \\Big{\\{} e^{\\left(\\sigma^{2} - \\mu \\right)T} = \\tilde{a} \\cdot \\left( 1 - p \\right) \\cdot \\mathbb{1}_{\\{ S_{T} > K \\}}  \\Big{\\}}.$$\n",
    "\n",
    "Problematyczną kwestią zostaje wartość parametru $\\tilde{a}$, ponieważ nie wiemy, czy nasz warunek spowodował, że powyżej rzeczywiście może zachodzi równość. Przyjrzyjmy się więc temu. Z definicji mamy\n",
    "\n",
    "$$\\tilde{a} = inf \\Big{\\{} a: Q^{*} \\left( \\frac{dP}{dQ} > a \\cdot H \\right) \\leq \\alpha \\Big{\\}},$$\n",
    "\n",
    "podstawiamy $\\frac{dP}{dQ}$ i $H$\n",
    "\n",
    "$$\\tilde{a} = inf \\Big{\\{} a: Q^{*} \\left( e^{\\lambda W_{T} + \\frac{1}{2} \\lambda^{2}T} > a \\cdot \\left( 1 - p \\right) \\cdot S_{T} \\cdot \\mathbb{1}_{\\{ S_{T} > K \\}} \\right) \\leq \\alpha \\Big{\\}},$$\n",
    "\n",
    "ponownie rozpisujemy $S_{T}$\n",
    "\n",
    "$$\\tilde{a} = inf \\Big{\\{} a: Q^{*} \\left( e^{\\lambda W_{T} + \\frac{1}{2} \\lambda^{2}T} > a \\cdot \\left( 1 - p \\right) \\cdot e^{\\left(\\mu - \\frac{\\sigma^{2}}{2}\\right)T + \\sigma W_{T}} \\cdot \\mathbb{1}_{\\{ S_{T} > K \\}} \\right) \\leq \\alpha \\Big{\\}},$$\n",
    "\n",
    "i korzystamy z warunku $\\lambda = \\sigma$ oraz grupujemy\n",
    "\n",
    "$$\\tilde{a} = inf \\Big{\\{} a: Q^{*} \\left( e^{\\left(\\sigma^{2} - \\mu \\right)T} > a \\cdot \\left( 1 - p \\right) \\cdot \\mathbb{1}_{\\{ S_{T} > K \\}} \\right) \\leq \\alpha \\Big{\\}}$$\n",
    "\n",
    "i ostatnie przekształcenie\n",
    "\n",
    "$$\\tilde{a} = inf \\Big{\\{} a: Q^{*} \\left( \\frac{e^{\\left(\\sigma^{2} - \\mu \\right)T}}{a \\cdot \\left( 1 - p \\right)} > \\mathbb{1}_{\\{ S_{T} > K \\}} \\right) \\leq \\alpha \\Big{\\}}.$$\n",
    "\n",
    "Wprowadźmy oznaczenie\n",
    "\n",
    "$$l(a) := \\frac{e^{\\left(\\sigma^{2} - \\mu \\right)T}}{a \\cdot \\left( 1 - p \\right)}$$\n",
    "\n",
    "Szukamy więc ograniczenia dolnego dla a, spośród tych, dla których miara rozwiązań nierówności\n",
    "\n",
    "$$l(a) > \\mathbb{1}_{\\{ S_{T} > K \\}}$$\n",
    "\n",
    "w mierze $Q^{*}$ nie przekroczy $\\alpha$ (które jest ostro mniejsze od 1).\n",
    "\n",
    "Obrazowo:"
   ]
  },
  {
   "cell_type": "code",
   "execution_count": null,
   "id": "6831e05e",
   "metadata": {},
   "outputs": [],
   "source": [
    "ST = np.arange(70,170,1)\n",
    "K = 110\n",
    "\n",
    "fig, (ax1, ax2) = plt.subplots(1, 2)\n",
    "fig.set_figwidth(10)\n",
    "\n",
    "ax1.set_xlabel('$\\mathregular{S_T}$')\n",
    "ax1.set_ylabel('Payoff', labelpad=20)\n",
    "ax2.set_xlabel('$\\mathregular{S_T}$')\n",
    "#ax2.set_ylabel('Payoff', labelpad=20)\n",
    "\n",
    "# Infimum w klasycznej opcji call\n",
    "ax1.plot(ST[ST<=K],np.zeros(len(ST[ST<=K])), color = 'blue', linewidth = 3, label = '1-K/$\\mathregular{S_T}$')\n",
    "ax1.plot(ST[ST>=K],1-K/ST[ST>=K], color = 'blue', linewidth = 3)\n",
    "ax1.plot(ST,0.2*np.ones(len(ST)), color = 'orange', linewidth = 3, label='l(a)')\n",
    "ax1.set_title('Infimum w klasycznej opcji call')\n",
    "ax1.set_xlabel('$\\mathregular{S_T}$')\n",
    "ax1.set_ylim([-0.1,1.1])\n",
    "ax1.legend(loc=\"center left\")\n",
    "\n",
    "# Infimum w klasycznej opcji call\n",
    "ax2.plot(ST[ST<=K],np.zeros(len(ST[ST<=K])), color = 'blue', linewidth = 3, label='Indykator $\\mathregular{1_{S_T > K}}$' )\n",
    "ax2.plot(ST[ST>=K],np.ones(len(ST[ST>=K])), color = 'blue', linewidth = 3)\n",
    "ax2.plot(ST,0.2*np.ones(len(ST)), color = 'orange', linewidth = 3, label='l(a)')\n",
    "ax2.set_title('Infimum w procentowej opcji call')\n",
    "ax2.set_xlabel('$\\mathregular{S_T}$')\n",
    "ax2.set_ylim([-0.1,1.1])\n",
    "ax2.legend(loc=\"center left\")\n",
    "plt.show()\n",
    "\n",
    "#plt.plot(ST[ST<=K],np.zeros(len(ST[ST<=K])), color = 'blue', linewidth = 3, label='Indykator')\n",
    "#plt.plot(ST[ST>=K],np.ones(len(ST[ST>=K])), color = 'blue', linewidth = 3)\n",
    "#plt.plot(ST,0.7*np.ones(len(ST)), color = 'orange', linewidth = 3, label='l(a)')\n",
    "#plt.xlabel('$\\mathregular{S_T}$')\n",
    "#plt.ylabel('Wartość', labelpad=20)\n",
    "#plt.title('Poszukiwanie infimum')\n",
    "#plt.legend(loc=\"upper left\")"
   ]
  },
  {
   "cell_type": "markdown",
   "id": "30311fbe",
   "metadata": {},
   "source": [
    "Widzimy więc, ze mamy trzy przypadki:\n",
    "\n",
    "1. Jeśli $l(a) < 0$ to $Q^{*} \\left( l(a) > \\mathbb{1}_{\\{ S_{T} > K \\}} \\right) = 0$ \n",
    "\n",
    "2. Jeśli $l(a) \\geq 1$ to $Q^{*} \\left( l(a) > \\mathbb{1}_{\\{ S_{T} > K \\}} \\right) = 1$\n",
    "\n",
    "3. Jeśli $l(a) \\in [0,1)$ to $Q^{*} \\left( l(a) > \\mathbb{1}_{\\{ S_{T} > K \\}} \\right) = Q^{*} \\left(S_{T} \\leq K \\right)$\n",
    "\n",
    "Okazuje się jednak, że zachodzi: \n",
    "$$Q^{*} \\left(S_{T} > K \\right) = 0$$\n",
    "\n",
    "Dowód:\n",
    "$$Q^{*} \\left(S_{T} \\leq K \\right) = \\mathbb{E}_{Q^{*}} \\left[ \\mathbb{1}_{\\{ S_{T} \\leq K \\}} \\right] = \\mathbb{E}_{Q} \\left[ \\frac{dQ^{*}}{dQ} \\mathbb{1}_{\\{ S_{T} \\leq K \\}} \\right] = \\mathbb{E}_{Q} \\left[ \\frac{H}{H_{0}} \\mathbb{1}_{\\{ S_{T} \\leq K \\}} \\right] = \\mathbb{E}_{Q} \\left[ \\frac{\\left( 1 - p \\right) \\cdot S_{T}  \\cdot \\mathbb{1}_{\\{ S_{T} > K \\}}}{H_{0}} \\mathbb{1}_{\\{ S_{T} \\leq K \\}} \\right] = 0.$$\n",
    "\n",
    "Redukuje to nam sytuację do dwóch przypadków\n",
    "\n",
    "1. Jeśli $l(a) < 1$ to $Q^{*} \\left( l(a) > \\mathbb{1}_{\\{ S_{T} > K \\}} \\right) = 0$ \n",
    "\n",
    "2. Jeśli $l(a) \\geq 1$ to $Q^{*} \\left( l(a) > \\mathbb{1}_{\\{ S_{T} > K \\}} \\right) = 1$\n",
    "\n",
    "A ponieważ $l(a)$ jest malejące ze względu na $a$, to infimum jest osiagane rzeczywiście gdy $l(a) = 1$, co daje upragnioną równość."
   ]
  },
  {
   "cell_type": "markdown",
   "id": "80c69084",
   "metadata": {},
   "source": [
    "# Wyniki drugiej funkcji celu na Procentowej Opcji Call"
   ]
  },
  {
   "cell_type": "markdown",
   "id": "d9e771ce",
   "metadata": {},
   "source": [
    "Przypomnijmy, że druga funckja celu jest maksymalizowana przez pełny hedging opcji o payoffie $\\tilde{\\phi} \\cdot H$ dla\n",
    "\n",
    "$$\\tilde{\\phi} = \\mathbb{1}_{\\{ \\frac{dP}{dQ} \\leq \\tilde{a}H \\}} + \\gamma \\cdot \\mathbb{1}_{\\{ \\frac{dP}{dQ} = \\tilde{a}H \\}},$$\n",
    "gdzie\n",
    "$\\gamma = \\frac{\\alpha - Q^{*}\\left( \\frac{dP}{dQ} \\leq \\tilde{a}H \\right)}{Q^{*}\\left( \\frac{dP}{dQ} = \\tilde{a}H \\right)}.$ Otrzymany rezultat upraszcza tę sytuację do\n",
    "\n",
    "$$\\gamma = \\frac{\\alpha - 0}{1} = \\alpha$$\n",
    "i w konsekwencji\n",
    "$$\\tilde{\\phi} = \\alpha \\cdot \\mathbb{1}_{\\{ \\frac{dP}{dQ} = \\tilde{a}H \\}} = \\frac{V_{0}}{H_{0}} \\cdot \\mathbb{1}_{\\{ \\frac{dP}{dQ} = \\tilde{a}H \\}}$$\n",
    "\n",
    "Oznacza to, że w przypadku tej opcji, idealnie będziemy \"zabezpieczeni\" jedynie na sytuacje, w których nie dojdzie do wypłaty. W przypadkach gdy do wypłaty dojdzie, będziemy natomiast zawsze tracili i naszym celem będzie minimalizowanie tej straty. Wynika na to, że strategią realizującą ten cel, będzie dokładny $\\Delta$-hedging opcji, której payoff jest przemnożony przez stosunek kapitału, który chcemy przeznaczyć na hedging kwantylowy, do ceny opcji. Obrazuje to poniższy wykres:"
   ]
  },
  {
   "cell_type": "code",
   "execution_count": null,
   "id": "50516013",
   "metadata": {},
   "outputs": [],
   "source": [
    "ST = np.arange(70,141,0.1)\n",
    "X = np.zeros(shape=(len(ST),2))\n",
    "X[:,0], X[:,1] = X0, ST\n",
    "X = pd.DataFrame(X)\n",
    "\n",
    "fig = plt.figure()\n",
    "fig.set_figwidth(10)\n",
    "plt.plot(ST[ST<=K],np.array(measure_payoff(X.iloc[ST<=K,:],p,K)), color = 'blue', linewidth = 3, label='Payoff opcji')\n",
    "plt.plot(ST[ST>K],np.array(measure_payoff(X.iloc[ST>K,:],p,K)), color = 'blue', linewidth = 3)\n",
    "plt.plot(ST[ST<=K],np.array(measure_payoff(X.iloc[ST<=K,:],p,K)), color = 'green', linewidth = 3)\n",
    "plt.plot(ST[ST>K],0.8*np.array(measure_payoff(X.iloc[ST>K,:],p,K)), color = 'orange', linewidth = 3, label='Payoff do zabezpieczenia')\n",
    "plt.xlabel('$\\mathregular{S_T}$')\n",
    "plt.ylabel('Wartość', labelpad=20)\n",
    "plt.title('Payoff funkcji do hedgingu kwantylowego')\n",
    "plt.legend(loc=\"upper left\")"
   ]
  },
  {
   "cell_type": "markdown",
   "id": "96898345",
   "metadata": {},
   "source": [
    "Mają już wyprowadzoną całą teorię, możemy spojrzeć jak rpzekłąda się ona na wyniki z symulacji. Zobaczmy więc, jak zwiększanie przekazywanego na hedging  kwantylowy kapitału, przekłada się, na funkcje celu w przypadku procentowej opcji call.\n",
    "\n",
    "Uwaga 1: Do poniższych symulacji oraz oszacowania ceny opcji korzystamy z symulacji Monte Carlo (jest to przy okazji test, czy nasza klasa działa na \"dowoloną\" opcję), jednak można by użyć jawnych wzorów, ponieważ w przypadku powyższej opcji wszystkie wartości są nam znane, gdyż ich wyprowadzenie jest niemalże identyczne jak w przypadku klasycznej opcji call. Tak więc dla zainteresowanych:\n",
    "\n",
    "Cena Procentowej Opcji Call:\n",
    "\n",
    "$$H_{t} = (1-p) \\cdot S_{0} \\cdot \\Phi(d_{2} + \\sigma \\cdot \\sqrt{T-t},0,1),$$\n",
    "\n",
    "gdzie $\\Phi(x,0,1)$ oznacza dystrybuantę rozkładu normalnego N(0,1), natomiast\n",
    "\n",
    "$$d_{2} = \\frac{log{\\left( \\frac{S_{0}}{K} \\right) + \\left( r - \\frac{\\sigma^{2}}{2} \\right) \\cdot \\left( T-t \\right)}}{\\sigma \\cdot \\sqrt{T-t} },$$\n",
    "\n",
    "Wzór na Deltę:\n",
    "$$\\Delta_{t} = (1-p) \\cdot \\Phi(d_{2},0,1).$$\n",
    "\n",
    "Uwaga 2: przyjęliśmy bardzo rygorystyczny warunek, że wyniki poniżej zera są porażkami (tak więc delta hedging dajacy przykładowo -0.05 jest wartością ujemną, a więc porażką, a nie \"blisko zera = sukcesem\"\n",
    "\n",
    "Spójrzmy na wyniki symulacji:"
   ]
  },
  {
   "cell_type": "code",
   "execution_count": null,
   "id": "d8370f4a",
   "metadata": {},
   "outputs": [],
   "source": [
    "alphas = np.arange(0.15,1,0.2)\n",
    "\n",
    "mu = 0.06\n",
    "sigma =  0.2\n",
    "r = 0.03\n",
    "T = 1\n",
    "X0 = 100\n",
    "repeat = 20\n",
    "values_per_year = 250\n",
    "K = 110\n",
    "\n",
    "def measure_payoff(X,p,K):\n",
    "    return (1-p)*X.iloc[:, -1]*(X.iloc[:, -1] > K)\n",
    "\n",
    "underlying = Underlying(mu, sigma, r, values_per_year)\n",
    "_, reality = underlying.simulate_P(repeat, T)\n",
    "option = Option(underlying,lambda X : measure_payoff(X,p,K),T)\n",
    "Measure_Price = option.get_MC_price(X0)\n",
    "\n",
    "Collection_Funkcja_Uno_Mean = []\n",
    "Collection_Funkcja_Dos_Mean = []\n",
    "\n",
    "for a in alphas:\n",
    "    funkcja_uno = np.zeros(reality.shape[0])\n",
    "    funkcja_dos = np.zeros(reality.shape[0])\n",
    "    for i in tqdm(range(repeat)):\n",
    "        trader = Trader(initial_capital = a*Measure_Price)\n",
    "        dont_mind, don_care, obj = trader.simulate_hedging(option, X0*reality.iloc[[i],:], update_freq = 1)\n",
    "        funkcja_uno[i] = obj[0]\n",
    "        funkcja_dos[i] = obj[1]\n",
    "    Collection_Funkcja_Uno_Mean.append(np.mean(funkcja_uno))\n",
    "    Collection_Funkcja_Dos_Mean.append(np.mean(funkcja_dos))"
   ]
  },
  {
   "cell_type": "code",
   "execution_count": null,
   "id": "233184e4",
   "metadata": {},
   "outputs": [],
   "source": [
    "fig = plt.figure()\n",
    "fig.set_figwidth(8,5)\n",
    "fig.set_figheight(5)\n",
    "plt.plot(alphas, Collection_Funkcja_Uno_Mean, color = 'black')\n",
    "plt.plot(alphas, Collection_Funkcja_Dos_Mean, color = 'blue')\n",
    "plt.legend(['Pierwsza funkcja celu', 'Druga funkcja celu'], loc = 'lower right')\n",
    "plt.title('Funkcje celów Procentowej opcji call')\n",
    "plt.xlabel('Część ceny BS')\n",
    "plt.ylabel('Wartość')\n",
    "plt.xlim([min(alphas),max(alphas)])\n",
    "plt.ylim([0,1])\n",
    "plt.show()"
   ]
  },
  {
   "cell_type": "markdown",
   "id": "9f02fabc",
   "metadata": {},
   "source": [
    "Możemy ogłosić sukces! Jak widzimy, dla opcji zaprojektowanej w ten sposób, zwiększanie nakładów na hedging kwantylowy rzeczywiście optymalizuje drugą funkcję celu, mimo że nie zmienia nic w wartośći pierwszej. Udało się nam więc jawnie uwypuklić, że teoria stojąca za optymalizowaniem drugiej funkcji celu działa samoistnie i nie jest implikowana przez optymalizację pierwszej funkcji celu"
   ]
  },
  {
   "cell_type": "markdown",
   "id": "58939e2b",
   "metadata": {},
   "source": [
    "## Wprowadzenie do zabezpieczania opcji w przypadku gdy $S_t$ jest niehandlowalne"
   ]
  },
  {
   "cell_type": "code",
   "execution_count": null,
   "id": "75ab840a",
   "metadata": {
    "hideCode": true
   },
   "outputs": [],
   "source": [
    "mu = 0.06\n",
    "mu_tilde = 0.06\n",
    "sigma =  0.3\n",
    "sigma_tilde =  0.3\n",
    "r = 0.05\n",
    "S0 = 100\n",
    "X0_t = 100\n",
    "T = 1\n",
    "K = 100\n",
    "repeat = 1000\n",
    "values_per_year = 250\n",
    "rho = 0.7"
   ]
  },
  {
   "cell_type": "markdown",
   "id": "ef779a40",
   "metadata": {},
   "source": [
    "### Krótkie wprowadzenie\n",
    "W przypadku opcji niehandlowalnych w celu osiągnięcia wniosków będziemy korzystać z metod monte carlo. Metoda z której korzystamy została przedstawiona na wykładzie, korzysta ona z parametru $m$, który jest przez uwikłanie związany z wartością kapitału początkowego $V$. Dla ustalonego parametru $m$ oraz wygenerowanej zmiennej $\\widetilde{W_T}$ będziemy badać funkcje postaci $$ F_Q(x) =\\mathbb{E}^Q[\\frac{dP}{dQ} \\phi_D^x| \\widetilde{W_T}],$$\n",
    "gdzie $\\phi_D^x$ jest wartością funkcji celu dla funkcji payoffu $D$,a $x$ kapitałem portfela w momencie wykonania opcji. Z kolei $\\frac{dP}{dQ}$ jest pochodną Radona - Nikodyma daną poniższym wzorem: \n",
    "\n",
    "$$\\frac{\\partial P}{\\partial Q} = \\exp{\\dfrac{\\widetilde{\\mu}-r}{\\widetilde{\\sigma}} \\widetilde{W_T} + \\frac{1}{2} \\left( \\dfrac{ \\widetilde{\\mu}-r}{ \\widetilde{\\sigma}} \\right) ^2 T}$$\n",
    "Dla takiej funkcji $F_Q(x)$ będziemy dopasowywać styczną do niej, który ogranicza ją z góry. Najmniejszy punkt styczności będzie wartością portfela w momencie wykonania opcji. Przy znajdowaniu stycznej będziemy korzystać z pochodnych tych funkcji. Poniżej przedstawimy w uproszczonej formie funkcje $F_Q(x)$ oraz ich pochodne, dla obu funkcji celu, dla pierwszej funkcji celu, będziemy oznaczać ją jako $F_Q(x)$, a dla drugiej jako $G_Q(x)$. Warto zwrócić uwagę, że zarówno $F_Q(x)$, jak i $G_Q(x)$ funkcje te są ograniczone z dołu przez 0, a z góry przez $\\frac{dP}{dQ} oraz są niemalejące$l.$"
   ]
  },
  {
   "cell_type": "markdown",
   "id": "63ba9a0b",
   "metadata": {},
   "source": [
    "#### Jak znaleźć styczną?\n",
    "Aby znaleźć taką styczną należy znaleźć takie argumenty $x$, aby wartości odpowiednio $F_Q'(x)$, bądź $G_Q'$ wynosiły $m$. Dla takich punktów należy sprawdzić czy styczna przechodząca przez nie ogranicza z góry, $F_Q'(x)$, bądź $G_Q'$, jeśli tak to wybierzemy taki najmniejszy $x$, który to spełnia, natomiast jeśli nie ma takiego $x$, to takiej stycznej nie ma i wartość portfela tuż przed wykonaniem opcji będzie wynosić 0."
   ]
  },
  {
   "cell_type": "markdown",
   "id": "607dcc82",
   "metadata": {},
   "source": [
    "### Pierwsza funkcja celu\n",
    "#### Opcja call\n",
    "$$ F_Q(x) = \\frac{\\partial P}{\\partial Q} \\Phi \\left[ \\frac{\\log{ \\frac{k+x}{S_0}}- \\mu T + \\frac{\\sigma^2 T}{2} - \\rho \\sigma \\widetilde{W_T}}{\\sigma \\sqrt{T(1-\\rho^2)}}\\right]$$\n",
    "\n",
    "$$ F_Q'(x) = \\frac{\\partial P}{\\partial Q} \\frac{1}{\\sqrt{2\\pi}} \\exp{\\left( - \\frac{ \\left[\\log{ \\frac{k+x}{S_0}}- \\mu T + \\frac{\\sigma^2 T}{2} - \\rho \\sigma \\widetilde{W_T}\\right]^2} {2 \\sigma^2 T(1-\\rho^2)} \\right)} \\frac{1}{\\left(k+x\\right) \\left( \\sigma \\sqrt{T(1-\\rho^2)}\\right)}$$\n",
    "#### Opcja put\n",
    "$$ F_Q(x) = \\frac{\\partial P}{\\partial Q} \\left ( 1- \\Phi \\left[ \\frac{\\log{ \\frac{k-x}{S_0}}- \\mu T + \\frac{\\sigma^2 T}{2} - \\rho \\sigma \\widetilde{W_T}}{\\sigma \\sqrt{T(1-\\rho^2)}}\\right] \\right)$$\n",
    "\n",
    "$$ F_Q'(x) = \\frac{\\partial P}{\\partial Q} \\frac{1}{\\sqrt{2\\pi}} \\exp{\\left( - \\frac{ \\left[\\log{ \\frac{k-x}{S_0}}- \\mu T + \\frac{\\sigma^2 T}{2} - \\rho \\sigma \\widetilde{W_T}\\right]^2} {2 \\sigma^2 T(1-\\rho^2)} \\right)} \\frac{1}{\\left(k-x\\right) \\left( \\sigma \\sqrt{T(1-\\rho^2)}\\right)}$$"
   ]
  },
  {
   "cell_type": "markdown",
   "id": "1e320f2e",
   "metadata": {},
   "source": [
    "#### Znajdywanie stycznej\n",
    "W tym przypadku stosując podstawienie $u = \\log{(k+x)}$ dla opcji call, $u = \\log{(k-x)}$ dla opcji put, sprowadzimy zagadnienie $ F_Q'(x) = m$, do znalezienia miejsc zerowych funkcji kwadratowej. Jeśli takich miejsc nie ma to odpowiednia styczna nie istnieje, natomiast jeśli są to należy z nich $x$ stosując podstawienie odwrotne. W przypadku gdy jest jedno miejsce zerowe to należy sprawdzić czy odpowiadająca mu styczna ogranicza z góry $F_Q(x)$, dzięki właściwościom $F_Q(x)$, wystarczy to sprawdzić dla $x$, w pobliżu 0, należy również sprawdzić czy $x \\geq 0$, jeśli tak to znaleźlismy wartość portfela w chwili $T$. W przypadku gdy są dwa miejsca zerowe postępujemy analogicznie, również znajdujemy odpowiednie $x$, poprzez podstawienie odwrotne, jednak z własności funkcji $F_Q(x)$, wiemy styczna przechodząca przez mniejszego $x$ nie ogranicza z góry $F_Q(x)$, zatem istnieje jedynie jeden kandydat na styczną, wobec czego należy przeprowadzić analogiczne rozumowanie do przypadku gdy istniało tylko jedno miejsce zerowe. Poniżej znajdują się wykresy przedstawiające przykładową funkcje $F_Q(x), F_Q'(x),$ dobraną styczną oraz różnice między styczną, a $F_Q(x).$"
   ]
  },
  {
   "cell_type": "code",
   "execution_count": null,
   "id": "d774bdb4",
   "metadata": {
    "hideCode": true
   },
   "outputs": [],
   "source": [
    "x_range = 200\n",
    "delta = 0.1\n",
    "W_T_tilde = 3\n",
    "rho = 0.7\n",
    "x_call = np.arange(delta, x_range + delta, delta)\n",
    "df_call = pd.DataFrame({ \"x\" : x_call, \"G(x)\" : None, \"G2(x)\" : None, \"G2'(x)\" : None})\n",
    "m = 0.005\n",
    "for i in range(len(x_call)):\n",
    "    df_call.at[i, \"G(x)\"] = G_func(df_call.at[i, 'x'], mu, sigma, mu_tilde, sigma_tilde, r, T, K, S0, W_T_tilde, rho, type = \"call\", target_function = 1, derivative = False)\n",
    "    df_call.at[i, \"G2(x)\"] = G_func(df_call.at[i, 'x'], mu, sigma, mu_tilde, sigma_tilde, r, T, K, S0, W_T_tilde, rho, type = \"call\", target_function = 2, derivative = False)\n",
    "    df_call.at[i, \"G'(x)\"] = G_func(df_call.at[i, 'x'], mu, sigma, mu_tilde, sigma_tilde, r, T, K, S0, W_T_tilde, rho, type = \"call\", target_function = 1, derivative = True)\n",
    "    df_call.at[i, \"G2'(x)\"] = G_func(df_call.at[i, 'x'], mu, sigma, mu_tilde, sigma_tilde, r, T, K, S0, W_T_tilde, rho, type = \"call\", target_function = 2, derivative = True)"
   ]
  },
  {
   "cell_type": "code",
   "execution_count": null,
   "id": "d3136a70",
   "metadata": {
    "hideCode": true
   },
   "outputs": [],
   "source": [
    "fig, axs = plt.subplots(1,2, figsize = (20, 10))\n",
    "axs[0].plot(df_call['x'],df_call['G(x)'], label = \"$F_Q(x)$\")\n",
    "axs[0].set_title(\" $F_Q(x)$, Opcja call, $\\widetilde{\\mathregular{W_T}}$ = 3, K = 100, rho = 0.7\")\n",
    "axs[0].set_xlabel('x')\n",
    "axs[0].legend(loc='upper left')\n",
    "axs[1].plot(df_call[\"x\"],df_call[\"G'(x)\"], label = \"$F'_Q(x)$\")\n",
    "axs[1].set_title(\"$F'_Q(x)$, Opcja call, $\\widetilde{\\mathregular{W_T}}$ = 3, m = 0.005\")\n",
    "axs[1].set_xlabel('x')\n",
    "axs[1].axhline(y = 0.005, color = 'r', linestyle = 'dashdot', label = \"m\")\n",
    "axs[1].legend(loc='upper left')\n",
    "plt.show()"
   ]
  },
  {
   "cell_type": "code",
   "execution_count": null,
   "id": "d570b861",
   "metadata": {
    "hideCode": true
   },
   "outputs": [],
   "source": [
    "x = find_x(m, W_T_tilde, mu, sigma, mu_tilde, sigma_tilde, r, T, K, S0,  rho, type = 'call', target_function = 1,  left_bound = 0.01,eps = 0.1 ** 10, right_bound = 100, arg_inf = 120)\n",
    "df = plot_line_G(x, m, mu, sigma, mu_tilde, sigma_tilde, r, T, K, S0, W_T_tilde, rho, type = 'call', x_range = 200)\n",
    "fig, axs = plt.subplots(1,2, figsize = (20, 10))\n",
    "axs[0].plot(df['x'], df[\"G(x)\"], label = \"$F_Q(x)$\")\n",
    "axs[0].plot(df['x'], df[\"Line\"], label = \"Line\")\n",
    "axs[0].set_xlabel('x')\n",
    "axs[0].legend(loc='upper left')\n",
    "axs[0].set_title(\" $F_Q(x)$, Opcja call, $\\widetilde{\\mathregular{W_T}}$ = 3, K = 100, rho = 0.7\")\n",
    "axs[1].plot(df['x'], df[\"Diff\"], label = \"Line - $F_Q(x)$\")\n",
    "axs[1].legend(loc='upper left')\n",
    "axs[0].set_xlabel('x')\n",
    "plt.plot()"
   ]
  },
  {
   "cell_type": "markdown",
   "id": "39b9b30f",
   "metadata": {},
   "source": [
    "### Druga funkcja celu\n",
    "#### Opcja call\n",
    "\n",
    "$$a(x) = \\left[ \\frac{\\log{ \\frac{k+x}{S_0}}- \\mu T + \\frac{\\sigma^2 T}{2} - \\rho \\sigma \\widetilde{W_T}}{\\sigma \\sqrt{1-\\rho^2}}\\right] $$\n",
    "$$ G_Q(x) = G_1(x) + \\frac{\\partial P}{\\partial Q}  \\int_{a(x)}^\\infty \\dfrac{x}{S_0\\exp(\\mu T+\\sigma \\widetilde{W_T} \\rho+\\sqrt{1-\\rho^2} y \\sigma - \\sigma^2 T/2)-K} f_{W_T}(y)dy  $$\n",
    "$$ G_Q'(x) = \\frac{\\partial P}{\\partial Q}  \\left[ \\int_{a(x)}^\\infty \\dfrac{1}{S_0\\exp(\\mu T+\\sigma \\widetilde{W_T} \\rho+\\sqrt{1-\\rho^2} y \\sigma - \\sigma^2 T/2)-K} f_{W_T}(y)dy  \\right] $$\n",
    "\n",
    "#### Opcja put\n",
    "\n",
    "$$b(x) = \\left[ \\frac{\\log{ \\frac{k-x}{S_0}}- \\mu T + \\frac{\\sigma^2 T}{2} - \\rho \\sigma \\widetilde{W_T}}{\\sigma \\sqrt{1-\\rho^2}}\\right] $$\n",
    "$$ G_2(x) = G_1(x) + \\frac{\\partial P}{\\partial Q}  \\int_{-\\infty}^b \\dfrac{x}{ K - S_0\\exp(\\mu T+\\sigma \\widetilde{W_T} \\rho+\\sqrt{1-\\rho^2} y \\sigma - \\sigma^2 T/2)} f_{W_T}(y)dy $$\n",
    "$$ G_2'(x) = \\frac{\\partial P}{\\partial Q}  \\int_{-\\infty}^b \\dfrac{1}{ K - S_0\\exp(\\mu T+\\sigma \\widetilde{W_T} \\rho+\\sqrt{1-\\rho^2} y \\sigma - \\sigma^2 T/2)} f_{W_T}(y)dy $$"
   ]
  },
  {
   "cell_type": "markdown",
   "id": "c6943eef",
   "metadata": {},
   "source": [
    "#### Znajdywanie stycznej\n",
    "Dla drugiej funkcji celu podejście jest numeryczne zamiast analitycznego. Wynika to z faktu, że pochodna nie jest zadana w sposób jawny, tylko postaci całkowej i będziemy więc liczyć jej wartość w sposób numeryczny do tego celu posłużą nam narzędzia z biblioteki *scipy*.Z drugiej strony funkcja funkcja $G_Q'(x)$ jest funkcją malejącą wobec czego ułatwi to nam znajdywanie odpowiedniej stycznej, gwarantuje to nam istnienie jedynej stycznej. Nasz algorytm polegał na wzięciu przedziału $[a,b]$, gdzie punkt $a$ leży w pobliżu 0, a $b$ taki aby wyrażenie $G_Q'(b)-m$ było ujemne. Na początku sprawdzamy czy $G_Q'(a)$ jest większe od $m$, jeśli nie wartość portfela w chwili T wynosi 0. Natomiast jeśli tak to znajdujemy miejsce zerowe wyrażenia $G_Q'(x)-m$ przy pomocy bisekcji i jest to punkt przez który nasza styczna. Z wklęsłości $G_Q(x)$, wiemy że jej styczna ogranicza ją z góry. "
   ]
  },
  {
   "cell_type": "code",
   "execution_count": null,
   "id": "4da4d382",
   "metadata": {
    "hideCode": true
   },
   "outputs": [],
   "source": [
    "fig, axs = plt.subplots(1,2, figsize = (20, 10))\n",
    "axs[0].plot(df_call['x'],df_call['G2(x)'], label = \"$G_Q(x)$\")\n",
    "axs[0].set_title(\" $G_Q(x)$, Opcja call, $\\widetilde{\\mathregular{W_T}}$ = 3, K = 100, rho = 0.7\")\n",
    "axs[0].set_xlabel('x')\n",
    "axs[0].legend(loc='upper left')\n",
    "axs[1].plot(df_call[\"x\"],df_call[\"G2'(x)\"], label = \"$G'_Q(x)$\")\n",
    "axs[1].set_title(\"$G'_Q(x)$, Opcja call, $\\widetilde{\\mathregular{W_T}}$ = 3, K = 100, rho = 0.7 m = 0.005\")\n",
    "axs[1].set_xlabel('x')\n",
    "axs[1].axhline(y = 0.005, color = 'r', linestyle = 'dashdot', label = \"m\")\n",
    "axs[1].legend(loc='upper left')\n",
    "plt.show()"
   ]
  },
  {
   "cell_type": "code",
   "execution_count": null,
   "id": "01740479",
   "metadata": {
    "hideCode": true,
    "hideOutput": false,
    "hidePrompt": false
   },
   "outputs": [],
   "source": [
    "x = find_x(m, W_T_tilde, mu, sigma, mu_tilde, sigma_tilde, r, T, K, S0,  rho, type = 'call', target_function = 2,  left_bound = 0.01,eps = 0.1 ** 10, right_bound = 100, arg_inf = 120)\n",
    "df = plot_line_G(x, m, mu, sigma, mu_tilde, sigma_tilde, r, T, K, S0, W_T_tilde, rho, type = 'call', x_range = 200, target_function = 2)\n",
    "fig, axs = plt.subplots(1,2, figsize = (20, 10))\n",
    "axs[0].plot(df['x'], df[\"G2(x)\"], label = \"$G_Q(x)$\")\n",
    "axs[0].plot(df['x'], df[\"Line\"], label = \"Line\")\n",
    "axs[0].set_xlabel('x')\n",
    "axs[0].legend(loc='upper left')\n",
    "axs[0].set_title(\" $G_Q(x)$, Opcja call, $\\widetilde{\\mathregular{W_T}}$ = 3, K = 100, rho = 0.7, m =0.005\")\n",
    "axs[1].plot(df['x'], df[\"Diff\"], label = \"Line - $G_Q(x)$\")\n",
    "axs[1].set_xlabel('x')\n",
    "axs[1].legend(loc='upper left')\n",
    "plt.plot();"
   ]
  },
  {
   "cell_type": "markdown",
   "id": "5fbf084f",
   "metadata": {},
   "source": [
    "### Przykładowe funkcje $F_Q(x)$ i $G_Q(x)$\n",
    "\n",
    "Na poniższych wykresach funkcja $F_Q(x) $ jest oznaczona kolorem niebieskim, a $G_Q(x)$ pomarańczowym."
   ]
  },
  {
   "cell_type": "code",
   "execution_count": null,
   "id": "116edf33",
   "metadata": {
    "hideCode": true,
    "hidePrompt": true
   },
   "outputs": [],
   "source": [
    "x_range_call = 200\n",
    "x_range_put = K\n",
    "delta = 0.1\n",
    "W_T_tilde = 3\n",
    "vec_W_T_tilde = [-3, -3, -1, -1, 1, 1, 3, 3]\n",
    "rho = 0.7\n",
    "x_call = np.arange(delta, x_range_call + delta, delta)\n",
    "df_call = pd.DataFrame({ \"x\" : x_call, \"G(x)\" : None, \"G2(x)\" : None, \"G2'(x)\" : None})\n",
    "x_put = np.arange(delta, K, delta)\n",
    "\n",
    "def dP_dQ(mu, sigma, T, r, W_T): \n",
    "    return np.exp(W_T * (mu-r) / sigma + 0.5 * T * ((mu - r) / sigma) ** 2)"
   ]
  },
  {
   "cell_type": "markdown",
   "id": "be22ade2",
   "metadata": {},
   "source": [
    "#### Wpływ parametru $\\widetilde{W_T}$ na funkcje F(x) i G(x)"
   ]
  },
  {
   "cell_type": "code",
   "execution_count": null,
   "id": "a5a66912",
   "metadata": {
    "hideCode": true,
    "hidePrompt": false
   },
   "outputs": [],
   "source": [
    "fig, axs = plt.subplots(4, 2, figsize=(15,15))\n",
    "Rad_Nik = dP_dQ(mu_tilde, sigma_tilde, T, r, W_T_tilde)\n",
    "for num, W_T_tilde in enumerate(vec_W_T_tilde):\n",
    "    if(num %2 ==0):\n",
    "        df_call = pd.DataFrame({ \"x\" : x_call, \"G(x)\" : None, \"G2(x)\" : None, \"G2'(x)\" : None})\n",
    "        for i in range(len(x_call)):\n",
    "            df_call.at[i, \"G(x)\"] = G_func(df_call.at[i, 'x'], mu, sigma, mu_tilde, sigma_tilde, r, T, K, S0, W_T_tilde, rho, type = \"call\", target_function = 1, derivative = False)\n",
    "            df_call.at[i, \"G2(x)\"] = G_func(df_call.at[i, 'x'], mu, sigma, mu_tilde, sigma_tilde, r, T, K, S0, W_T_tilde, rho, type = \"call\", target_function = 2, derivative = False)\n",
    "            #df_call.at[i, \"G'(x)\"] = G_func(df_call.at[i, 'x'], mu, sigma, mu_tilde, sigma_tilde, r, T, K, S0, W_T_tilde, rho, type = \"call\", target_function = 1, derivative = True)\n",
    "            #df_call.at[i, \"G2'(x)\"] = G_func(df_call.at[i, 'x'], mu, sigma, mu_tilde, sigma_tilde, r, T, K, S0, W_T_tilde, rho, type = \"call\", target_function = 2, derivative = True)\n",
    "            axs[num//2, num%2].plot(df_call['x'], df_call[\"G(x)\"], color = \"blue\", label = \"F(x)\", linewidth = 0.5, alpha =0.7)\n",
    "            axs[num//2, num%2].plot(df_call['x'], df_call[\"G2(x)\"], color = \"orange\", label = \"G(x)\", linewidth = 0.5, alpha =0.7)\n",
    "            axs[num//2, num%2].set_ylim([0, max(1.05,dP_dQ(mu_tilde, sigma_tilde, T, r, W_T_tilde) + 0.1)])\n",
    "            axs[num//2, num%2].set_xlim([0,x_range_call])\n",
    "            axs[num//2, num%2].set_title('F(x) i G(x) w dla opcji call, $\\widetilde{W_T}$ =' + f'{W_T_tilde}', fontsize = 10)\n",
    "            \n",
    "            \n",
    "    else:\n",
    "        df_put = pd.DataFrame({ \"x\" : x_put, \"G(x)\" : None, \"G2(x)\" : None, \"G2'(x)\" : None})\n",
    "        for i in range(len(x_put)):\n",
    "            df_put.at[i, \"G(x)\"] = G_func(df_put.at[i, 'x'], mu, sigma, mu_tilde, sigma_tilde, r, T, K, S0, W_T_tilde, rho, type = \"put\", target_function = 1, derivative = False)\n",
    "            df_put.at[i, \"G2(x)\"] = G_func(df_put.at[i, 'x'], mu, sigma, mu_tilde, sigma_tilde, r, T, K, S0, W_T_tilde, rho, type = \"put\", target_function = 2, derivative = False)\n",
    "            #df_call.at[i, \"G'(x)\"] = G_func(df_call.at[i, 'x'], mu, sigma, mu_tilde, sigma_tilde, r, T, K, S0, W_T_tilde, rho, type = \"call\", target_function = 1, derivative = True)\n",
    "            #df_call.at[i, \"G2'(x)\"] = G_func(df_call.at[i, 'x'], mu, sigma, mu_tilde, sigma_tilde, r, T, K, S0, W_T_tilde, rho, type = \"call\", target_function = 2, derivative = True)\n",
    "            axs[num//2, num%2].plot(df_put['x'], df_put[\"G(x)\"], color = \"blue\", label = \"F(x)\", linewidth = 0.5, alpha =0.7)\n",
    "            axs[num//2, num%2].plot(df_put['x'], df_put[\"G2(x)\"], color = \"orange\", label = \"G(x)\", linewidth = 0.5, alpha =0.7)\n",
    "            axs[num//2, num%2].set_ylim([0, max(1.05,dP_dQ(mu_tilde, sigma_tilde, T, r, W_T_tilde)  + 0.1)])\n",
    "            axs[num//2, num%2].set_xlim([0,x_range_put])\n",
    "            axs[num//2, num%2].set_title('F(x) i G(x) w dla opcji put, $\\widetilde{W_T}$ =' + f'{W_T_tilde}', fontsize = 10)\n",
    "            \n",
    "plt.subplots_adjust(top=1.5)\n",
    "plt.show()\n",
    "            "
   ]
  },
  {
   "cell_type": "markdown",
   "id": "f2a76bde",
   "metadata": {},
   "source": [
    "Na poniższych rysunkach możemy zauważyć pewnw podobieństwo między wykresami dla opcji call z parametrem $\\widetilde{W_T}$, a opcją put z parametrem $-\\widetilde{W_T}$. Również warto zwrócić uwagę że na ostatnim wykresiw funkcja $G_Q(x)$ jest mniejsza od $F_Q(x)$, wynika to z problemów natury numerycznej."
   ]
  },
  {
   "cell_type": "markdown",
   "id": "68557a4b",
   "metadata": {},
   "source": [
    "#### Wpływ parametru $K$ na funkcje F(x) i G(x)"
   ]
  },
  {
   "cell_type": "code",
   "execution_count": null,
   "id": "e9eb260b",
   "metadata": {
    "hideCode": true,
    "hidePrompt": true
   },
   "outputs": [],
   "source": [
    "fig, axs = plt.subplots(4, 2, figsize=(15,15))\n",
    "W_T_tilde = 1 \n",
    "Rad_Nik = dP_dQ(mu_tilde, sigma_tilde, T, r, W_T_tilde)\n",
    "vec_K = [80, 80, 100, 100, 120, 120, 140, 140]\n",
    "for num, K in enumerate(vec_K):\n",
    "    if(num %2 ==0):\n",
    "        df_call = pd.DataFrame({ \"x\" : x_call, \"G(x)\" : None, \"G2(x)\" : None, \"G2'(x)\" : None})\n",
    "        for i in range(len(x_call)):\n",
    "            df_call.at[i, \"G(x)\"] = G_func(df_call.at[i, 'x'], mu, sigma, mu_tilde, sigma_tilde, r, T, K, S0, W_T_tilde, rho, type = \"call\", target_function = 1, derivative = False)\n",
    "            df_call.at[i, \"G2(x)\"] = G_func(df_call.at[i, 'x'], mu, sigma, mu_tilde, sigma_tilde, r, T, K, S0, W_T_tilde, rho, type = \"call\", target_function = 2, derivative = False)\n",
    "            #df_call.at[i, \"G'(x)\"] = G_func(df_call.at[i, 'x'], mu, sigma, mu_tilde, sigma_tilde, r, T, K, S0, W_T_tilde, rho, type = \"call\", target_function = 1, derivative = True)\n",
    "            #df_call.at[i, \"G2'(x)\"] = G_func(df_call.at[i, 'x'], mu, sigma, mu_tilde, sigma_tilde, r, T, K, S0, W_T_tilde, rho, type = \"call\", target_function = 2, derivative = True)\n",
    "            axs[num//2, num%2].plot(df_call['x'], df_call[\"G(x)\"], color = \"blue\", label = \"F(x)\", linewidth = 0.5, alpha =0.7)\n",
    "            axs[num//2, num%2].plot(df_call['x'], df_call[\"G2(x)\"], color = \"orange\", label = \"G(x)\", linewidth = 0.5, alpha =0.7)\n",
    "            axs[num//2, num%2].set_ylim([0, max(1.05,dP_dQ(mu_tilde, sigma_tilde, T, r, W_T_tilde) + 0.1)])\n",
    "            axs[num//2, num%2].set_xlim([0,x_range_call])\n",
    "            axs[num//2, num%2].set_title('F(x) i G(x) w dla opcji call, $K$ =' + f'{K}', fontsize = 10)\n",
    "            \n",
    "            \n",
    "    else:\n",
    "        x_put = np.arange(delta, K, delta)\n",
    "        df_put = pd.DataFrame({ \"x\" : x_put, \"G(x)\" : None, \"G2(x)\" : None, \"G2'(x)\" : None})\n",
    "        for i in range(len(x_put)):\n",
    "            df_put.at[i, \"G(x)\"] = G_func(df_put.at[i, 'x'], mu, sigma, mu_tilde, sigma_tilde, r, T, K, S0, W_T_tilde, rho, type = \"put\", target_function = 1, derivative = False)\n",
    "            df_put.at[i, \"G2(x)\"] = G_func(df_put.at[i, 'x'], mu, sigma, mu_tilde, sigma_tilde, r, T, K, S0, W_T_tilde, rho, type = \"put\", target_function = 2, derivative = False)\n",
    "            #df_call.at[i, \"G'(x)\"] = G_func(df_call.at[i, 'x'], mu, sigma, mu_tilde, sigma_tilde, r, T, K, S0, W_T_tilde, rho, type = \"call\", target_function = 1, derivative = True)\n",
    "            #df_call.at[i, \"G2'(x)\"] = G_func(df_call.at[i, 'x'], mu, sigma, mu_tilde, sigma_tilde, r, T, K, S0, W_T_tilde, rho, type = \"call\", target_function = 2, derivative = True)\n",
    "            axs[num//2, num%2].plot(df_put['x'], df_put[\"G(x)\"], color = \"blue\", label = \"F(x)\", linewidth = 0.5, alpha =0.7)\n",
    "            axs[num//2, num%2].plot(df_put['x'], df_put[\"G2(x)\"], color = \"orange\", label = \"G(x)\", linewidth = 0.5, alpha =0.7)\n",
    "            axs[num//2, num%2].set_ylim([0, max(1.05,dP_dQ(mu_tilde, sigma_tilde, T, r, W_T_tilde)  + 0.1)])\n",
    "            axs[num//2, num%2].set_xlim([0,140])\n",
    "            axs[num//2, num%2].set_title('F(x) i G(x) w dla opcji put, $K$ =' + f'{K}', fontsize = 10)\n",
    "            \n",
    "plt.subplots_adjust(top=1.5)\n",
    "plt.show()\n",
    "            "
   ]
  },
  {
   "cell_type": "markdown",
   "id": "fc08f8db",
   "metadata": {},
   "source": [
    "Zmiana parametru K wpływa tempo zbieżności funkcji $F_Q(x)$ i $G_Q(x)$ do siebie. W przypadku opcji call zwiększenie powoduje szybsze zbieganie, a dla opcji put wolniejsze."
   ]
  },
  {
   "cell_type": "markdown",
   "id": "053ed925",
   "metadata": {},
   "source": [
    "#### Wpływ parametru $\\rho$ na funkcje $F_Q(x)$ i $G_Q(x)$"
   ]
  },
  {
   "cell_type": "code",
   "execution_count": null,
   "id": "178fc222",
   "metadata": {
    "hideCode": true,
    "hidePrompt": true
   },
   "outputs": [],
   "source": [
    "fig, axs = plt.subplots(7, 2, figsize=(15,15))\n",
    "K = 100\n",
    "W_T_tilde = 1 \n",
    "Rad_Nik = dP_dQ(mu_tilde, sigma_tilde, T, r, W_T_tilde)\n",
    "vec_rho= [-0.99, -0.99, -0.7, -0.7, -0.2, -0.2, 0, 0, 0.2, 0.2, 0.7, 0.7, 0.99, 0.99]\n",
    "x_put = np.arange(delta, K, delta)\n",
    "for num, rho in enumerate(vec_rho): \n",
    "    if(num %2 ==0):\n",
    "        df_call = pd.DataFrame({ \"x\" : x_call, \"G(x)\" : None, \"G2(x)\" : None, \"G2'(x)\" : None})\n",
    "        for i in range(len(x_call)):\n",
    "            df_call.at[i, \"G(x)\"] = G_func(df_call.at[i, 'x'], mu, sigma, mu_tilde, sigma_tilde, r, T, K, S0, W_T_tilde, rho, type = \"call\", target_function = 1, derivative = False)\n",
    "            df_call.at[i, \"G2(x)\"] = G_func(df_call.at[i, 'x'], mu, sigma, mu_tilde, sigma_tilde, r, T, K, S0, W_T_tilde, rho, type = \"call\", target_function = 2, derivative = False)\n",
    "            #df_call.at[i, \"G'(x)\"] = G_func(df_call.at[i, 'x'], mu, sigma, mu_tilde, sigma_tilde, r, T, K, S0, W_T_tilde, rho, type = \"call\", target_function = 1, derivative = True)\n",
    "            #df_call.at[i, \"G2'(x)\"] = G_func(df_call.at[i, 'x'], mu, sigma, mu_tilde, sigma_tilde, r, T, K, S0, W_T_tilde, rho, type = \"call\", target_function = 2, derivative = True)\n",
    "            axs[num//2, num%2].plot(df_call['x'], df_call[\"G(x)\"], color = \"blue\", label = \"F(x)\", linewidth = 0.5, alpha =0.7)\n",
    "            axs[num//2, num%2].plot(df_call['x'], df_call[\"G2(x)\"], color = \"orange\", label = \"G(x)\", linewidth = 0.5, alpha =0.7)\n",
    "            axs[num//2, num%2].set_ylim([0, max(1.05,dP_dQ(mu_tilde, sigma_tilde, T, r, W_T_tilde) + 0.1)])\n",
    "            axs[num//2, num%2].set_xlim([0,x_range_call])\n",
    "            axs[num//2, num%2].set_title('F(x) i G(x) w dla opcji call, rho =' + f'{rho}', fontsize = 10)\n",
    "            \n",
    "            \n",
    "    else:\n",
    "        df_put = pd.DataFrame({ \"x\" : x_put, \"G(x)\" : None, \"G2(x)\" : None, \"G2'(x)\" : None})\n",
    "        for i in range(len(x_put)):\n",
    "            df_put.at[i, \"G(x)\"] = G_func(df_put.at[i, 'x'], mu, sigma, mu_tilde, sigma_tilde, r, T, K, S0, W_T_tilde, rho, type = \"put\", target_function = 1, derivative = False)\n",
    "            df_put.at[i, \"G2(x)\"] = G_func(df_put.at[i, 'x'], mu, sigma, mu_tilde, sigma_tilde, r, T, K, S0, W_T_tilde, rho, type = \"put\", target_function = 2, derivative = False)\n",
    "            #df_call.at[i, \"G'(x)\"] = G_func(df_call.at[i, 'x'], mu, sigma, mu_tilde, sigma_tilde, r, T, K, S0, W_T_tilde, rho, type = \"call\", target_function = 1, derivative = True)\n",
    "            #df_call.at[i, \"G2'(x)\"] = G_func(df_call.at[i, 'x'], mu, sigma, mu_tilde, sigma_tilde, r, T, K, S0, W_T_tilde, rho, type = \"call\", target_function = 2, derivative = True)\n",
    "            axs[num//2, num%2].plot(df_put['x'], df_put[\"G(x)\"], color = \"blue\", label = \"F(x)\", linewidth = 0.5, alpha =0.7)\n",
    "            axs[num//2, num%2].plot(df_put['x'], df_put[\"G2(x)\"], color = \"orange\", label = \"G(x)\", linewidth = 0.5, alpha =0.7)\n",
    "            axs[num//2, num%2].set_ylim([0, max(1.05,dP_dQ(mu_tilde, sigma_tilde, T, r, W_T_tilde)  + 0.1)])\n",
    "            axs[num//2, num%2].set_xlim([0,140])\n",
    "            axs[num//2, num%2].set_title('F(x) i G(x) w dla opcji put, rho =' + f'{rho}', fontsize = 10)            \n",
    "plt.subplots_adjust(top=2.5)\n",
    "plt.show()"
   ]
  },
  {
   "cell_type": "markdown",
   "id": "0a85b54a",
   "metadata": {},
   "source": [
    "Tutaj ponownie możemy zauważyć podobieństwo między wykresami. Tym razem między opcją call i parametru $\\rho$, a opcją put z parametrem $-\\rho$"
   ]
  },
  {
   "cell_type": "markdown",
   "id": "71e0565e-8411-4720-be98-2338dec37612",
   "metadata": {},
   "source": [
    "## Optymalizacja pierwszej funkcji celu"
   ]
  },
  {
   "cell_type": "markdown",
   "id": "05d0b432-7612-4808-a148-52829cc7351c",
   "metadata": {
    "tags": []
   },
   "source": [
    "### Parametry wyjściowe"
   ]
  },
  {
   "cell_type": "code",
   "execution_count": null,
   "id": "874ad6f1",
   "metadata": {},
   "outputs": [],
   "source": [
    "mu_nt = 0.06\n",
    "mu_t = 0.06\n",
    "sigma_nt =  0.3\n",
    "sigma_t =  0.3\n",
    "r = 0.05\n",
    "X0_nt = 100\n",
    "X0_t = 100\n",
    "T = 1\n",
    "K = 100\n",
    "repeat = 10000\n",
    "values_per_year = 250"
   ]
  },
  {
   "cell_type": "code",
   "execution_count": null,
   "id": "db453074",
   "metadata": {},
   "outputs": [],
   "source": [
    "underlying_t = Underlying(mu_t, sigma_t, r, values_per_year)"
   ]
  },
  {
   "cell_type": "markdown",
   "id": "20b481fe-e6b0-4c7c-adb6-75f7324c32a3",
   "metadata": {
    "tags": []
   },
   "source": [
    "### Proste *sanity checki* wyznaczanego przez przypadek skrajny payoffu"
   ]
  },
  {
   "cell_type": "code",
   "execution_count": null,
   "id": "77458fc3",
   "metadata": {},
   "outputs": [],
   "source": [
    "rho = 0.999999\n",
    "underlying_nt = NonTradedUnderlying(mu_t, sigma_t, underlying_t, rho)\n",
    "[_, reality_t], [_, reality_nt] = underlying_nt.simulate_together_P(repeat, T)"
   ]
  },
  {
   "cell_type": "code",
   "execution_count": null,
   "id": "76e0adf5",
   "metadata": {},
   "outputs": [],
   "source": [
    "call_nt = Vanilla_on_NonTraded(underlying_nt, K, T, True)\n",
    "put_nt = Vanilla_on_NonTraded(underlying_nt, K, T, False)"
   ]
  },
  {
   "cell_type": "code",
   "execution_count": null,
   "id": "9b614864",
   "metadata": {},
   "outputs": [],
   "source": [
    "call_vanilla = Vanilla(underlying_t, K, T, True)\n",
    "put_vanilla = Vanilla(underlying_t, K, T, False)"
   ]
  },
  {
   "cell_type": "markdown",
   "id": "d5a891a8-4601-4563-b0be-f380825f6fbd",
   "metadata": {},
   "source": [
    "#### Cena opcji w świecie Blacka Scholesa- porównanie"
   ]
  },
  {
   "cell_type": "code",
   "execution_count": null,
   "id": "bd2ee944",
   "metadata": {},
   "outputs": [],
   "source": [
    "price_MC_nontradable = call_nt.get_MC_price(X0_t, X0_nt)\n",
    "BS_call = call_vanilla.get_price(X0_t)\n",
    "print(f'Analitycna cena opcji call:{BS_call:.3f}')\n",
    "print(f'MC cena opcji na niehandlowalne imitującej zwykłego calla:{price_MC_nontradable:.3f}')\n",
    "assert abs(price_MC_nontradable - BS_call)/BS_call < 0.05"
   ]
  },
  {
   "cell_type": "code",
   "execution_count": null,
   "id": "8d0b685c",
   "metadata": {},
   "outputs": [],
   "source": [
    "price_MC_nontradable = put_nt.get_MC_price(X0_t, X0_nt)\n",
    "BS_put = put_vanilla.get_price(X0_t)\n",
    "print(f'Analitycna cena opcji put:{BS_put:.3f}')\n",
    "print(f'MC cena opcji na niehandlowalne imitującej zwykłego puta:{price_MC_nontradable:.3f}')\n",
    "assert abs(price_MC_nontradable - BS_put)/BS_put < 0.05"
   ]
  },
  {
   "cell_type": "markdown",
   "id": "9601320e-35f4-4eea-8fc4-e03c86538d4d",
   "metadata": {},
   "source": [
    "Widzimy, że estymacje ceny opcji na aktywo niehandlowalne w przypadku imitującym opcję waniliową są stosunkowo zbliżone. Potencjalny, mniejszy niż 5% ceny właściwej błąd wynikać może z metody symulacji Monte Carlo."
   ]
  },
  {
   "cell_type": "markdown",
   "id": "1c77815b-b8e3-4933-a091-d1af78e58860",
   "metadata": {},
   "source": [
    "#### Zmodyfikowany payoff do hedgowania połową uzyskanych pieniędzy- porównanie"
   ]
  },
  {
   "cell_type": "code",
   "execution_count": null,
   "id": "942b3e3f-54ae-43ad-828b-6d048a687a95",
   "metadata": {},
   "outputs": [],
   "source": [
    "call_nt.set_m(BS_call / 2, X0_t, X0_nt)\n",
    "call_nt_quantile_payoff = call_nt.payoff_special(X0_t * reality_t, X0_nt)\n",
    "put_nt.set_m(BS_put / 2, X0_t, X0_nt)\n",
    "put_nt_quantile_payoff = put_nt.payoff_special(X0_t * reality_t, X0_nt)"
   ]
  },
  {
   "cell_type": "code",
   "execution_count": null,
   "id": "9c61f61d-d1f2-4b6d-9cc9-4c679f6013bc",
   "metadata": {},
   "outputs": [],
   "source": [
    "f_call = payoff_from_v0(call_vanilla, BS_call / 2, X0_nt)[0]\n",
    "call_quantile_payoff = f_call(X0_nt * reality_nt)\n",
    "f_put = payoff_from_v0(put_vanilla, BS_put / 2, X0_nt)[0]\n",
    "put_quantile_payoff = f_put(X0_nt * reality_nt)"
   ]
  },
  {
   "cell_type": "code",
   "execution_count": null,
   "id": "62183c2f-749a-4d2f-8e03-d0fe7969b94f",
   "metadata": {},
   "outputs": [],
   "source": [
    "fig, axs = plt.subplots(2,1, sharex = True, sharey = True)\n",
    "fig.tight_layout(pad=4.0)\n",
    "axs[0].scatter((X0_t * reality_t).iloc[:,-1], call_nt_quantile_payoff)\n",
    "axs[0].set_title('Imitacja kwantylowego hedgingu opcji standardowej call opcją na aktywo niehandlowalne')\n",
    "axs[1].scatter((X0_nt * reality_nt).iloc[:,-1], call_quantile_payoff)\n",
    "axs[1].set_title('Kwantylowy hedging opcji standardowej call')\n",
    "plt.suptitle('Payoff zmodyfikowany do hedgingu z użyciem połowy ceny calla')"
   ]
  },
  {
   "cell_type": "markdown",
   "id": "5ad67c97-cd22-40c0-a4bd-17f61a1d3518",
   "metadata": {},
   "source": [
    "Widzimy, że dla opcji call zmodyfikowane ze względu na hedging kwantylowy payoffy są bardzo zbliżone."
   ]
  },
  {
   "cell_type": "code",
   "execution_count": null,
   "id": "8359e032-32da-41af-b971-5edc5980ecff",
   "metadata": {},
   "outputs": [],
   "source": [
    "fig, axs = plt.subplots(2,1, sharex = True, sharey = True)\n",
    "fig.tight_layout(pad=4.0)\n",
    "axs[0].scatter((X0_t * reality_t).iloc[:,-1], put_nt_quantile_payoff)\n",
    "axs[0].set_title('Imitacja kwantylowego hedgingu opcji standardowej put opcją na aktywo niehandlowalne')\n",
    "axs[1].scatter((X0_nt * reality_nt).iloc[:,-1], put_quantile_payoff)\n",
    "axs[1].set_title('Kwantylowy hedging opcji standardowej put')\n",
    "plt.suptitle('Payoff zmodyfikowany do hedgingu z użyciem połowy ceny puta')"
   ]
  },
  {
   "cell_type": "code",
   "execution_count": null,
   "id": "169795c8-1241-4701-bcc4-47c134132f71",
   "metadata": {},
   "outputs": [],
   "source": [
    "put_nt.get_MC_price(X0_t, X0_nt)\n",
    "put_vanilla.payoff_func = f_put\n",
    "print(f'Imitacja standardowego kwantylowego hedgingu: cena = {put_nt.get_MC_price(X0_t, X0_nt):.3f}, p-stwo sukcesu = {(1 - (put_nt_quantile_payoff == 0) * ((X0_t * reality_t).iloc[:,-1] >= K)).mean():.3f}')\n",
    "print(f'Standardowy hedging kwantylowy: cena = {put_vanilla.get_MC_price(X0_t):.3f}, p-stwo sukcesu = {(1 - (put_quantile_payoff == 0) * ((X0_nt * reality_nt).iloc[:,-1] >= K)).mean():.3f}')"
   ]
  },
  {
   "cell_type": "markdown",
   "id": "1c137db2-aeec-4083-b424-d0f6c9f4a75f",
   "metadata": {},
   "source": [
    "Widzimy, że w przypadku opcji put zmodyfikowany payoff dla podejścia z aktywem niehandlowalnym ma inną formę niż w przypadku podejścia standardowego (mimo identycznie dobranych parametrów). Jednocześnie ceny tak skonstruowanych zabezpieczń są bardzo zbliżone- podobne są także empiryczne prawdopodobieństwa sukcesu. Kwestia ta nie została przez nas wyjaśniona- nasuwa się, że konstrukcja zmodyfikowanego payoffu nie musi być jednoznaczna. Alternatywnie podejście z dwoma odcięciami payoffu wyprowadzone dla opcji call w artykule źródłowym nie ma bezpośredniego przełożenia na opcję put."
   ]
  },
  {
   "cell_type": "markdown",
   "id": "30e7a909-ab0b-4261-a2b6-7595688d36a6",
   "metadata": {},
   "source": [
    "### Wrażliwość nachylenia stycznej do funkcji $G$, a cena zabezpieczenia skonstruowanego w ten sposób payoffu"
   ]
  },
  {
   "cell_type": "markdown",
   "id": "b81aa104-45bb-4a13-a0be-0822756c2ff9",
   "metadata": {},
   "source": [
    "Poniższe wykresy przedstawiać będą zależność pomiędzy parametrem **m** użytym do konstrukcji zmodyfikowanego payoffu, a kosztem zabezpieczenia takiego payoffu. Dodatkowym czynnikiem wyróżniajacym będzie współczynnik korelacji aktywa głównego (niehandlowalnego) z pomocniczym aktywem handlowalnym, którego używać mielibyśmy do hedgowania."
   ]
  },
  {
   "cell_type": "code",
   "execution_count": null,
   "id": "ad8bed0d",
   "metadata": {},
   "outputs": [],
   "source": [
    "rho_call = dict()\n",
    "for rho in [-0.999, -0.75, -0.25, 0, 0.25, 0.75, 0.999]:\n",
    "    underlying_nt = NonTradedUnderlying(mu_nt, sigma_nt, underlying_t, rho)\n",
    "    rho_call[rho] = Vanilla_on_NonTraded(underlying_nt, K, T, True)"
   ]
  },
  {
   "cell_type": "code",
   "execution_count": null,
   "id": "780bec76",
   "metadata": {},
   "outputs": [],
   "source": [
    "m_s = np.arange(0.00001, 0.02, 0.00001)\n",
    "plt.figure(figsize=(10,10))\n",
    "plt.xlabel('m', size = 15)\n",
    "plt.xlim([np.min(m_s), np.max(m_s)])    \n",
    "plt.xticks(size = 15)\n",
    "plt.ylabel('V0', size = 15)\n",
    "plt.ylim([0, 200])\n",
    "plt.yticks(size = 15)\n",
    "for num, rho in enumerate(rho_call):\n",
    "    prices = []\n",
    "    for m in tqdm(m_s):\n",
    "        rho_call[rho].m = m\n",
    "        V0 = rho_call[rho].get_MC_price(X0_t, X0_nt)\n",
    "        prices.append(V0)\n",
    "    plt.plot(m_s, prices, lw = 2, label = f'rho = {rho}')\n",
    "plt.legend(fontsize = 15)\n",
    "plt.title(f'Wymagany kapitał początkowy zabezpieczenia opcji call(K = {K}) na aktywo niehandlowalne\\nw zależności od przyjętego współczynnika m w podziale\\nze wzglęgu na korelację z pomocniczym aktywem handlowalnym',size = 15)\n"
   ]
  },
  {
   "cell_type": "code",
   "execution_count": null,
   "id": "0c75f14a",
   "metadata": {},
   "outputs": [],
   "source": [
    "rho_put = dict()\n",
    "for rho in [-0.999, -0.75, -0.25, 0, 0.25, 0.75, 0.999]:\n",
    "    underlying_nt = NonTradedUnderlying(mu_nt, sigma_nt, underlying_t, rho)\n",
    "    rho_put[rho] = Vanilla_on_NonTraded(underlying_nt, K, T, False)"
   ]
  },
  {
   "cell_type": "code",
   "execution_count": null,
   "id": "2ae543db",
   "metadata": {},
   "outputs": [],
   "source": [
    "m_s = np.arange(0.00001, 0.02, 0.00001)\n",
    "plt.figure(figsize=(10,10))\n",
    "plt.xlabel('m', size = 15)\n",
    "plt.xlim([np.min(m_s), np.max(m_s)])    \n",
    "plt.xticks(size = 15)\n",
    "plt.ylabel('V0', size = 15)\n",
    "plt.ylim([0, 100])\n",
    "plt.yticks(size = 15)\n",
    "for num, rho in enumerate(rho_put):\n",
    "    prices = []\n",
    "    for m in tqdm(m_s):\n",
    "        rho_put[rho].m = m\n",
    "        V0 = rho_put[rho].get_MC_price(X0_t, X0_nt)\n",
    "        prices.append(V0)\n",
    "    plt.plot(m_s, prices, lw = 2, label = f'rho = {rho}')\n",
    "plt.legend(fontsize = 15)\n",
    "plt.title(f'Wymagany kapitał początkowy zabezpieczenia opcji put(K = {K}) na aktywo niehandlowalne\\nw zależności od przyjętego współczynnika m w podziale\\nze wzglęgu na korelację z pomocniczym aktywem handlowalnym',size = 15)\n"
   ]
  },
  {
   "cell_type": "markdown",
   "id": "5635d085-6b6f-4a4a-87ef-0946d4bd7906",
   "metadata": {},
   "source": [
    "Intuicyjnie **m** określa w pewnym stopniu porządane prawdopodobieństwo zabezpieczenia- im wyższe nachylenie stycznej tym mniejszy jest payoff opcji, na którą mamy zamiar się zabezpieczyć. Pierwszą narzucającą się obserwacją jest fakt, że im bardziej skrajny jest parametr $\\rho$ tym większą stabilnością cechują się ceny opcji- od strony implementacyjnej utrudnia to zatem dokładne przełożenie zadanego kapitału początkowego na wymagany do zabezpieczania zmodyfikowany payoff. Ceny opcji są najwyższe dla $\\rho$ zbliżonych do $0$- możemy to tłumaczyć faktem, że zabezpieczając się aktywem handlowalnym mamy coraz mniejszą kontrolę nad aktywem, którego dotyczyć będzie ten faktyczny payoff. Widzimy, że ceny opcji są zbliżone dla przeciwnych sobie korelacji- pewnego rodzaju symetryczność ich payoffów zobaczymy w sekcji poniższej."
   ]
  },
  {
   "cell_type": "markdown",
   "id": "06c37189-5b4c-4f54-aa09-44a790b733d0",
   "metadata": {},
   "source": [
    "### Zmodyfikowane payoffy w zależności od parametru **m**"
   ]
  },
  {
   "cell_type": "markdown",
   "id": "4beeffa0-607d-4032-b322-b08ab5eb3067",
   "metadata": {},
   "source": [
    "Ostateczna relacja, na której nam zależy to:\n",
    "$$V_0 \\longrightarrow m \\longrightarrow \\text{zmodyfikowany payoff} \\longrightarrow \\text{hedging zmodyfikowanego payoffu}$$\n",
    "Znamy już zależność z poziomu pierwszej strzałki od lewej. Zobaczmy teraz jak parametr **m** wpływa na zmodyfikowany payoff, który ma zostać zabezpieczony. W związku z tym, że nachylenie stycznej do $G$ jest konceptem dość abstrakcyjnym utożsamiajmy je na bazie wykresów poprzednich z odwrotnością posiadanego kapitału- im większe **m** tym mniejszy kapitał, którym dysponuję."
   ]
  },
  {
   "cell_type": "markdown",
   "id": "92ae6691-d0f6-4c0c-962f-56e9bd1a5b73",
   "metadata": {},
   "source": [
    "<font color='red'>** UWAGA: Poniższe wykresy będą miały postać animacji- przed jej puszczeniem należy rozwinąć output komórki, a po zakończeniu animacji go zwinąć. **</font>"
   ]
  },
  {
   "cell_type": "code",
   "execution_count": null,
   "id": "2f09c539",
   "metadata": {},
   "outputs": [],
   "source": [
    "rho_call = dict()\n",
    "for rho in [-0.999, -0.5, 0, 0.5, 0.999]: #można sobie wybrać inne korelacje lub mniej\n",
    "    underlying_nt = NonTradedUnderlying(mu_nt, sigma_nt, underlying_t, rho)\n",
    "    rho_call[rho] = Vanilla_on_NonTraded(underlying_nt, K, T, True)"
   ]
  },
  {
   "cell_type": "code",
   "execution_count": null,
   "id": "2e968f5e",
   "metadata": {
    "tags": []
   },
   "outputs": [],
   "source": [
    "m = 0.0001\n",
    "diff = 0.00001\n",
    "rate = 1.9\n",
    "booster = 3\n",
    "V0_prev = len(rho_call) * [np.infty]\n",
    "i = 0\n",
    "j = 0\n",
    "while True:\n",
    "    j += 1\n",
    "    plt.figure(figsize=(12,8))\n",
    "    if j == 50:\n",
    "        diff *= booster\n",
    "    else:\n",
    "        for num, rho in enumerate(rho_call):\n",
    "            option = rho_call[rho]\n",
    "            final_index = round(option.underlying.values_per_year * option.T + 1)\n",
    "            sims_t = pd.DataFrame(np.ones(500), columns = [0])\n",
    "            sims_t[1] = np.arange(10, 510) / X0_t\n",
    "            option.m = m\n",
    "            payoff = option.payoff_special(X0_t * sims_t, X0_nt)\n",
    "            V0 = np.exp(-option.underlying.r * option.T) * payoff.mean()\n",
    "            if abs(V0 - V0_prev[num]) < 0.1:\n",
    "                i += 1\n",
    "            V0_prev[num] = V0\n",
    "            plt.plot((X0_t * sims_t).iloc[:,-1], payoff, label = f'rho = {rho}, V0 = {V0:.2f}', lw = 2)\n",
    "        plt.title(f'Zabezpieczenie call(K = {K}) na aktywo niehandlowalne w zależności od parametru m\\nzmodyfikowany payoff i wymagany kapitał początkowy\\nm = {m:.5f}', size = 20)\n",
    "        plt.xlim([20,500])\n",
    "        plt.xlabel('Cena końcowa aktywa handlowalnego', size = 12)\n",
    "        plt.ylim([-5,500])\n",
    "        plt.ylabel('payoff', size= 12)\n",
    "        plt.legend(loc = 'upper right', prop={'size': 12})\n",
    "    m += diff\n",
    "    if i == len(rho_call):\n",
    "        i = 0\n",
    "        diff *= rate\n",
    "    display.clear_output(wait = True)\n",
    "    display.display(plt.gcf())\n",
    "    sleep(0.05)\n",
    "    if np.max(np.array(V0_prev)) < 1:\n",
    "        break"
   ]
  },
  {
   "cell_type": "markdown",
   "id": "05bac373-1f59-45d5-9ef7-31f0cd6a4347",
   "metadata": {},
   "source": [
    "Widzimy, że dla $\\rho$ zbliżonego do $1$ payoff zmodyfikowany przypomina ten standardowy dla kwantylowo hedgowanej opcji call. W przypadku przeciwnym ma on postać jak dla opcji put- jeśli aktywa zachowują się skrajnie przeciwnie musimy zabezpieczać się na spadki aktywa handlowalnego oczekując tym samym wzrostów aktywa głównego. Kolejną obserwacją jest to, że dla mniejszej, dodatniej korelacji payoff staje się wklęsły oraz niezerowy także dla cen poniżej $K$. Intuicyjnie mamy tu do czynienia z pewnego rodzaju niepewnością faktycznego ruchu aktywa głównego, co skutkuje w większej \"konserwatywności\" wymaganych końcowych stanów portfela. Podobny trend obserwujemy także dla korelacji ujemnej- tym razem wykres jest jednak wypukły. Wklęsłość tą można tłumaczyć faktem, że o ile spadek aktywa handlowalnego jest ograniczony z dołu tak w tym wypadku potencjalny wzrost aktywa głównego nie ma żadnego ograniczenia. Przypadek, gdzie aktywa są nieskorelowane jest właściwie zabezpieczaniem się na szum. Odpowiada wtedy właściwie dosłownie zakumulowanemu kapitałowi początkowemu- im więcej go mamy tym na wyższy kwantyl losowości jesteśmy zabezpieczeni. W tym wypadku hedging polegałby raczej na trzymaniu odpowiedniej kwoty bez konieczności handlowania aktywem pomocniczym."
   ]
  },
  {
   "cell_type": "code",
   "execution_count": null,
   "id": "fba0e178",
   "metadata": {},
   "outputs": [],
   "source": [
    "rho_put = dict()\n",
    "for rho in [-0.999, -0.5, 0, 0.5, 0.999]: #można sobie wybrać inne korelacje lub mniej\n",
    "    underlying_nt = NonTradedUnderlying(mu_nt, sigma_nt, underlying_t, rho)\n",
    "    rho_put[rho] = Vanilla_on_NonTraded(underlying_nt, K, T, False)"
   ]
  },
  {
   "cell_type": "code",
   "execution_count": null,
   "id": "2f3c2d5b",
   "metadata": {
    "tags": []
   },
   "outputs": [],
   "source": [
    "m = 0.0001\n",
    "diff = 0.00002\n",
    "rate = 1.9\n",
    "V0_prev = len(rho_put) * [np.infty]\n",
    "i = 0\n",
    "j = 0\n",
    "while True:\n",
    "    j += 1\n",
    "    plt.figure(figsize=(12,8))\n",
    "    if j == 50:\n",
    "        #img = mpimg.imread('xd.jpeg')\n",
    "        #plt.imshow(img)\n",
    "        diff *= 2\n",
    "    for num, rho in enumerate(rho_put):\n",
    "        option = rho_put[rho]\n",
    "        final_index = round(option.underlying.values_per_year * option.T + 1)\n",
    "        _, sims_full_t = option.MC_setup[0]\n",
    "        sims_t = pd.DataFrame(np.ones(500), columns = [0])\n",
    "        sims_t[1] = np.arange(10, 510) / X0_t\n",
    "        option.m = m\n",
    "        payoff = option.payoff_special(X0_t * sims_t, X0_nt)\n",
    "        V0 = np.exp(-option.underlying.r * option.T) * payoff.mean()\n",
    "        if abs(V0 - V0_prev[num]) < 0.1:\n",
    "            i += 1\n",
    "        V0_prev[num] = V0\n",
    "        plt.plot((X0_t * sims_t).iloc[:,-1], payoff, label = f'rho = {rho}, V0 = {V0:.2f}', lw = 2)\n",
    "    plt.title(f'Zabezpieczenie put(K = {K}) na aktywo niehandlowalne w zależności od parametru m\\nzmodyfikowany payoff i wymagany kapitał początkowy\\nm = {m:.5f}', size = 20)\n",
    "    plt.xlim([20,500])\n",
    "    plt.xlabel('Cena końcowa aktywa handlowalnego', size = 12)\n",
    "    plt.ylim([-5,100])\n",
    "    plt.ylabel('payoff', size= 12)\n",
    "    plt.legend(loc = 'upper right', prop={'size': 12})\n",
    "    m += diff\n",
    "    if i == 5:\n",
    "        i = 0\n",
    "        diff *= rate\n",
    "    display.clear_output(wait = True)\n",
    "    display.display(plt.gcf())\n",
    "    sleep(0.15)\n",
    "    if np.max(np.array(V0_prev)) < 1:\n",
    "        break"
   ]
  },
  {
   "cell_type": "markdown",
   "id": "6a5b662b-3f01-4e59-a15c-6e7195943f13",
   "metadata": {},
   "source": [
    "Podobne zachowanie możemy zaobserwować dla opcji put. Warto odnotować, że w tym wypadku payoff zmodyfikowany nie może przekroczyć ceny wykonania $K$- jest to maksymalna wypłata payoffu faktycznego. Warto zauważyć, że dla dużych **m** payoffy (poza przypadkiem bez korelacji) zaczynają zbiegać do punktów skupienia z największą masą aktywa niehandlowalnego- przykładowo dla korelacji zbliżonej do $1$ są to okolice ceny początkowej tego aktywa. Trend ten widoczny był także dla opcji kupna."
   ]
  },
  {
   "cell_type": "markdown",
   "id": "bf5eb5e1-3135-470c-b3e0-277e67b6e830",
   "metadata": {},
   "source": [
    "#### Rezultaty $\\Delta$-hedgingu opcji na aktywo niehandlowalne"
   ]
  },
  {
   "cell_type": "markdown",
   "id": "7bcf878c-cd57-49f9-8f2d-d6251b9834d3",
   "metadata": {},
   "source": [
    "Ostatnim elementem zaprezentowanego wcześniej ciągu zależności było skonstruowanie strategii zabezpieczającej opcję przy zadanym kapitale początkowym. Teraz przyjrzyjmy się zatem jakie wyniki osiągają tak skonstruowane strategie."
   ]
  },
  {
   "cell_type": "markdown",
   "id": "c23e7279-a569-4b7b-acb1-393f8ef628ee",
   "metadata": {},
   "source": [
    "Rozpocznijmy od opcji call i kapitału początkowego w kwocie połowy ceny opcji standardowej (o handlowalnym aktywie bazowym). Oczekujemy zatem, że dla $\\rho$ zbliżonego do $1$ zabezpieczenie będzie najbliższe pełnemu, a zmodyfikowany payoff dla aktywa handlowalnego odpowiadać będzie zabezpieczonym przypadkom aktywa głównego. Dla wszystkich pozostałych ze względu na dodatkową niepewność (oraz w oparciu o wcześniej widziane wykresy) odpowiednio zahedgowaych przypadków powinno być mniej."
   ]
  },
  {
   "cell_type": "code",
   "execution_count": null,
   "id": "557c6bae-049f-4673-a106-0a5af4921343",
   "metadata": {},
   "outputs": [],
   "source": [
    "repeat = 1000"
   ]
  },
  {
   "cell_type": "code",
   "execution_count": null,
   "id": "c78b6518",
   "metadata": {},
   "outputs": [],
   "source": [
    "fig, axs = plt.subplots(3,5, figsize = (25, 15), sharey = 'row')\n",
    "fig.tight_layout(pad=6.0)\n",
    "V0 = BS_call / 2\n",
    "for idx, rho in tqdm(enumerate([0.999999, 0.9, 0.75, 0.5, 0.25])):\n",
    "    underlying_nt = NonTradedUnderlying(mu_t, sigma_t, underlying_t, rho)\n",
    "    [_, reality_t], [_, reality_nt] = underlying_nt.simulate_together_P(repeat, T)\n",
    "    \n",
    "    call_nt = Vanilla_on_NonTraded(underlying_nt, K, T, True)\n",
    "    call_nt.set_m(V0, X0_t, X0_nt)\n",
    "    sims_t = pd.DataFrame(np.ones(150), columns = [0])\n",
    "    sims_t[1] = np.arange(50, 200) / X0_t\n",
    "    payoff = call_nt.payoff_special((X0_t * sims_t), X0_nt)\n",
    "\n",
    "    money_time_call = pd.DataFrame(np.zeros(reality_t.shape))\n",
    "    delta_time_call = pd.DataFrame(np.zeros(reality_t.shape))\n",
    "    with Pool(processors) as p:\n",
    "            results = p.map(lambda i: trader_loop(i, call_nt, V0, (X0_t*reality_t), (X0_nt*reality_nt)) , np.arange(0,repeat))\n",
    "    for num, item in enumerate(results):\n",
    "        money_time_call.loc[num] = item[0]\n",
    "        delta_time_call.loc[num] = item[1]   \n",
    "    money_time_call_outcome = money_time_call.copy()\n",
    "    money_time_call_outcome['outcome'] = money_time_call.apply(lambda row: 'success' if row.iloc[-1] >= - V0 else 'fail', axis = 1)\n",
    "    sb.histplot(ax = axs[0, idx], x = money_time_call_outcome[underlying_nt.values_per_year * T], bins = repeat // 20, hue = money_time_call_outcome['outcome'], palette = {'fail':'tab:blue','success':'tab:orange'}, legend = True, stat = 'percent')\n",
    "    axs[0, idx].set_xlim([-150, 50])        \n",
    "    axs[0, idx].set_title(f'rho = {rho}\\n\\nKońcowy stan portfela\\np-stwo sukcesu = {(money_time_call_outcome[\"outcome\"] == \"success\").mean():.3f}', fontsize = 15)\n",
    "    axs[0, idx].set_xlabel('Końcowy stan portfela', fontsize = 12)\n",
    "    axs[1, idx].plot((X0_t * sims_t).iloc[:,-1], payoff, lw = 3)\n",
    "    axs[1, idx].set_title('Zmodyfikowany payoff dla aktywa handlowalnego', fontsize = 13)\n",
    "    axs[1, idx].set_xlim([50,200])    \n",
    "    axs[1, idx].set_xlabel('Końcowa cena aktywa handlowalnego')\n",
    "    sb.scatterplot(ax = axs[2, idx], x = (X0_nt*reality_nt).iloc[:,-1], y = np.maximum((X0_nt*reality_nt)[underlying_nt.values_per_year * T] - K,0), hue = money_time_call_outcome['outcome'], palette = {'fail':'tab:blue','success':'tab:orange'}).set_title('Ostateczny payoff opcji', fontsize = 15)\n",
    "    axs[2, idx].set_xlim([50,200])    \n",
    "    axs[2, idx].set_xlabel('Końcowa cena aktywa niehandlowalnego', fontsize = 12)\n",
    "    if idx == 0:\n",
    "        axs[1, idx].set_ylabel('Payoff zmodyfikowany', fontsize = 12)    \n",
    "        axs[2, idx].set_ylabel('Payoff faktyczny', fontsize = 12)    \n",
    "plt.suptitle(f'Quantile hedging call(K = {K}) na aktywo niehandlowalne przy V0 = {V0:.2f} dla różnych korelacji z pomocniczym aktywem handlowalnym', fontsize= 18)\n",
    "plt.subplots_adjust(top=0.9)\n"
   ]
  },
  {
   "cell_type": "markdown",
   "id": "18339000-99b0-4bd2-89ce-83aed77064dd",
   "metadata": {},
   "source": [
    "W związku z tym, że jest to pierwsze ukazanie tej serii wykresów zacznijmy od słowa wstępu co one faktycznie przedstawiają. Każda kolumna odpowiada opcji call na aktywo niehandlowalne zabezpieczanej aktywem handlowalnym, które jest skorelowane z określonym $\\rho$. Pierwszy wiersz wykresów skupia się na ostatecznym wyniku portfeli przeprowadzających proces hedgingu. Wyniki te zaprezentowane są w postaci histogramu. Rząd pierwszy oparty jest o symulacje rzeczywistości- w konsekwencji otrzymane wyniki dzielimy na sukcesy oraz porażki. Podział ten jest tutaj dość liberalny, za sukces uznajemy bowiem wynik portfela nieniższy niż $-10$ zł. Drugi rząd skupia się na ukazaniu payoffu zmodyfikowanego dla aktywa handlowalnego, którego zabezpieczanie ma niejako zastąpić bezpośrednie hedgowanie aktywa głównego. Wiersz ostatni ukazuje nam natomiast faktyczny payoff opcji call w zależności od ceny końcowej aktywa niehandlowalnego (głównego). Wykresy te stworzone są za pomocą faktycznych rezultatów symulacji- w konsekwencji kolorystycznie rozdzielamy je w zgodzie z metodyką z wiersza pierwszego. Frakcja sukcesów reprezentuje nam tutaj także empiryczne prawdopodobieństwo sukcesu umieszczone na górze każdej kolumny.\n",
    "\n",
    "Przejdźmy teraz do opisu faktycznych otrzymanych wyników dla opcji call i korelacji dodatnich."
   ]
  },
  {
   "cell_type": "markdown",
   "id": "ae40ec2e-166c-469a-91c5-73adfa716a28",
   "metadata": {},
   "source": [
    "Zgodnie z wcześniejszą intuicją widzimy, że w przypadku korelacji bardzo zbliżonej do $1$ (kolumna pierwsza) frakcja sukcesów jest zdecydowanie największa (a w konsekwencji również empiryczne prawdopodobieństwo sukcesu). Niezerowa część payoffu zmodyfikowanego faktycznie odpowiada z pewną niedokładnością zabezpieczonej części payoffów faktycznych (nadal w pierwszej kolumnie- wiersz drugi oraz trzeci). W przypadku mniejszych korelacji prawdopodobieństwa sukcesu maleją- wykresy zaprezentowane wcześniej pokazały nam, że mniejsze korelacje cechują się większym wymaganym kapitałem do zabezpieczenia opcji na określonym poziomie. Same zmodyfikowane payoffy coraz bardziej wypłaszczają się niezerując się jednocześnie na coraz większym przedziale. Wypłaszczenie ma związek oczywiście z niezmieniającą się liczbą kapitału- większy przedział całkowity oznacza mniejsze zabezpieczenie na każdym z podprzedziałów. Wraz ze wzrostem losowości aktywa niehandlowalnego w stosunku do aktywa handlowalnego spada zakres zabezpieczonych ostatecznie payoffów- dla $\\rho=0.25$ ogranicza się on właściwie tylko do payoffów zerowych."
   ]
  },
  {
   "cell_type": "code",
   "execution_count": null,
   "id": "58ce37a5-2791-452e-ab90-4ce9ff802454",
   "metadata": {},
   "outputs": [],
   "source": [
    "fig, axs = plt.subplots(3,4, figsize = (20, 15), sharey = 'row')\n",
    "fig.tight_layout(pad=6.0)\n",
    "V0 = BS_call / 2\n",
    "for idx, rho in tqdm(enumerate([-0.999999, -0.75, -0.25, 0])):\n",
    "    underlying_nt = NonTradedUnderlying(mu_t, sigma_t, underlying_t, rho)\n",
    "    [_, reality_t], [_, reality_nt] = underlying_nt.simulate_together_P(repeat, T)\n",
    "    \n",
    "    call_nt = Vanilla_on_NonTraded(underlying_nt, K, T, True)\n",
    "    call_nt.set_m(V0, X0_t, X0_nt)\n",
    "    sims_t = pd.DataFrame(np.ones(150), columns = [0])\n",
    "    sims_t[1] = np.arange(50, 200) / X0_t\n",
    "    payoff = call_nt.payoff_special((X0_t * sims_t), X0_nt)\n",
    "\n",
    "    money_time_call = pd.DataFrame(np.zeros(reality_t.shape))\n",
    "    delta_time_call = pd.DataFrame(np.zeros(reality_t.shape))\n",
    "    with Pool(processors) as p:\n",
    "            results = p.map(lambda i: trader_loop(i, call_nt, V0, (X0_t*reality_t), (X0_nt*reality_nt)) , np.arange(0,repeat))\n",
    "    for num, item in enumerate(results):\n",
    "        money_time_call.loc[num] = item[0]\n",
    "        delta_time_call.loc[num] = item[1]   \n",
    "    money_time_call_outcome = money_time_call.copy()\n",
    "    money_time_call_outcome['outcome'] = money_time_call.apply(lambda row: 'success' if row.iloc[-1] >= - 10 else 'fail', axis = 1)\n",
    "    sb.histplot(ax = axs[0, idx], x = money_time_call_outcome[underlying_nt.values_per_year * T], bins = repeat // 20, hue = money_time_call_outcome['outcome'], palette = {'fail':'tab:blue','success':'tab:orange'}, legend = True, stat = 'percent')\n",
    "    axs[0, idx].set_xlim([-150, 50])        \n",
    "    axs[0, idx].set_title(f'rho = {rho}\\n\\nKońcowy stan portfela\\np-stwo sukcesu = {(money_time_call_outcome[\"outcome\"] == \"success\").mean():.3f}', fontsize = 15)\n",
    "    axs[0, idx].set_xlabel('Końcowy stan portfela', fontsize = 12)\n",
    "    axs[1, idx].plot((X0_t * sims_t).iloc[:,-1], payoff, lw = 3)\n",
    "    axs[1, idx].set_title('Zmodyfikowany payoff dla aktywa handlowalnego', fontsize = 13)\n",
    "    axs[1, idx].set_xlim([50,200])    \n",
    "    axs[1, idx].set_xlabel('Końcowa cena aktywa handlowalnego')\n",
    "    sb.scatterplot(ax = axs[2, idx], x = (X0_nt*reality_nt).iloc[:,-1], y = np.maximum((X0_nt*reality_nt)[underlying_nt.values_per_year * T] - K,0), hue = money_time_call_outcome['outcome'], palette = {'fail':'tab:blue','success':'tab:orange'}).set_title('Ostateczny payoff opcji', fontsize = 15)\n",
    "    axs[2, idx].set_xlim([50,200])    \n",
    "    axs[2, idx].set_xlabel('Końcowa cena aktywa niehandlowalnego', fontsize = 12)\n",
    "    if idx == 0:\n",
    "        axs[1, idx].set_ylabel('Payoff zmodyfikowany', fontsize = 12)    \n",
    "        axs[2, idx].set_ylabel('Payoff faktyczny', fontsize = 12)    \n",
    "plt.suptitle(f'Quantile hedging call(K = {K}) na aktywo niehandlowalne przy V0 = {V0:.2f} dla różnych korelacji z pomocniczym aktywem handlowalnym', fontsize= 18)\n",
    "plt.subplots_adjust(top=0.89)\n"
   ]
  },
  {
   "cell_type": "markdown",
   "id": "d28bf14e-8be6-4cc0-8d72-a65866912bed",
   "metadata": {},
   "source": [
    "Na zamieszczonych wykresach niejednoznaczna okazuje się relacja pomiędzy frakcją sukcesów, a wielkością korelacji. Mimo, że dla $\\rho=-0.75$ p-stwo zabezpieczenia było niższe niż w przypadku skrajnym to już w dla korelacji na poziomie $-0.25$ wynik okazał się lepszy. Dodatkowo uwzględniony tu przypadek nieskorelowania aktywów otrzymał co ciekawe najlepsze prawdopodobieńswo sukcesu. Może to wynikać z faktu, że portfel w czasie jest tutaj dużo bardziej stabilny- skoro nie mamy żadnej kontroli nad aktywem głównym nie mamy potrzeby wykonywać transakcji na tym handlowalnym. W kontekście zmodyfikowanych payoffów widzimy analogiczny trend jak dla korelacji dodatnich choć oczywiście wykresy są tutaj odwrócone. Zauważmy, że jeśli korelacja jest ujemna zabezpieczamy niejako nielimitowany wzrost aktywa niehandlowalnego tracącym jednocześnie na wartości aktywem handlowalnym- pierwsze z aktywów jest zatem dużo bardziej zmienne niż drugie, które od dołu ogranicza nieosiągalna wartość $0$. Ta dysproporcja może stanowić o stosunkowo słabych wynikach hedgingów, które zabezpieczają głównie przypadki, gdzie do payoffu nie doszło."
   ]
  },
  {
   "cell_type": "markdown",
   "id": "f6f9eebd-90ee-49d4-8531-3c5cef127f1a",
   "metadata": {},
   "source": [
    "Rozważmy teraz opcję put na aktywo niehandlowalne o tych samych parametrach, co analizowany wyżej call oraz z kapitałem początkowym równym połowie ceny jaką zapłacilibyśmy za jej waniliowy odpowiednik."
   ]
  },
  {
   "cell_type": "code",
   "execution_count": null,
   "id": "38a5f7f2",
   "metadata": {},
   "outputs": [],
   "source": [
    "fig, axs = plt.subplots(3,5, figsize = (25, 15), sharey = 'row')\n",
    "fig.tight_layout(pad=6.0)\n",
    "V0 = BS_put / 2\n",
    "for idx, rho in tqdm(enumerate([0.999999, 0.9, 0.75, 0.5, 0.25])):\n",
    "    underlying_nt = NonTradedUnderlying(mu_nt, sigma_nt, underlying_t, rho)\n",
    "    [_, reality_t], [_, reality_nt] = underlying_nt.simulate_together_P(repeat, T)\n",
    "    \n",
    "    put_nt = Vanilla_on_NonTraded(underlying_nt, K, T, False)\n",
    "    put_nt.set_m(V0, X0_t, X0_nt)\n",
    "    sims_t = pd.DataFrame(np.ones(150), columns = [0])\n",
    "    sims_t[1] = np.arange(50, 200) / X0_t\n",
    "    payoff = put_nt.payoff_special((X0_t * sims_t), X0_nt)\n",
    "\n",
    "    money_time_put = pd.DataFrame(np.zeros(reality_t.shape))\n",
    "    delta_time_put = pd.DataFrame(np.zeros(reality_t.shape))\n",
    "    with Pool(processors) as p:\n",
    "            results = p.map(lambda i: trader_loop(i, put_nt, V0, (X0_t*reality_t), (X0_nt*reality_nt)) , np.arange(0,repeat))\n",
    "    for num, item in enumerate(results):\n",
    "        money_time_put.loc[num] = item[0]\n",
    "        delta_time_put.loc[num] = item[1]   \n",
    "    money_time_put_outcome = money_time_put.copy()\n",
    "    money_time_put_outcome['outcome'] = money_time_put.apply(lambda row: 'success' if row.iloc[-1] >= - 10 else 'fail', axis = 1)\n",
    "    sb.histplot(ax = axs[0, idx], x = money_time_put_outcome[underlying_nt.values_per_year * T], bins = repeat // 20, hue = money_time_put_outcome['outcome'], palette = {'fail':'tab:blue','success':'tab:orange'}, legend = True, stat = 'percent')\n",
    "    axs[0, idx].set_xlim([-150, 50])        \n",
    "    axs[0, idx].set_title(f'rho = {rho}\\n\\nKońcowy stan portfela\\np-stwo sukcesu = {(money_time_put_outcome[\"outcome\"] == \"success\").mean():.3f}', fontsize = 15)\n",
    "    axs[0, idx].set_xlabel('Końcowy stan portfela', fontsize = 12)\n",
    "    axs[1, idx].plot((X0_t * sims_t).iloc[:,-1], payoff, lw = 3)\n",
    "    axs[1, idx].set_title('Zmodyfikowany payoff dla aktywa handlowalnego', fontsize = 13)\n",
    "    axs[1, idx].set_xlim([50,200])    \n",
    "    axs[1, idx].set_xlabel('Końcowa cena aktywa handlowalnego')\n",
    "    sb.scatterplot(ax = axs[2, idx], x = (X0_nt*reality_nt).iloc[:,-1], y = np.maximum(K - (X0_nt*reality_nt)[underlying_nt.values_per_year * T],0), hue = money_time_put_outcome['outcome'], palette = {'fail':'tab:blue','success':'tab:orange'}).set_title('Ostateczny payoff opcji', fontsize = 15)\n",
    "    axs[2, idx].set_xlim([50,200])    \n",
    "    axs[2, idx].set_xlabel('Końcowa cena aktywa niehandlowalnego', fontsize = 12)\n",
    "    if idx == 0:\n",
    "        axs[1, idx].set_ylabel('Payoff zmodyfikowany', fontsize = 12)    \n",
    "        axs[2, idx].set_ylabel('Payoff faktyczny', fontsize = 12)    \n",
    "plt.suptitle(f'Quantile hedging put(K = {K}) na aktywo niehandlowalne przy V0 = {V0:.2f} dla różnych korelacji z pomocniczym aktywem handlowalnym', fontsize= 18)\n",
    "plt.subplots_adjust(top=0.9)\n"
   ]
  },
  {
   "cell_type": "markdown",
   "id": "a0467344-95fd-4d1f-9906-a2a394cf7fbf",
   "metadata": {},
   "source": [
    "Tak jak w przypadku opcji call widzimy, że dla korelacji dodatnich mniejsza korelacja oznacza przy zadanym kapitale początkowym gorszy procent symulacji zabezpieczonych. W przypadku korelacji praktycznie idealnej widzimy, że zmodyfikowany payoff dla aktywa handlowalnego dobrze oddaje kwantylowy hedging opcji na aktywo handlowalne. Im mniejsze $\\rho$ tym payoff dla używanego aktywa handlowalnego skupia się (pozostając niezerowym) na coraz mniejszym i bardziej przesuniętym w lewo przedziale. Oddalanie się prawego krańca od ceny wykonania możemy tłumaczyć tym, że jeśli korelacja jest mniejsza to bardziej prawdopodobne jest, że przy malejącej cenie aktywa handlowalnego, aktywo niehandlowalne urośnie, a więc nie poskutkuje żadnym payoffem. Nie mamy tu zatem zachowania znanego nam z opcji call, payoff nie może wypłaszczać się niejako ku coraz mniejszym cenom, ponieważ z dołu ogranicza go wartość $0$. W konsekwencji staje się on dla opcji put coraz \"wyższy\" kumulując coraz większy kapitał w zabezpieczenie coraz węższego obszaru. Tendencja ta nie do końca sprawdza się dla najmniejszej z rozważanych tu korelacji, gdzie niezerowy fragment ponownie się poszerza- może to mieć związek z ograniczeniem górnym wartości samego payoffu równym cenie wykonania. Jeśli zaś chodzi o faktyczne payoffy, na które okazaliśmy się zabezpieczeni widzimy, że im mniejsza korelacja między aktywami tym potencjalne zabezpieczenie staje się coraz bardziej losowe. Portfel nie jest idealnie skalibrowany pod aktywo, które decyduje o wypłacie opcji- potencjalne sukcesy wynikają bardziej z ułożenia cen dwóch instrumentów."
   ]
  },
  {
   "cell_type": "code",
   "execution_count": null,
   "id": "dfdca133-beef-4781-97eb-6ed29453734c",
   "metadata": {},
   "outputs": [],
   "source": [
    "fig, axs = plt.subplots(3,4, figsize = (20, 15), sharey = 'row')\n",
    "fig.tight_layout(pad=6.0)\n",
    "V0 = BS_put / 2\n",
    "for idx, rho in tqdm(enumerate([-0.999999, -0.75, -0.25, 0])):\n",
    "    underlying_nt = NonTradedUnderlying(mu_nt, sigma_nt, underlying_t, rho)\n",
    "    [_, reality_t], [_, reality_nt] = underlying_nt.simulate_together_P(repeat, T)\n",
    "    \n",
    "    put_nt = Vanilla_on_NonTraded(underlying_nt, K, T, False)\n",
    "    put_nt.set_m(V0, X0_t, X0_nt)\n",
    "    sims_t = pd.DataFrame(np.ones(150), columns = [0])\n",
    "    sims_t[1] = np.arange(50, 200) / X0_t\n",
    "    payoff = put_nt.payoff_special((X0_t * sims_t), X0_nt)\n",
    "\n",
    "    money_time_put = pd.DataFrame(np.zeros(reality_t.shape))\n",
    "    delta_time_put = pd.DataFrame(np.zeros(reality_t.shape))\n",
    "    with Pool(processors) as p:\n",
    "            results = p.map(lambda i: trader_loop(i, put_nt, V0, (X0_t*reality_t), (X0_nt*reality_nt)) , np.arange(0,repeat))\n",
    "    for num, item in enumerate(results):\n",
    "        money_time_put.loc[num] = item[0]\n",
    "        delta_time_put.loc[num] = item[1]   \n",
    "    money_time_put_outcome = money_time_put.copy()\n",
    "    money_time_put_outcome['outcome'] = money_time_put.apply(lambda row: 'success' if row.iloc[-1] >= - 10 else 'fail', axis = 1)\n",
    "    sb.histplot(ax = axs[0, idx], x = money_time_put_outcome[underlying_nt.values_per_year * T], bins = repeat // 20, hue = money_time_put_outcome['outcome'], palette = {'fail':'tab:blue','success':'tab:orange'}, legend = True, stat = 'percent')\n",
    "    axs[0, idx].set_xlim([-150, 50])        \n",
    "    axs[0, idx].set_title(f'rho = {rho}\\n\\nKońcowy stan portfela\\np-stwo sukcesu = {(money_time_put_outcome[\"outcome\"] == \"success\").mean():.3f}', fontsize = 15)\n",
    "    axs[0, idx].set_xlabel('Końcowy stan portfela', fontsize = 12)\n",
    "    axs[1, idx].plot((X0_t * sims_t).iloc[:,-1], payoff, lw = 3)\n",
    "    axs[1, idx].set_title('Zmodyfikowany payoff dla aktywa handlowalnego', fontsize = 13)\n",
    "    axs[1, idx].set_xlim([50,200])    \n",
    "    axs[1, idx].set_xlabel('Końcowa cena aktywa handlowalnego')\n",
    "    sb.scatterplot(ax = axs[2, idx], x = (X0_nt*reality_nt).iloc[:,-1], y = np.maximum(K - (X0_nt*reality_nt)[underlying_nt.values_per_year * T],0), hue = money_time_put_outcome['outcome'], palette = {'fail':'tab:blue','success':'tab:orange'}).set_title('Ostateczny payoff opcji', fontsize = 15)\n",
    "    axs[2, idx].set_xlim([50,200])    \n",
    "    axs[2, idx].set_xlabel('Końcowa cena aktywa niehandlowalnego', fontsize = 12)\n",
    "    if idx == 0:\n",
    "        axs[1, idx].set_ylabel('Payoff zmodyfikowany', fontsize = 12)    \n",
    "        axs[2, idx].set_ylabel('Payoff faktyczny', fontsize = 12)    \n",
    "plt.suptitle(f'Quantile hedging put(K = {K}) na aktywo niehandlowalne przy V0 = {V0:.2f} dla różnych korelacji z pomocniczym aktywem handlowalnym', fontsize= 18)\n",
    "plt.subplots_adjust(top=0.89)\n"
   ]
  },
  {
   "cell_type": "markdown",
   "id": "c70cda9c-8291-4375-a484-8cab8a20d7cc",
   "metadata": {},
   "source": [
    "Kiedy korelacje są ujemne zabezpieczenia stają się gorsze (pod kątem frakcji symulacji zabepieczonych). Wyraźny trend widoczny jest w kontekście maksymalnej straty portfela, rośnie ona wraz ze zbliżaniem się korelacji do $0$- w tym właśnie przypadku sięga ona ponad $-150$. Wynika to z faktu, że zerowa korelacja oznacza całkowity brak kontroli na zachowanie aktywa niehandlowalnego- w tym wypadku także ostateczne payoffy są zabezpieczane w sposób częściowo losowy (pojedyncze pomarańczowe kropki na całym niezerowym payoffie). Wspomniane już prawdopodobieństwo sukcesu nieznacznie różni się pomiędzy przypadkami różnych $\\rho$- różnią się natomiast formy payoffu zmodyfikowanego. Payoff ten rośnie wzrast ze wzrostem końcowej ceny aktywa pomocniczego, a więc jego zachowanie jest przeciwne do payoffu faktycznego. Ma to oczywiście związek ze znakiem korelacji- aktywa powinny zachowywac się w sposób sobie częściowo przeciwny."
   ]
  },
  {
   "cell_type": "markdown",
   "id": "a05c2880-9d85-4796-b206-519b467230f1",
   "metadata": {
    "tags": []
   },
   "source": [
    "### Stan portfela w czasie- jak zmienia się ilość posiadanego aktywa handlowalnego w czasie?"
   ]
  },
  {
   "cell_type": "markdown",
   "id": "f404b5a7-9206-4928-b49d-f1fefab260d4",
   "metadata": {},
   "source": [
    "Wiemy już, że hedging próbuje posiadanym aktywem handlowalnym niejako dopasowywać się do charakterystyki aktywa niehandlowalnego. Na poniższych wykresach na przykładzie trzech skrajnych symulacji aktywa niehandlowalnego zobaczymy jak zachowywało się aktywo handlowalne oraz zmianę jego ilości w zabezpieczającym portfelu. Kapitał początkowy wynosić będzie ponownie połowę ceny waniliowego odpowiednika rozważanej opcji. W konsekwencji każdy z hedgingów będzie hedgingiem kwantylowym nie gwarantującym pełnego zabezpieczenia. Z tego powodu w pierwszym wierszu ukażemy postać zmodyfikowanego payoffu, który kluczowy jest w ilości posiadanego w portfelu zabezpieczającym aktywa handlowalnego. Czynnikiem zmieniającym się względem każdej z kolumn będzie korelacja $\\rho$- zaprezentujemy przypadek idealnego skorelowania dodatniego, ujemnego oraz braku korelacji.\n",
    "\n",
    "Rozpocznijmy rozważania od opcji kupna."
   ]
  },
  {
   "cell_type": "code",
   "execution_count": null,
   "id": "a4a83c9e-44c0-4e0d-abd3-d04ee660c2a7",
   "metadata": {},
   "outputs": [],
   "source": [
    "repeat = 100"
   ]
  },
  {
   "cell_type": "code",
   "execution_count": null,
   "id": "d7083a88-f20a-45e9-b4ed-16409c6eafc9",
   "metadata": {},
   "outputs": [],
   "source": [
    "V0 = BS_call / 2\n",
    "fig, axs = plt.subplots(4,3, figsize = (20, 15), sharey = 'row')\n",
    "fig.tight_layout(pad=7.0)\n",
    "plt.subplots_adjust(top=0.9)\n",
    "for idx, rho in enumerate([0.9999, 0, -0.9999]):\n",
    "    underlying_nt = NonTradedUnderlying(mu_nt, sigma_nt, underlying_t, rho)\n",
    "    [_, reality_t], [_, reality_nt] = underlying_nt.simulate_together_P(repeat, T)\n",
    "    call_nt = Vanilla_on_NonTraded(underlying_nt, K, T, True)\n",
    "    call_nt.set_m(V0, X0_t, X0_nt)   \n",
    "    sims_t = pd.DataFrame(np.ones(250), columns = [0])\n",
    "    sims_t[1] = np.arange(10, 260) / X0_t\n",
    "    payoff = call_nt.payoff_special((X0_t * sims_t), X0_nt)\n",
    "    \n",
    "    money_time_call = pd.DataFrame(np.zeros(reality_t.shape))\n",
    "    delta_time_call = pd.DataFrame(np.zeros(reality_t.shape))\n",
    "    with Pool(processors) as p:\n",
    "            results = p.map(lambda i: trader_loop(i, call_nt, V0, (X0_t*reality_t), (X0_nt*reality_nt)) , np.arange(0,repeat))\n",
    "    for num, item in enumerate(results):\n",
    "        money_time_call.loc[num] = item[0]\n",
    "        delta_time_call.loc[num] = item[1]   \n",
    "    axs[0, idx].plot((X0_t * sims_t).iloc[:,-1], payoff, lw = 3)\n",
    "    axs[0, idx].set_xlim([20, 250])\n",
    "    axs[0, idx].set_ylim([0, 100])\n",
    "    axs[0, idx].set_xlabel('Końcowa cena aktywa handlowalnego')\n",
    "    axs[0, idx].set_ylabel('Payoff', size = 15)\n",
    "    axs[0, idx].set_title(f'rho = {rho}\\n\\nZmodyfikowany payoff do zabezpieczenia', size = 15)\n",
    "    indices = [(X0_nt * reality_nt).iloc[:,-1].idxmax(),(X0_nt * reality_nt).iloc[:,-1].idxmin(), abs((X0_nt * reality_nt).iloc[:,-1] - K).idxmin()]\n",
    "    (X0_nt*reality_nt.iloc[indices,:]).T.plot.line(legend = False, ax = axs[1, idx], lw=2)\n",
    "    axs[1, idx].set_xlim([0,values_per_year])\n",
    "    axs[1, idx].set_xlabel('t')\n",
    "    axs[1, idx].set_ylabel('Cena aktywa niehandlowalnego', size = 15)\n",
    "    axs[1, idx].set_title('Ceny niehandlowalnego aktywa bazowego w czasie', size = 15)\n",
    "    axs[1, idx].axhline(y=K, xmin=0, xmax=249, color='black', linestyle='--', lw=2)\n",
    "    (X0_t*reality_t.iloc[indices,:]).T.plot.line(legend = False, ax = axs[2, idx], lw=2)\n",
    "    axs[2, idx].set_xlim([0,values_per_year])\n",
    "    axs[2, idx].set_xlabel('t')\n",
    "    axs[2, idx].set_ylabel('Cena aktywa handlowalnego', size = 15)\n",
    "    axs[2, idx].set_title('Ceny handlowalnego aktywa bazowego w czasie', size = 15)\n",
    "    (delta_time_call.iloc[indices,:-1]).T.plot(legend = False, ax = axs[3, idx], lw=2)\n",
    "    axs[3, idx].set_xlim([0,values_per_year])\n",
    "    axs[3, idx].set_xlabel('t')\n",
    "    axs[3, idx].set_ylabel('Posiadane aktywo handlowalne', size = 15)\n",
    "    axs[3, idx].set_title('Ilość aktywa handlowalnego w czasie', size = 15)\n",
    "    axs[3, idx].set_ylim([-1.25, 1.25])\n",
    "plt.suptitle(f'Hedging kwantylowy calla(K={K}) na aktywo niehandlowalne dla skrajnych korelacji z pomocniczym aktywem handlowalnym', size = 20)"
   ]
  },
  {
   "cell_type": "markdown",
   "id": "c5188889-8bef-43e6-b6de-66bf0940fede",
   "metadata": {},
   "source": [
    "W przypadku opcji kupna i korelacji skrajnie dodatniej widzimy, że trend obu aktywów jest podobny. Zacznijmy od analizy stanu portfela w przypadku symulacji pomarańczowych- aktywo niehandlowalne (jak również handlowalne) szybko spada poniżej cenę wykonania, co zeruje ilość posiadanego instrumentu. Symulacje niebieskie, a więc te z najwyższymi cenami w przypadku wystarczającego kapitału na pełne zabezpieczenie powinny skutkować zbliżającą się ku $1$ wartością parametru $\\Delta$. Zauważmy jednak, że ze względu na kapitał ograniczony payoff, na który się przygotowujemy zeruje się powyżej $140$- w konsekwencji zeruje się także ilość aktywa bazowego służącego do zabezpieczania. Ostatnia z par symulacji- te układające się blisko ceny wykonania skutkują stosunkowo wysoką wartością posiadanej $\\Delta$ ze względu na dużą szansę, że do dojdzie do \"wykonania\" dla payoffu zmodyfikowanego. W przypadku korelacji skrajnie ujemnej wnioski są stosunkowo podobne choć oczywiście znak $\\rho$ obraca nam \"wymogi\" na aktywie handlowalnym. Warto tu odnotować dodatkowy wniosek- rezultaty portfela mogą być w tym wypadku gorsze niż dla korelacji dodatniej ze względu na nieintuicyjne zachowanie kupowania intensywnie aktywa, którego wartość spada. Dla korelacji zerowej zachowanie ilości aktywa bazowego w portfelu jest najbardziej losowe ze względu na brak żadnej kontroli aktywa głównego. Próbujemy tutaj niejako zabezpieczać szum, skutkuje to dużą niepewnością i $\\Delta$, która nigdy nie przekracza co do wartości bezwzględnej $0.5$."
   ]
  },
  {
   "cell_type": "code",
   "execution_count": null,
   "id": "3dcab5c0",
   "metadata": {},
   "outputs": [],
   "source": [
    "V0 = BS_put / 2\n",
    "fig, axs = plt.subplots(4,3, figsize = (20, 15), sharey = 'row')\n",
    "fig.tight_layout(pad=7.0)\n",
    "plt.subplots_adjust(top=0.9)\n",
    "for idx, rho in enumerate([0.9999, 0, -0.9999]):\n",
    "    underlying_nt = NonTradedUnderlying(mu_nt, sigma_nt, underlying_t, rho)\n",
    "    [_, reality_t], [_, reality_nt] = underlying_nt.simulate_together_P(repeat, T)\n",
    "    put_nt = Vanilla_on_NonTraded(underlying_nt, K, T, False)\n",
    "    put_nt.set_m(V0, X0_t, X0_nt)    \n",
    "    sims_t = pd.DataFrame(np.ones(250), columns = [0])\n",
    "    sims_t[1] = np.arange(10, 260) / X0_t\n",
    "    payoff = put_nt.payoff_special((X0_t * sims_t), X0_nt)\n",
    "    \n",
    "    money_time_put = pd.DataFrame(np.zeros(reality_t.shape))\n",
    "    delta_time_put = pd.DataFrame(np.zeros(reality_t.shape))\n",
    "    with Pool(processors) as p:\n",
    "            results = p.map(lambda i: trader_loop(i, put_nt, V0, (X0_t*reality_t), (X0_nt*reality_nt)) , np.arange(0,repeat))\n",
    "    for num, item in enumerate(results):\n",
    "        money_time_put.loc[num] = item[0]\n",
    "        delta_time_put.loc[num] = item[1]   \n",
    "    axs[0, idx].plot((X0_t * sims_t).iloc[:,-1], payoff, lw = 3)\n",
    "    axs[0, idx].set_xlim([20, 250])\n",
    "    axs[0, idx].set_ylim([0, 100])\n",
    "    axs[0, idx].set_xlabel('Końcowa cena aktywa handlowalnego')\n",
    "    axs[0, idx].set_ylabel('Payoff', size = 15)\n",
    "    axs[0, idx].set_title(f'rho = {rho}\\n\\nZmodyfikowany payoff do zabezpieczenia', size = 15)\n",
    "    indices = [(X0_nt * reality_nt).iloc[:,-1].idxmax(),(X0_nt * reality_nt).iloc[:,-1].idxmin(), abs((X0_nt * reality_nt).iloc[:,-1] - K).idxmin()]\n",
    "    (X0_nt*reality_nt.iloc[indices,:]).T.plot.line(legend = False, ax = axs[1, idx], lw=2)\n",
    "    axs[1, idx].set_xlim([0,values_per_year])\n",
    "    axs[1, idx].set_xlabel('t')\n",
    "    axs[1, idx].set_ylabel('Cena aktywa niehandlowalnego', size = 15)\n",
    "    axs[1, idx].set_title('Ceny niehandlowalnego aktywa bazowego w czasie', size = 15)\n",
    "    axs[1, idx].axhline(y=K, xmin=0, xmax=249, color='black', linestyle='--', lw=2)\n",
    "    (X0_t*reality_t.iloc[indices,:]).T.plot.line(legend = False, ax = axs[2, idx], lw=2)\n",
    "    axs[2, idx].set_xlim([0,values_per_year])\n",
    "    axs[2, idx].set_xlabel('t')\n",
    "    axs[2, idx].set_ylabel('Cena aktywa handlowalnego', size = 15)\n",
    "    axs[2, idx].set_title('Ceny handlowalnego aktywa bazowego w czasie', size = 15)\n",
    "    (delta_time_put.iloc[indices,:-1]).T.plot(legend = False, ax = axs[3, idx], lw=2)\n",
    "    axs[3, idx].set_xlim([0,values_per_year])\n",
    "    axs[3, idx].set_xlabel('t')\n",
    "    axs[3, idx].set_ylabel('Posiadane aktywo handlowalne', size = 15)\n",
    "    axs[3, idx].set_title('Ilość aktywa handlowalnego w czasie', size = 15)\n",
    "    axs[3, idx].set_ylim([-1.25,1.25])\n",
    "plt.suptitle(f'Hedging kwantylowy puta(K={K}) na aktywo niehandlowalne dla skrajnych korelacji z pomocniczym aktywem handlowalnym', size = 20)"
   ]
  },
  {
   "cell_type": "markdown",
   "id": "62363cc4-2a9d-4b33-9f30-41a58c40b0d1",
   "metadata": {},
   "source": [
    "W porównaniu do opcji call tutaj dla korelacji skrajnie dodatniej niebieska oraz pomarańczowa \"rzeczywistość, gdzie aktywo niehandlowalne jest odpowiednio największe i najmniejsze zamieniają się niejako miejscami. Ilość posiadanego aktywa handlowalnego w przypadku symulacji niebieskiej zeruje się z powodu charakteru opcji put, dla symulacji pomarańczowej natomiast wynika to z niepełnego kapitału początkowego, a w konsekwencji obcięcia payoffu zmodyfikowanego identycznie wycenianego aktywa handlowalnego. Dla korelacji skrajnie ujemnej mamy sytuacje dość analogiczną. W obu rozważanych kolumnach zestaw określający rzeczywistość związaną z oscylującą wokół ceny wykonania ceną aktywa niehandlowalnego (i podobnie zachowującym się aktywem handlowalnym) nie zeruje ilości aktywa ze względu na szansę dodatniego payoffu zmodyfikowanego. Korelacja zerowa daje nam wyniki bardzo nieregularne- nie jesteśmy w stanie zabezpieczać opcji na aktywo niehandlowalne niezwiązanym z nim aktywem handlowalnym."
   ]
  },
  {
   "cell_type": "markdown",
   "id": "95818c38-7121-43bd-950b-8fd27b008e65",
   "metadata": {},
   "source": [
    "### Analiza wrażliwości zmodyfikowanego payoffu opcji"
   ]
  },
  {
   "cell_type": "markdown",
   "id": "3bbbf4e7-f404-4b34-afbd-55788b9f14a1",
   "metadata": {},
   "source": [
    "Kolejne wykresy przedstawiać będą wrażliwość funkcji zmodyfikowanego payoffu dla używanego do zabezpieczania opcji aktywa handlowalnego. Skupimy się na zależności względem rodzaju opcji, ceny wykonania, stosunku zmienności obu aktywów oraz procentu użytej pełnej ceny analogicznej opcji standardowej jako kapitału początkowego. Jeśli dany parametr nie jest w danym przypadku zmienny to przyjmujemy $K = 100$, $\\sigma_{NH}=1 \\cdot \\sigma_{H}=0.3$ oraz $V_0$ w postaci połowy pełnej ceny standardowej opcji. W każdym z rozważanych wykresów przedstawiać będziemy przypadek z korelacją $\\rho = +-0.75$."
   ]
  },
  {
   "cell_type": "markdown",
   "id": "14d1043f-b798-423e-bd69-bfee28bd235f",
   "metadata": {},
   "source": [
    "#### Wrażliwość na cenę wykonania"
   ]
  },
  {
   "cell_type": "code",
   "execution_count": null,
   "id": "35223a05-792b-4bd7-9246-97f60b08b732",
   "metadata": {},
   "outputs": [],
   "source": [
    "rho = 0.75\n",
    "V0 = BS_call / 2\n",
    "Ks = [60, 80, 100, 120, 140, 160]\n",
    "X = pd.DataFrame(np.arange(0,300))\n",
    "fig, axs = plt.subplots(3, 2, figsize=(10,10), sharey = True)\n",
    "fig.tight_layout(pad=5.0)\n",
    "for num, K in tqdm(enumerate(Ks)):\n",
    "    sims_t = pd.DataFrame(np.ones(300), columns = [0])\n",
    "    sims_t[1] = np.arange(10, 310) / X0_t\n",
    "    underlying_nt = NonTradedUnderlying(mu_nt, sigma_nt, underlying_t, rho)\n",
    "    call_nt = Vanilla_on_NonTraded(underlying_nt, K, T, True)\n",
    "    V0 = Vanilla(underlying_t, K, T, True).get_price(X0_nt) / 2\n",
    "    call_nt.set_m(V0, X0_t, X0_nt)\n",
    "    payoff1 = call_nt.payoff_special((X0_t * sims_t), X0_nt)   \n",
    "    underlying_nt = NonTradedUnderlying(mu_nt, sigma_nt, underlying_t, -rho)\n",
    "    call_nt = Vanilla_on_NonTraded(underlying_nt, K, T, True)\n",
    "    call_nt.set_m(V0, X0_t, X0_nt)\n",
    "    payoff2 = call_nt.payoff_special((X0_t * sims_t), X0_nt)  \n",
    "    axs[num//2, num%2].plot((X0_t * sims_t).iloc[:,-1], payoff1, label = f'rho = {rho}')\n",
    "    axs[num//2, num%2].plot((X0_t * sims_t).iloc[:,-1], payoff2, label = f'rho = {-rho}')\n",
    "    axs[num//2, num%2].legend(loc = 'upper right')\n",
    "    axs[num//2, num%2].set_title(f'K = {K}')\n",
    "    axs[num//2, num%2].axvline(K, color = 'black', lw = 4)\n",
    "    axs[num//2, num%2].set_xlim([10, 310])\n",
    "    axs[num//2, num%2].set_xlabel('Cena końcowa aktywa handlowalnego')\n",
    "    axs[num//2, num%2].set_ylabel('Zmodyfikowany payoff')\n",
    "plt.subplots_adjust(top=0.93)\n",
    "plt.suptitle(f'Kwantylowy hedging na callu na aktywo niehandlowalne w zależności od ceny wykonania K\\nzmodyfikowany payoff', size = 12)"
   ]
  },
  {
   "cell_type": "markdown",
   "id": "237372f2-b27b-4392-aeff-5c5411cc5a54",
   "metadata": {},
   "source": [
    "Widzimy, że w przypadku opcji kupna i korelacji dodatniej im większa cena wykonania $K$ tym szerszy przedział niezerowego payoffu. Wynika to z faktu, że ilość symulacji aktywa niehandlowalnego, które osiągną wartości powyżej $K$ w tym przypadku maleje, w konsekwencji możemy tym samym kosztem być zabezpieczeni dla wyższych wartości końcowych. Przypadek z korelacją ujemną jest podobny z dokładnością do odwrócenia payoffu- wydzimu tu jednak że od pewnego momentu nie zabezpieczamy się na coraz mniejsze ceny aktywa handlowego, a jedynie na ten sam przedział, ale z wyższym potencjalnym payoffem. Wynika to z faktu pewnej nieprzeskalowalności nieskończonego potencjalnego wzrostu aktywa niehandlowalnego, a ograniczonej straty instrumentu pomocniczego."
   ]
  },
  {
   "cell_type": "code",
   "execution_count": null,
   "id": "61a95bcf-a25d-4da1-b5d1-cc85ade6f64b",
   "metadata": {},
   "outputs": [],
   "source": [
    "rho = 0.75\n",
    "Ks = [60, 80, 100, 120, 140, 160]\n",
    "X = pd.DataFrame(np.arange(0,300))\n",
    "fig, axs = plt.subplots(3, 2, figsize=(10,10), sharey = True)\n",
    "fig.tight_layout(pad=5.0)\n",
    "for num, K in tqdm(enumerate(Ks)):\n",
    "    sims_t = pd.DataFrame(np.ones(300), columns = [0])\n",
    "    sims_t[1] = np.arange(10, 310) / X0_t\n",
    "    underlying_nt = NonTradedUnderlying(mu_nt, sigma_nt, underlying_t, rho)\n",
    "    V0 = Vanilla(underlying_t, K, T, False).get_price(X0_nt) / 2\n",
    "    put_nt = Vanilla_on_NonTraded(underlying_nt, K, T, False)\n",
    "    put_nt.set_m(V0, X0_t, X0_nt)\n",
    "    payoff1 = put_nt.payoff_special((X0_t * sims_t), X0_nt)   \n",
    "    underlying_nt = NonTradedUnderlying(mu_nt, sigma_nt, underlying_t, -rho)\n",
    "    put_nt = Vanilla_on_NonTraded(underlying_nt, K, T, False)\n",
    "    put_nt.set_m(V0, X0_t, X0_nt)\n",
    "    payoff2 = put_nt.payoff_special((X0_t * sims_t), X0_nt)  \n",
    "    axs[num//2, num%2].plot((X0_t * sims_t).iloc[:,-1], payoff1, label = f'rho = {rho}')\n",
    "    axs[num//2, num%2].plot((X0_t * sims_t).iloc[:,-1], payoff2, label = f'rho = {-rho}')\n",
    "    axs[num//2, num%2].legend(loc = 'upper right')\n",
    "    axs[num//2, num%2].set_title(f'K = {K}')\n",
    "    axs[num//2, num%2].axvline(K, color = 'black', lw = 4)\n",
    "    axs[num//2, num%2].set_xlim([10, 310])\n",
    "    axs[num//2, num%2].set_xlabel('Cena końcowa aktywa handlowalnego')\n",
    "    axs[num//2, num%2].set_ylabel('Zmodyfikowany payoff')\n",
    "plt.subplots_adjust(top=0.93)\n",
    "plt.suptitle(f'Kwantylowy hedging na puta na aktywo niehandlowalne w zależności od ceny wykonania K\\nzmodyfikowany payoff', size = 12)"
   ]
  },
  {
   "cell_type": "markdown",
   "id": "467552bd-3bdd-4c3b-9695-06f71f8d3d93",
   "metadata": {},
   "source": [
    "Przypadek opcji sprzedaży jest dużo trudniejszy do interpretacji. Zauważalna jest pewna nieidealna symetryczność obu wykresów względem ceny początkowej $X_{0,NH}=X_{0,H}=100$. Skrajnie mała cena wykonania upodabnia wykresy (szczególnie ten z $\\rho = 0.75$) do payoffu standardowego opcji put. Dla skrajnie wysokiego $K$ widzimy natomiast, że choć korelacja jest ujemna payoff pomarańczowy znajduje się w całości po lewej stronie ceny wykonania. Wynika to z faktu, że jak już wspomniano ceny obu aktywów są w pewnym stopniu symetryczne do ich początkowej wartości $100$. W konsekwencji wartości aktywa bazowego pomiędzy $60$, a $70$ mogą sugerować wyniki z zakresu $130-140$ instrumentu głównego, a więc takie, gdzie payoff faktyczny byłby istotnie niezerowy i trzeba się na niego przygotować."
   ]
  },
  {
   "cell_type": "markdown",
   "id": "03f3f4bd-cb21-4f8d-83c1-90e27995b94c",
   "metadata": {},
   "source": [
    "#### Wrażliwość na procent ceny analogicznej opcji waniliowej użyty do zabezpieczania"
   ]
  },
  {
   "cell_type": "code",
   "execution_count": null,
   "id": "1fb75915-c9b9-4ba0-97e6-b7d3b0d9a611",
   "metadata": {},
   "outputs": [],
   "source": [
    "K = 100\n",
    "rho = 0.75\n",
    "alphas = [0.01, 0.1, 0.2, 0.4, 0.6, 0.8, 0.9, 0.99]\n",
    "X = pd.DataFrame(np.arange(0,300))\n",
    "fig, axs = plt.subplots(4, 2, figsize=(10,10), sharey = True)\n",
    "fig.tight_layout(pad=5.0)\n",
    "for num, alpha in tqdm(enumerate(alphas)):\n",
    "    sims_t = pd.DataFrame(np.ones(150), columns = [0])\n",
    "    sims_t[1] = np.arange(50, 200) / X0_t\n",
    "    V0 = BS_call * alpha\n",
    "    underlying_nt = NonTradedUnderlying(mu_nt, sigma_nt, underlying_t, rho)\n",
    "    call_nt = Vanilla_on_NonTraded(underlying_nt, K, T, True)\n",
    "    call_nt.set_m(V0, X0_t, X0_nt)\n",
    "    payoff1 = call_nt.payoff_special((X0_t * sims_t), X0_nt)   \n",
    "    underlying_nt = NonTradedUnderlying(mu_nt, sigma_nt, underlying_t, -rho)\n",
    "    call_nt = Vanilla_on_NonTraded(underlying_nt, K, T, True)\n",
    "    call_nt.set_m(V0, X0_t, X0_nt)\n",
    "    payoff2 = call_nt.payoff_special((X0_t * sims_t), X0_nt)  \n",
    "    axs[num//2, num%2].plot((X0_t * sims_t).iloc[:,-1], payoff1, label = f'rho = {rho}')\n",
    "    axs[num//2, num%2].plot((X0_t * sims_t).iloc[:,-1], payoff2, label = f'rho = {-rho}')\n",
    "    axs[num//2, num%2].legend(loc = 'upper right')\n",
    "    axs[num//2, num%2].set_title(f'alpha = {alpha}')\n",
    "    axs[num//2, num%2].axvline(K, color = 'black', lw = 4)\n",
    "    axs[num//2, num%2].set_xlim([50,200])\n",
    "    axs[num//2, num%2].set_xlabel('Cena końcowa aktywa handlowalnego')\n",
    "    axs[num//2, num%2].set_ylabel('Zmodyfikowany payoff')\n",
    "plt.subplots_adjust(top=0.93)\n",
    "plt.suptitle(f'Kwantylowy hedging na callu(K = {K}) na aktywo niehandlowalne w zależności od procenta użytej ceny zwykłego calla\\nzmodyfikowany payoff', size = 12)"
   ]
  },
  {
   "cell_type": "markdown",
   "id": "c10dcf1c-900b-4edf-bc97-fb7379dc963b",
   "metadata": {},
   "source": [
    "W tym wypadku wszystkie wykresy są stosunkowo łatwo interpretowalne- im większy procent ceny opcji standardowej tym na większy przedział końcowej wartości aktywa handlowalnego rzutujący także na przedział aktywa głownego możemy się przygotować. "
   ]
  },
  {
   "cell_type": "code",
   "execution_count": null,
   "id": "e70df9f3-18fc-4f49-8e9d-6e87b7bf6ecc",
   "metadata": {},
   "outputs": [],
   "source": [
    "K = 100\n",
    "rho = 0.75\n",
    "alphas = [0.01, 0.1, 0.2, 0.4, 0.6, 0.8, 0.9, 0.99]\n",
    "X = pd.DataFrame(np.arange(0,300))\n",
    "fig, axs = plt.subplots(4, 2, figsize=(10,10), sharey = True)\n",
    "fig.tight_layout(pad=5.0)\n",
    "for num, alpha in tqdm(enumerate(alphas)):\n",
    "    sims_t = pd.DataFrame(np.ones(150), columns = [0])\n",
    "    sims_t[1] = np.arange(50, 200) / X0_t\n",
    "    V0 = BS_put * alpha\n",
    "    underlying_nt = NonTradedUnderlying(mu_nt, sigma_nt, underlying_t, rho)\n",
    "    put_nt = Vanilla_on_NonTraded(underlying_nt, K, T, False)\n",
    "    put_nt.set_m(V0, X0_t, X0_nt)\n",
    "    payoff1 = put_nt.payoff_special((X0_t * sims_t), X0_nt)   \n",
    "    underlying_nt = NonTradedUnderlying(mu_nt, sigma_nt, underlying_t, -rho)\n",
    "    put_nt = Vanilla_on_NonTraded(underlying_nt, K, T, False)\n",
    "    put_nt.set_m(V0, X0_t, X0_nt)\n",
    "    payoff2 = put_nt.payoff_special((X0_t * sims_t), X0_nt)  \n",
    "    axs[num//2, num%2].plot((X0_t * sims_t).iloc[:,-1], payoff1, label = f'rho = {rho}')\n",
    "    axs[num//2, num%2].plot((X0_t * sims_t).iloc[:,-1], payoff2, label = f'rho = {-rho}')\n",
    "    axs[num//2, num%2].legend(loc = 'upper right')\n",
    "    axs[num//2, num%2].set_title(f'alpha = {alpha}')\n",
    "    axs[num//2, num%2].axvline(K, color = 'black', lw = 4)\n",
    "    axs[num//2, num%2].set_xlim([50,200])\n",
    "    axs[num//2, num%2].set_xlabel('Cena końcowa aktywa handlowalnego')\n",
    "    axs[num//2, num%2].set_ylabel('Zmodyfikowany payoff')\n",
    "plt.subplots_adjust(top=0.93)\n",
    "plt.suptitle(f'Kwantylowy hedging na puta(K = {K}) na aktywo niehandlowalne w zależności od procenta użytej ceny zwykłego calla\\nzmodyfikowany payoff', size = 12)"
   ]
  },
  {
   "cell_type": "markdown",
   "id": "bd279d1a-d756-40f0-8466-95b301d8d6c0",
   "metadata": {},
   "source": [
    "Opcja put niesie ze sobą wnioski podobne- wraz z rosnącym kapitałem początkowym niezerowy przedział wartości aktywa bazowego, na które mamy się przygotować rośnie. Więcej zabezpieczonych symulacji tego instrumentu oznacza przy tej dość mocnej korelacji również więcej zabezpieczonych symulacji faktycznego payoffu na aktywie niehandlowalnym."
   ]
  },
  {
   "cell_type": "markdown",
   "id": "04bfa667-7014-4e87-bdaf-61430ef351c5",
   "metadata": {},
   "source": [
    "#### Wrażliwość na zmienności obu aktywów"
   ]
  },
  {
   "cell_type": "code",
   "execution_count": null,
   "id": "1922c791-95c4-4ddd-a484-6a7535fd883e",
   "metadata": {},
   "outputs": [],
   "source": [
    "K = 100\n",
    "rho = 0.75\n",
    "V0 = BS_call / 2\n",
    "sigmas_prop = [0.125, 0.25, 0.5, 1, 2, 4]\n",
    "X = pd.DataFrame(np.arange(0,300))\n",
    "fig, axs = plt.subplots(3, 2, figsize=(10,10), sharey = True)\n",
    "fig.tight_layout(pad=5.0)\n",
    "for num, prop in tqdm(enumerate(sigmas_prop)):\n",
    "    sims_t = pd.DataFrame(np.ones(150), columns = [0])\n",
    "    sims_t[1] = np.arange(50, 200) / X0_t\n",
    "    underlying_nt = NonTradedUnderlying(mu_nt, sigma_t * prop, underlying_t, rho)\n",
    "    call_nt = Vanilla_on_NonTraded(underlying_nt, K, T, True)\n",
    "    call_nt.set_m(V0, X0_t, X0_nt)\n",
    "    payoff1 = call_nt.payoff_special((X0_t * sims_t), X0_nt)   \n",
    "    underlying_nt = NonTradedUnderlying(mu_nt, sigma_t * prop, underlying_t, -rho)\n",
    "    call_nt = Vanilla_on_NonTraded(underlying_nt, K, T, True)\n",
    "    call_nt.set_m(V0, X0_t, X0_nt)\n",
    "    payoff2 = call_nt.payoff_special((X0_t * sims_t), X0_nt)  \n",
    "    axs[num//2, num%2].plot((X0_t * sims_t).iloc[:,-1], payoff1, label = f'rho = {rho}')\n",
    "    axs[num//2, num%2].plot((X0_t * sims_t).iloc[:,-1], payoff2, label = f'rho = {-rho}')\n",
    "    axs[num//2, num%2].legend(loc = 'upper right')\n",
    "    axs[num//2, num%2].set_title(f'sigma_NH = {prop} * sigma_H')\n",
    "    axs[num//2, num%2].axvline(K, color = 'black', lw = 4)\n",
    "    axs[num//2, num%2].set_xlim([50,200])\n",
    "    axs[num//2, num%2].set_xlabel('Cena końcowa aktywa handlowalnego')\n",
    "    axs[num//2, num%2].set_ylabel('Zmodyfikowany payoff')\n",
    "plt.subplots_adjust(top=0.93)\n",
    "plt.suptitle(f'Kwantylowy hedging na callu(K = {K}) na aktywo niehandlowalne w zależności od proporcji zmienności obu aktywów\\nzmodyfikowany payoff', size = 12)"
   ]
  },
  {
   "cell_type": "markdown",
   "id": "69217598-11f5-49a7-b09b-6d36eba071eb",
   "metadata": {},
   "source": [
    "Można zauważyć, że im bardziej zmienne jest aktywo niehandlowalne w porównaniu do zabezpieczającego je aktywa handlowalnego tym bardziej \"konserwatywny\" jest payoff zmodyfikowany. Mówiąc to mamy na myśli fakt, że rośnie on na wartości na niezerowym przedziale oraz staje się coraz bardziej wklęsły. Intuicyjnie owe \"wybrzuszenie\" stanowi niejako dodatkowy narzut bezpieczeństwa na faktyczny payoff bardziej zmiennego aktywa bazowego. Ze względu na ograniczony kapitał przedziały te wraz z chęcią bycia bardziej konserwatywnym co to samych payoffów węższe."
   ]
  },
  {
   "cell_type": "code",
   "execution_count": null,
   "id": "c390c959-508b-4bd8-9d11-d405d4a7f304",
   "metadata": {},
   "outputs": [],
   "source": [
    "K = 100\n",
    "rho = 0.75\n",
    "V0 = BS_put / 2\n",
    "sigmas_prop = [0.125, 0.25, 0.5, 1, 2, 4]\n",
    "X = pd.DataFrame(np.arange(0,300))\n",
    "fig, axs = plt.subplots(3, 2, figsize=(10,10), sharey = True)\n",
    "fig.tight_layout(pad=5.0)\n",
    "for num, prop in tqdm(enumerate(sigmas_prop)):\n",
    "    sims_t = pd.DataFrame(np.ones(150), columns = [0])\n",
    "    sims_t[1] = np.arange(50, 200) / X0_t\n",
    "    underlying_nt = NonTradedUnderlying(mu_nt, sigma_t * prop, underlying_t, rho)\n",
    "    put_nt = Vanilla_on_NonTraded(underlying_nt, K, T, False)\n",
    "    put_nt.set_m(V0, X0_t, X0_nt)\n",
    "    payoff1 = put_nt.payoff_special((X0_t * sims_t), X0_nt)   \n",
    "    underlying_nt = NonTradedUnderlying(mu_nt, sigma_t * prop, underlying_t, -rho)\n",
    "    put_nt = Vanilla_on_NonTraded(underlying_nt, K, T, False)\n",
    "    put_nt.set_m(V0, X0_t, X0_nt)\n",
    "    payoff2 = put_nt.payoff_special((X0_t * sims_t), X0_nt)  \n",
    "    axs[num//2, num%2].plot((X0_t * sims_t).iloc[:,-1], payoff1, label = f'rho = {rho}')\n",
    "    axs[num//2, num%2].plot((X0_t * sims_t).iloc[:,-1], payoff2, label = f'rho = {-rho}')\n",
    "    axs[num//2, num%2].legend(loc = 'upper right')\n",
    "    axs[num//2, num%2].set_title(f'sigma_NH = {prop} * sigma_H')\n",
    "    axs[num//2, num%2].axvline(K, color = 'black', lw = 4)\n",
    "    axs[num//2, num%2].set_xlim([50,200])\n",
    "    axs[num//2, num%2].set_xlabel('Cena końcowa aktywa handlowalnego')\n",
    "    axs[num//2, num%2].set_ylabel('Zmodyfikowany payoff')\n",
    "plt.subplots_adjust(top=0.93)\n",
    "plt.suptitle(f'Kwantylowy hedging na puta(K = {K}) na aktywo niehandlowalne w zależności od proporcji zmienności obu aktywów\\nzmodyfikowany payoff', size = 12)"
   ]
  },
  {
   "cell_type": "markdown",
   "id": "f5c81795-9331-4203-b394-abb33de9f5e8",
   "metadata": {},
   "source": [
    "Opcja pull niesie ze sobą w pewnym stopniu podobną charakterystykę- payoffy rosną co do wartości przez dodatkowy narzut bezpieczeństwa na bardziej zmienne niehandlowalne aktywo."
   ]
  },
  {
   "cell_type": "markdown",
   "id": "bf813782-9044-463d-9151-fe0c1db8cd9f",
   "metadata": {},
   "source": [
    "## II. Optymalizacja drugiej funkcji celu"
   ]
  },
  {
   "cell_type": "markdown",
   "id": "0a5a0a7d-78f7-452c-8915-738789abc824",
   "metadata": {},
   "source": [
    "W tej sekcji skupimy się głównie na zmodyfikowanym payoffie, nie zaprezentujemy niestety wyników samego tradingu na przykładzie symulacji. Wynika to z ciężaru obliczeniowego metody szukania stycznej do funkcji $G$, który nakłada się wielokrotnie w przypadku trade'owania, gdzie cana opcji musi zostać wyliczona każdego dnia dwukrotnie w celu obliczenia $\\Delta$. Możliwe, choć nadal stosunkowo czasochłonne jest skonstruowanie jednego pełnego tradingu- nie niesie on jednak informacji, które moglibyśmy przenieść na większą liczbę przypadków. Możliwa jest modyfikacja metody na bardziej optymalną lub postawienie na większą liberalność (choć już plasującą się na dość wysokim poziomie) przyjętych parametrów dokładności obliczeń. W poniższym raporcie na taki krok się jednak nie zdecydowaliśmy."
   ]
  },
  {
   "cell_type": "markdown",
   "id": "a22f5ace-bf45-4c27-8feb-8e2b4b6fdd1e",
   "metadata": {
    "tags": []
   },
   "source": [
    "### Parametry wyjściowe"
   ]
  },
  {
   "cell_type": "code",
   "execution_count": null,
   "id": "2d61402e-48a5-4730-b4c4-37ddc5c264d2",
   "metadata": {},
   "outputs": [],
   "source": [
    "mu_nt = 0.06\n",
    "mu_t = 0.06\n",
    "sigma_nt =  0.3\n",
    "sigma_t =  0.3\n",
    "r = 0.05\n",
    "X0_nt = 100\n",
    "X0_t = 100\n",
    "T = 1\n",
    "K = 100\n",
    "repeat = 10000\n",
    "values_per_year = 250"
   ]
  },
  {
   "cell_type": "code",
   "execution_count": null,
   "id": "089ae88e-30cf-46aa-871c-0ee81c9af4db",
   "metadata": {},
   "outputs": [],
   "source": [
    "underlying_t = Underlying(mu_t, sigma_t, r, values_per_year)"
   ]
  },
  {
   "cell_type": "markdown",
   "id": "52d68b07-998a-44fa-89b8-f7d93d409c0f",
   "metadata": {
    "tags": []
   },
   "source": [
    "### Proste *sanity checki* wyznaczanego przez przypadek skrajny payoffu"
   ]
  },
  {
   "cell_type": "code",
   "execution_count": null,
   "id": "ca2d230d-097e-4a5b-8095-ae98b4b88cb3",
   "metadata": {},
   "outputs": [],
   "source": [
    "rho = 0.999999\n",
    "underlying_nt = NonTradedUnderlying(mu_t, sigma_t, underlying_t, rho)\n",
    "[_, reality_t], [_, reality_nt] = underlying_nt.simulate_together_P(repeat, T)"
   ]
  },
  {
   "cell_type": "code",
   "execution_count": null,
   "id": "8e5b9c1f-9ee8-44ef-ae34-d42845ba0de7",
   "metadata": {},
   "outputs": [],
   "source": [
    "call_nt = Vanilla_on_NonTraded(underlying_nt, K, T, True, 'success_ratio')\n",
    "put_nt = Vanilla_on_NonTraded(underlying_nt, K, T, False, 'success_ratio')"
   ]
  },
  {
   "cell_type": "code",
   "execution_count": null,
   "id": "5fda2c45-613a-4ff4-a37a-b359a9c3440b",
   "metadata": {},
   "outputs": [],
   "source": [
    "call_vanilla = Vanilla(underlying_t, K, T, True)\n",
    "put_vanilla = Vanilla(underlying_t, K, T, False)"
   ]
  },
  {
   "cell_type": "markdown",
   "id": "994153c3-1427-44a5-ba1b-e6bfc4314bb1",
   "metadata": {},
   "source": [
    "#### Cena opcji w świecie Blacka Scholesa- porównanie"
   ]
  },
  {
   "cell_type": "code",
   "execution_count": null,
   "id": "6eee4d4f-69c0-4a1c-9d49-449c5bec0777",
   "metadata": {},
   "outputs": [],
   "source": [
    "price_MC_nontradable = call_nt.get_MC_price(X0_t, X0_nt)\n",
    "BS_call = call_vanilla.get_price(X0_t)\n",
    "print(f'Analitycna cena opcji call:{BS_call:.3f}')\n",
    "print(f'MC cena opcji na niehandlowalne imitującej zwykłego calla:{price_MC_nontradable:.3f}')\n",
    "assert abs(price_MC_nontradable - BS_call)/BS_call < 0.1"
   ]
  },
  {
   "cell_type": "code",
   "execution_count": null,
   "id": "5bbf1576-2128-4885-a006-756b20c8544b",
   "metadata": {},
   "outputs": [],
   "source": [
    "price_MC_nontradable = put_nt.get_MC_price(X0_t, X0_nt)\n",
    "BS_put = put_vanilla.get_price(X0_t)\n",
    "print(f'Analitycna cena opcji put:{BS_put:.3f}')\n",
    "print(f'MC cena opcji na niehandlowalne imitującej zwykłego puta:{price_MC_nontradable:.3f}')\n",
    "assert abs(price_MC_nontradable - BS_put)/BS_put < 0.1"
   ]
  },
  {
   "cell_type": "markdown",
   "id": "8d1f03af-6ae5-4605-a3c3-e3a753bcade0",
   "metadata": {},
   "source": [
    "Widzimy, że estymacje ceny opcji na aktywo niehandlowalne w przypadku imitującym opcję waniliową są stosunkowo zbliżone. Potencjalny, mniejszy niż 10% ceny właściwej błąd wynikać może z metody symulacji Monte Carlo. Założony błąd jest tym razem większy ze względu na większą niedokładność obliczeniową definiowania zmodyfikowanego payoffu."
   ]
  },
  {
   "cell_type": "markdown",
   "id": "4747752b-e1c8-46cb-838c-36ced9b1e5ad",
   "metadata": {},
   "source": [
    "### Analiza różnic pomiędzy zmodyfikowanym payoffem w zależności od tego, która funkcja celu ma być optymalizowana"
   ]
  },
  {
   "cell_type": "markdown",
   "id": "03504c45-cfc2-4d1e-ad85-38af7667c4cd",
   "metadata": {},
   "source": [
    "Poniżej zaprezentujemy porównania zmodyfikowanego payoffu opcji na aktywo niehandlowalne w zależności, czy zależy nam na optymalizacji pierwszej funkcji celu tj. prawdopodobieństwa sukcesu, czy też drugiej (tzw. *success ratio*). Analizy te będą zależne od przyjętej korelacji pomiędzy aktywami, procentu przekazanej do zabezpieczania ceny standardowego odpowiednika opcji, proporcji pomiędzy zmiennością aktywów oraz ceny wykonania."
   ]
  },
  {
   "cell_type": "markdown",
   "id": "4eda9a63-e1b6-4c9a-a4ed-214f5476506f",
   "metadata": {},
   "source": [
    "#### Wrażliwość na cenę wykonania"
   ]
  },
  {
   "cell_type": "code",
   "execution_count": null,
   "id": "4646bffb-ba21-45ad-9a7e-25cc1ac23dcc",
   "metadata": {},
   "outputs": [],
   "source": [
    "fig, axs = plt.subplots(3,5, figsize = (25, 15), sharey = 'row')\n",
    "fig.tight_layout(pad=5.5)\n",
    "plt.suptitle(f'Różnice między zmodyfikowanymi payoffami kwantylowego hedgingu calla\\nw zależności od ceny wykonania K oraz korelacji z aktywem handlowalnym', fontsize= 18)\n",
    "plt.subplots_adjust(top=0.9)\n",
    "for idy, rho in tqdm(enumerate([0.75, 0.5, 0, -0.5, -0.75])):\n",
    "    for idx, K in enumerate([60, 100, 140]):\n",
    "        underlying_nt = NonTradedUnderlying(mu_nt, sigma_nt, underlying_t, rho)\n",
    "        sims_t = pd.DataFrame(np.ones(152), columns = [0])\n",
    "        sims_t[1] = np.arange(49, 201) / X0_t\n",
    "        call_nt_sp = Vanilla_on_NonTraded(underlying_nt, K, T, True)\n",
    "        V0 = Vanilla(underlying_t, K, T, True).get_price(X0_nt) / 2\n",
    "        call_nt_sp.set_m(V0, X0_t, X0_nt)\n",
    "        payoff_sp = call_nt_sp.payoff_special((X0_t * sims_t), X0_nt)\n",
    "\n",
    "        call_nt_sr = Vanilla_on_NonTraded(underlying_nt, K, T, True, 'success_ratio')\n",
    "        call_nt_sr.set_m(V0, X0_t, X0_nt)\n",
    "        payoff_sr = call_nt_sr.payoff_special((X0_t * sims_t), X0_nt)\n",
    "\n",
    "        axs[idx, idy].plot((X0_t * sims_t).iloc[:,-1], payoff_sp, lw = 3, alpha = 0.5, color = 'red', label = 'max pstwo sukcesu')\n",
    "        axs[idx, idy].plot((X0_t * sims_t).iloc[:,-1], payoff_sr, lw = 3, alpha = 0.5, color = 'green', label = 'max success ratio')\n",
    "        axs[idx, idy].legend(loc = 'upper right')\n",
    "        axs[idx, idy].set_title(f'rho = {rho}, K = {K}', fontsize = 13)\n",
    "        axs[idx, idy].set_xlim([50, 200])    \n",
    "        axs[idx, idy].axvline(K, color = 'black', lw = 4)\n",
    "        axs[idx, idy].set_xlabel('Końcowa cena aktywa handlowalnego')\n",
    "        axs[idx, idy].set_ylabel('Payoff zmodyfikowany', fontsize = 12)    \n",
    "        axs[idx, idy].set_ylabel('Cena końcowa aktywa handlowalnego', fontsize = 12)    "
   ]
  },
  {
   "cell_type": "markdown",
   "id": "4465b925-d476-46e5-9164-7a34ba36b450",
   "metadata": {},
   "source": [
    "W przypadku opcji call pierwszą narzucającą się obserwacją jest to, że zmodyfikowany payoff w przypadku optymalizacji *success ratio* jest funkcją zdecydowanie bardziej \"gładszą\" i w konsekwencji obejmującą większy zakres symulacji. Jednocześnie- ze względu na ograniczony kapitał początkowy payoff ten sięga wartości niższych. Możemy to interpretować jako próbę conajmniej częściowego zabezpieczenia większego zakresu symulacji. Wynika to z formy drugiej funkcji celu, która maksymalizuje także stosunek końcowego stanu portfela przed wypłaceniem payoffu faktycznego do tego właśnie payoffu w przypadku scenariuszy, na które nie byliśmy w pełni przygotowani. Wraz ze wzrostem ceny wykonania oba przypadki payoffów dla aktywa handlowalnego przesuwają swoją masę w prawo kiedy korelacja jest dodatnia oraz w lewo w przypadku przeciwnym."
   ]
  },
  {
   "cell_type": "code",
   "execution_count": null,
   "id": "6afc5de6-601f-4e7c-baf9-261ab36d1b44",
   "metadata": {},
   "outputs": [],
   "source": [
    "fig, axs = plt.subplots(3,5, figsize = (25, 15), sharey = 'row')\n",
    "fig.tight_layout(pad=5.5)\n",
    "plt.suptitle(f'Różnice między zmodyfikowanymi payoffami kwantylowego hedgingu puta\\nw zależności od ceny wykonania K oraz korelacji z aktywem handlowalnym', fontsize= 18)\n",
    "plt.subplots_adjust(top=0.9)\n",
    "V0 = BS_put / 2\n",
    "for idy, rho in tqdm(enumerate([0.75, 0.5, 0, -0.5, -0.75])):\n",
    "    for idx, K in enumerate([60, 100, 140]):\n",
    "        underlying_nt = NonTradedUnderlying(mu_nt, sigma_nt, underlying_t, rho)\n",
    "        sims_t = pd.DataFrame(np.ones(152), columns = [0])\n",
    "        sims_t[1] = np.arange(49, 201) / X0_t\n",
    "        put_nt_sp = Vanilla_on_NonTraded(underlying_nt, K, T, False)\n",
    "        V0 = Vanilla(underlying_t, K, T, False).get_price(X0_nt) / 2\n",
    "        put_nt_sp.set_m(V0, X0_t, X0_nt)\n",
    "        put_sp = put_nt_sp.payoff_special((X0_t * sims_t), X0_nt)\n",
    "\n",
    "        put_nt_sr = Vanilla_on_NonTraded(underlying_nt, K, T, False, 'success_ratio')\n",
    "        put_nt_sr.set_m(V0, X0_t, X0_nt)\n",
    "        payoff_sr = put_nt_sr.payoff_special((X0_t * sims_t), X0_nt)\n",
    "\n",
    "        axs[idx, idy].plot((X0_t * sims_t).iloc[:,-1], payoff_sp, lw = 3, alpha = 0.5, color = 'red', label = 'max pstwo sukcesu')\n",
    "        axs[idx, idy].plot((X0_t * sims_t).iloc[:,-1], payoff_sr, lw = 3, alpha = 0.5, color = 'green', label = 'max success ratio')\n",
    "        axs[idx, idy].legend(loc = 'upper right')\n",
    "        axs[idx, idy].set_title(f'rho = {rho}, K = {K}', fontsize = 13)\n",
    "        axs[idx, idy].set_xlim([50, 200])    \n",
    "        axs[idx, idy].axvline(K, color = 'black', lw = 4)\n",
    "        axs[idx, idy].set_xlabel('Końcowa cena aktywa handlowalnego')\n",
    "        axs[idx, idy].set_ylabel('Payoff zmodyfikowany', fontsize = 12)    \n",
    "        axs[idx, idy].set_ylabel('Cena końcowa aktywa handlowalnego', fontsize = 12)    "
   ]
  },
  {
   "cell_type": "markdown",
   "id": "5a4e559d-e79a-4687-9fe2-db8e9229dd23",
   "metadata": {},
   "source": [
    "Zmodyfikowane payoffy dla opcji put są analogicznie od siebie zależne, co dla opcji call. Tym razem wraz ze wzrostem ceny wykonania payoffy te przesuwają masę ku wartościom mniejszym kiedy korelacja jest dodatnia lub większym w przypadku $\\rho <0$. Kiedy aktywa są nieskorelowane payoffy \"próbują\" zabezpieczyć się na losowość aktywa niehandlowalnego- nie ma tu tak dużej zależności od ceny wykonania $K$."
   ]
  },
  {
   "cell_type": "markdown",
   "id": "3bcfffe6-c824-4797-bae3-4740aa5eb199",
   "metadata": {},
   "source": [
    "#### Wrażliwość na procent ceny analogicznej opcji waniliowej użyty do zabezpieczania"
   ]
  },
  {
   "cell_type": "code",
   "execution_count": null,
   "id": "6cd1e938-d030-4d97-80ae-f546d3e7cd74",
   "metadata": {},
   "outputs": [],
   "source": [
    "fig, axs = plt.subplots(3,5, figsize = (25, 15), sharey = 'row')\n",
    "fig.tight_layout(pad=5.5)\n",
    "plt.suptitle(f'Różnice między zmodyfikowanymi payoffami kwantylowego hedgingu calla(K = {K})\\nw zależności od procentu alpha użytej ceny oraz korelacji z aktywem handlowalnym', fontsize= 18)\n",
    "plt.subplots_adjust(top=0.9)\n",
    "V0 = BS_call\n",
    "for idy, rho in tqdm(enumerate([0.75, 0.5, 0, -0.5, -0.75])):\n",
    "    for idx, alpha in enumerate([1, 0.5, 0.1]):\n",
    "        underlying_nt = NonTradedUnderlying(mu_nt, sigma_nt, underlying_t, rho)\n",
    "        sims_t = pd.DataFrame(np.ones(152), columns = [0])\n",
    "        sims_t[1] = np.arange(49, 201) / X0_t\n",
    "        call_nt_sp = Vanilla_on_NonTraded(underlying_nt, K, T, True)\n",
    "        call_nt_sp.set_m(alpha * V0, X0_t, X0_nt)\n",
    "        payoff_sp = call_nt_sp.payoff_special((X0_t * sims_t), X0_nt)\n",
    "\n",
    "        call_nt_sr = Vanilla_on_NonTraded(underlying_nt, K, T, True, 'success_ratio')\n",
    "        call_nt_sr.set_m(alpha * V0, X0_t, X0_nt)\n",
    "        payoff_sr = call_nt_sr.payoff_special((X0_t * sims_t), X0_nt)\n",
    "\n",
    "        axs[idx, idy].plot((X0_t * sims_t).iloc[:,-1], payoff_sp, lw = 3, alpha = 0.5, color = 'red', label = 'max pstwo sukcesu')\n",
    "        axs[idx, idy].plot((X0_t * sims_t).iloc[:,-1], payoff_sr, lw = 3, alpha = 0.5, color = 'green', label = 'max success ratio')\n",
    "        axs[idx, idy].legend(loc = 'upper right')\n",
    "        axs[idx, idy].set_title(f'rho = {rho}, alpha = {alpha}', fontsize = 13)\n",
    "        axs[idx, idy].set_xlim([50, 200])    \n",
    "        axs[idx, idy].axvline(K, color = 'black', lw = 4)\n",
    "        axs[idx, idy].set_xlabel('Końcowa cena aktywa handlowalnego')\n",
    "        axs[idx, idy].set_ylabel('Payoff zmodyfikowany', fontsize = 12)    \n",
    "        axs[idx, idy].set_ylabel('Cena końcowa aktywa handlowalnego', fontsize = 12)    "
   ]
  },
  {
   "cell_type": "markdown",
   "id": "49a77303-2323-4753-b331-85620a4722c6",
   "metadata": {},
   "source": [
    "Zauważmy, że w przypadku gdy kapitał początkowy jest większy wykresy zmodyfikowanego payoffu dla obu funkcji celu są stosunkowo podobne. P-stwo sukcesu stanowiące jeden składnik *success ratio* dominuje tutaj i drugi składnik związany ze scenariuszami niezabezpieczonymi nie modyfikuje znacznie payoffu. Zmienia się to wraz ze spadkiem procentu użytej do hedgingu ceny standardowej wersji rozważanej opcji. Podczas gdy payoff zmodyfikowany dla prawdopodobieństwa sukcesu w przypadkach niezerowej korelacji po prostu \"zwęża się\", na coraz mniejszy przedział- payoff dla *success ratio* rozszerza się na coraz więcej przypadków scenariuszy, których pierwszy nie był w stanie zabezpieczyć. "
   ]
  },
  {
   "cell_type": "code",
   "execution_count": null,
   "id": "c8a8ca58-ae71-4127-a1f1-932afc7203ce",
   "metadata": {},
   "outputs": [],
   "source": [
    "fig, axs = plt.subplots(3,5, figsize = (25, 15), sharey = 'row')\n",
    "fig.tight_layout(pad=5.5)\n",
    "plt.suptitle(f'Różnice między zmodyfikowanymi payoffami kwantylowego hedgingu puta(K = {K})\\nw zależności od procentu alpha użytej ceny oraz korelacji z aktywem handlowalnym', fontsize= 18)\n",
    "plt.subplots_adjust(top=0.9)\n",
    "V0 = BS_put\n",
    "for idy, rho in tqdm(enumerate([0.75, 0.5, 0, -0.5, -0.75])):\n",
    "    for idx, alpha in enumerate([1, 0.5, 0.1]):\n",
    "        underlying_nt = NonTradedUnderlying(mu_nt, sigma_nt, underlying_t, rho)\n",
    "        sims_t = pd.DataFrame(np.ones(152), columns = [0])\n",
    "        sims_t[1] = np.arange(49, 201) / X0_t\n",
    "        put_nt_sp = Vanilla_on_NonTraded(underlying_nt, K, T, False)\n",
    "        put_nt_sp.set_m(alpha * V0, X0_t, X0_nt)\n",
    "        payoff_sp = put_nt_sp.payoff_special((X0_t * sims_t), X0_nt)\n",
    "\n",
    "        put_nt_sr = Vanilla_on_NonTraded(underlying_nt, K, T, False, 'success_ratio')\n",
    "        put_nt_sr.set_m(alpha * V0, X0_t, X0_nt)\n",
    "        payoff_sr = put_nt_sr.payoff_special((X0_t * sims_t), X0_nt)\n",
    "\n",
    "        axs[idx, idy].plot((X0_t * sims_t).iloc[:,-1], payoff_sp, lw = 3, alpha = 0.5, color = 'red', label = 'max pstwo sukcesu')\n",
    "        axs[idx, idy].plot((X0_t * sims_t).iloc[:,-1], payoff_sr, lw = 3, alpha = 0.5, color = 'green', label = 'max success ratio')\n",
    "        axs[idx, idy].legend(loc = 'upper right')\n",
    "        axs[idx, idy].set_title(f'rho = {rho}, alpha = {alpha}', fontsize = 13)\n",
    "        axs[idx, idy].set_xlim([50, 200])    \n",
    "        axs[idx, idy].axvline(K, color = 'black', lw = 4)\n",
    "        axs[idx, idy].set_xlabel('Końcowa cena aktywa handlowalnego')\n",
    "        axs[idx, idy].set_ylabel('Payoff zmodyfikowany', fontsize = 12)    \n",
    "        axs[idx, idy].set_ylabel('Cena końcowa aktywa handlowalnego', fontsize = 12)    "
   ]
  },
  {
   "cell_type": "markdown",
   "id": "75eb637b-395c-48f5-a6c9-fbc6d3fbf589",
   "metadata": {},
   "source": [
    "Wnioski w przypadku opcji put są zbliżone- payoff zaznaczony tu kolorem zielony próbuje sięgnąć dużo większej liczby scenariuszy zmniejszając jednocześnie oczekiwany od nich payoff."
   ]
  },
  {
   "cell_type": "markdown",
   "id": "2fd49e92-a54b-4bee-a005-2bcc0b8a7aac",
   "metadata": {},
   "source": [
    "#### Wrażliwość na zmienności obu aktywów"
   ]
  },
  {
   "cell_type": "code",
   "execution_count": null,
   "id": "00d9c8fd-01c1-43ed-9e38-ea9b2fdb5859",
   "metadata": {},
   "outputs": [],
   "source": [
    "fig, axs = plt.subplots(3,5, figsize = (25, 15), sharey = 'row')\n",
    "fig.tight_layout(pad=5.5)\n",
    "K = 100\n",
    "plt.suptitle(f'Różnice między zmodyfikowanymi payoffami kwantylowego hedgingu calla(K = {K})\\nw zależności od proporcji zmienności aktywów oraz korelacji z aktywem handlowalnym', fontsize= 18)\n",
    "plt.subplots_adjust(top=0.9)\n",
    "V0 = BS_call / 2\n",
    "for idy, rho in tqdm(enumerate([0.75, 0.5, 0, -0.5, -0.75])):\n",
    "    for idx, prop in enumerate([1/2, 1, 2]):\n",
    "        underlying_nt = NonTradedUnderlying(mu_nt, prop * sigma_t, underlying_t, rho)\n",
    "        sims_t = pd.DataFrame(np.ones(152), columns = [0])\n",
    "        sims_t[1] = np.arange(49, 201) / X0_t\n",
    "        call_nt_sp = Vanilla_on_NonTraded(underlying_nt, K, T, True)\n",
    "        call_nt_sp.set_m(V0, X0_t, X0_nt)\n",
    "        payoff_sp = call_nt_sp.payoff_special((X0_t * sims_t), X0_nt)\n",
    "\n",
    "        call_nt_sr = Vanilla_on_NonTraded(underlying_nt, K, T, True, 'success_ratio')\n",
    "        call_nt_sr.set_m(V0, X0_t, X0_nt)\n",
    "        payoff_sr = call_nt_sr.payoff_special((X0_t * sims_t), X0_nt)\n",
    "\n",
    "        axs[idx, idy].plot((X0_t * sims_t).iloc[:,-1], payoff_sp, lw = 3, alpha = 0.5, color = 'red', label = 'max pstwo sukcesu')\n",
    "        axs[idx, idy].plot((X0_t * sims_t).iloc[:,-1], payoff_sr, lw = 3, alpha = 0.5, color = 'green', label = 'max success ratio')\n",
    "        axs[idx, idy].legend(loc = 'upper right')\n",
    "        axs[idx, idy].set_title(f'rho = {rho}, sigma_NH = {prop}*sigma_H', fontsize = 13)\n",
    "        axs[idx, idy].set_xlim([50, 200])   \n",
    "        axs[idx, idy].axvline(K, color = 'black', lw = 4)\n",
    "        axs[idx, idy].set_xlabel('Końcowa cena aktywa handlowalnego')\n",
    "        axs[idx, idy].set_ylabel('Payoff zmodyfikowany', fontsize = 12)    \n",
    "        axs[idx, idy].set_ylabel('Cena końcowa aktywa handlowalnego', fontsize = 12)    "
   ]
  },
  {
   "cell_type": "markdown",
   "id": "84e50a3b-b749-486d-b72a-c6c97a15b9ae",
   "metadata": {},
   "source": [
    "W przypadku optymalizacji obu funkcji celu wzrost w zmienności aktywa niehandlowalnego skutkuje w większej wklęsłości zmodyfikowanych payoffów. Jest to widoczne bardziej w przypadku payoffów, dla maksymalizacji prawdopodobieństwa sukcesu."
   ]
  },
  {
   "cell_type": "code",
   "execution_count": null,
   "id": "1e87809e-8c6d-4a87-acfd-f0f26af64699",
   "metadata": {},
   "outputs": [],
   "source": [
    "fig, axs = plt.subplots(3,5, figsize = (25, 15), sharey = 'row')\n",
    "fig.tight_layout(pad=5.5)\n",
    "K = 100\n",
    "plt.suptitle(f'Różnice między zmodyfikowanymi payoffami kwantylowego hedgingu puta(K = {K})\\nw zależności od proporcji zmienności aktywów oraz korelacji z aktywem handlowalnym', fontsize= 18)\n",
    "plt.subplots_adjust(top=0.9)\n",
    "V0 = BS_put / 2\n",
    "for idy, rho in tqdm(enumerate([0.75, 0.5, 0, -0.5, -0.75])):\n",
    "    for idx, prop in enumerate([1/2, 1, 2]):\n",
    "        underlying_nt = NonTradedUnderlying(mu_nt, prop * sigma_t, underlying_t, rho)\n",
    "        sims_t = pd.DataFrame(np.ones(152), columns = [0])\n",
    "        sims_t[1] = np.arange(49, 201) / X0_t\n",
    "        put_nt_sp = Vanilla_on_NonTraded(underlying_nt, K, T, False)\n",
    "        put_nt_sp.set_m(V0, X0_t, X0_nt)\n",
    "        payoff_sp = put_nt_sp.payoff_special((X0_t * sims_t), X0_nt)\n",
    "\n",
    "        put_nt_sr = Vanilla_on_NonTraded(underlying_nt, K, T, False, 'success_ratio')\n",
    "        put_nt_sr.set_m(V0, X0_t, X0_nt)\n",
    "        payoff_sr = put_nt_sr.payoff_special((X0_t * sims_t), X0_nt)\n",
    "\n",
    "        axs[idx, idy].plot((X0_t * sims_t).iloc[:,-1], payoff_sp, lw = 3, alpha = 0.5, color = 'red', label = 'max pstwo sukcesu')\n",
    "        axs[idx, idy].plot((X0_t * sims_t).iloc[:,-1], payoff_sr, lw = 3, alpha = 0.5, color = 'green', label = 'max success ratio')\n",
    "        axs[idx, idy].legend(loc = 'upper right')\n",
    "        axs[idx, idy].set_title(f'rho = {rho}, sigma_NH = {prop}*sigma_H', fontsize = 13)\n",
    "        axs[idx, idy].set_xlim([50, 200]) \n",
    "        axs[idx, idy].axvline(K, color = 'black', lw = 4)\n",
    "        axs[idx, idy].set_xlabel('Końcowa cena aktywa handlowalnego')\n",
    "        axs[idx, idy].set_ylabel('Payoff zmodyfikowany', fontsize = 12)    \n",
    "        axs[idx, idy].set_ylabel('Cena końcowa aktywa handlowalnego', fontsize = 12)    "
   ]
  },
  {
   "cell_type": "markdown",
   "id": "3c89b2a3-3779-4360-8114-b98c02dbef7a",
   "metadata": {},
   "source": [
    "Wnioski dla opcji sprzedaży są zbliżone."
   ]
  }
 ],
 "metadata": {
  "kernelspec": {
   "display_name": "Python 3 (ipykernel)",
   "language": "python",
   "name": "python3"
  },
  "language_info": {
   "codemirror_mode": {
    "name": "ipython",
    "version": 3
   },
   "file_extension": ".py",
   "mimetype": "text/x-python",
   "name": "python",
   "nbconvert_exporter": "python",
   "pygments_lexer": "ipython3",
   "version": "3.9.13"
  }
 },
 "nbformat": 4,
 "nbformat_minor": 5
}
