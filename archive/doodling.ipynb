{
 "cells": [
  {
   "cell_type": "code",
   "execution_count": 1,
   "id": "40658787",
   "metadata": {},
   "outputs": [],
   "source": [
    "from underlying import Underlying\n",
    "from option import Option\n",
    "from trader import Trader\n",
    "\n",
    "import matplotlib.pyplot as plt\n",
    "from tqdm import tqdm\n",
    "from quantile_hedging_calculator import *\n",
    "import numpy as np\n",
    "import pandas as pd"
   ]
  },
  {
   "cell_type": "code",
   "execution_count": 2,
   "id": "be2e5a0c",
   "metadata": {},
   "outputs": [],
   "source": [
    "def payoff_call(X, K):\n",
    "    return np.maximum(X.iloc[:,-1]- K, 0)\n",
    "def payoff_put(X, K):\n",
    "    return np.maximum(K - X.iloc[:,-1], 0)"
   ]
  },
  {
   "cell_type": "code",
   "execution_count": 194,
   "id": "59ebe310",
   "metadata": {},
   "outputs": [],
   "source": [
    "mu = 0.06\n",
    "sigma =  0.3\n",
    "r = 0.05\n",
    "T = 1\n",
    "X0 = 100\n",
    "repeat = 100"
   ]
  },
  {
   "cell_type": "markdown",
   "id": "167f3c0b",
   "metadata": {},
   "source": [
    "## Full hedging - Vanilla Call"
   ]
  },
  {
   "cell_type": "code",
   "execution_count": 195,
   "id": "9449fcdb",
   "metadata": {},
   "outputs": [],
   "source": [
    "K = 80"
   ]
  },
  {
   "cell_type": "code",
   "execution_count": 196,
   "id": "34cb4e4b",
   "metadata": {},
   "outputs": [],
   "source": [
    "underlying = Underlying(mu, sigma, r, 250)"
   ]
  },
  {
   "cell_type": "code",
   "execution_count": 197,
   "id": "6c5da668",
   "metadata": {},
   "outputs": [],
   "source": [
    "_, reality = underlying.simulate_P(repeat, T)"
   ]
  },
  {
   "cell_type": "code",
   "execution_count": 198,
   "id": "9f3b0682",
   "metadata": {},
   "outputs": [],
   "source": [
    "option = Option(underlying, lambda X: payoff_call(X, K), T)\n",
    "BS_Price = option.get_MC_price(X0, 0)"
   ]
  },
  {
   "cell_type": "code",
   "execution_count": 199,
   "id": "f43594b3",
   "metadata": {},
   "outputs": [],
   "source": [
    "W, X = underlying.simulate_P(repeat,option.T)"
   ]
  },
  {
   "cell_type": "code",
   "execution_count": 218,
   "id": "54a72352",
   "metadata": {},
   "outputs": [],
   "source": [
    "data = pd.concat([W.iloc[:,-1],X.iloc[:,-1]], axis = 1)\n",
    "data.columns = ['W','X']"
   ]
  },
  {
   "cell_type": "code",
   "execution_count": 219,
   "id": "4dcf616e",
   "metadata": {},
   "outputs": [
    {
     "data": {
      "text/html": [
       "<div>\n",
       "<style scoped>\n",
       "    .dataframe tbody tr th:only-of-type {\n",
       "        vertical-align: middle;\n",
       "    }\n",
       "\n",
       "    .dataframe tbody tr th {\n",
       "        vertical-align: top;\n",
       "    }\n",
       "\n",
       "    .dataframe thead th {\n",
       "        text-align: right;\n",
       "    }\n",
       "</style>\n",
       "<table border=\"1\" class=\"dataframe\">\n",
       "  <thead>\n",
       "    <tr style=\"text-align: right;\">\n",
       "      <th></th>\n",
       "      <th>W</th>\n",
       "      <th>X</th>\n",
       "    </tr>\n",
       "  </thead>\n",
       "  <tbody>\n",
       "    <tr>\n",
       "      <th>0</th>\n",
       "      <td>-0.397467</td>\n",
       "      <td>0.901009</td>\n",
       "    </tr>\n",
       "    <tr>\n",
       "      <th>1</th>\n",
       "      <td>0.851432</td>\n",
       "      <td>1.310527</td>\n",
       "    </tr>\n",
       "    <tr>\n",
       "      <th>2</th>\n",
       "      <td>0.591844</td>\n",
       "      <td>1.212341</td>\n",
       "    </tr>\n",
       "    <tr>\n",
       "      <th>3</th>\n",
       "      <td>0.430732</td>\n",
       "      <td>1.155138</td>\n",
       "    </tr>\n",
       "    <tr>\n",
       "      <th>4</th>\n",
       "      <td>-0.619832</td>\n",
       "      <td>0.842864</td>\n",
       "    </tr>\n",
       "    <tr>\n",
       "      <th>...</th>\n",
       "      <td>...</td>\n",
       "      <td>...</td>\n",
       "    </tr>\n",
       "    <tr>\n",
       "      <th>95</th>\n",
       "      <td>0.245737</td>\n",
       "      <td>1.092776</td>\n",
       "    </tr>\n",
       "    <tr>\n",
       "      <th>96</th>\n",
       "      <td>-0.317941</td>\n",
       "      <td>0.922764</td>\n",
       "    </tr>\n",
       "    <tr>\n",
       "      <th>97</th>\n",
       "      <td>-0.931317</td>\n",
       "      <td>0.767670</td>\n",
       "    </tr>\n",
       "    <tr>\n",
       "      <th>98</th>\n",
       "      <td>-0.646228</td>\n",
       "      <td>0.836216</td>\n",
       "    </tr>\n",
       "    <tr>\n",
       "      <th>99</th>\n",
       "      <td>0.571617</td>\n",
       "      <td>1.205007</td>\n",
       "    </tr>\n",
       "  </tbody>\n",
       "</table>\n",
       "<p>100 rows × 2 columns</p>\n",
       "</div>"
      ],
      "text/plain": [
       "           W         X\n",
       "0  -0.397467  0.901009\n",
       "1   0.851432  1.310527\n",
       "2   0.591844  1.212341\n",
       "3   0.430732  1.155138\n",
       "4  -0.619832  0.842864\n",
       "..       ...       ...\n",
       "95  0.245737  1.092776\n",
       "96 -0.317941  0.922764\n",
       "97 -0.931317  0.767670\n",
       "98 -0.646228  0.836216\n",
       "99  0.571617  1.205007\n",
       "\n",
       "[100 rows x 2 columns]"
      ]
     },
     "execution_count": 219,
     "metadata": {},
     "output_type": "execute_result"
    }
   ],
   "source": [
    "data"
   ]
  },
  {
   "cell_type": "code",
   "execution_count": 221,
   "id": "cbdc7ab6",
   "metadata": {},
   "outputs": [],
   "source": [
    "data['dP/dQ*'] = (np.exp(\n",
    "    (option.underlying.mu - option.underlying.r) * data['W'] / option.underlying.sigma +\n",
    "    (0.5 * ((option.underlying.mu - option.underlying.r) / option.underlying.sigma) ** 2 +\n",
    "     option.underlying.r) * option.T) * BS_Price / option.payoff_func(X * X0))\n",
    "data = data.sort_values('dP/dQ*', ascending = False)"
   ]
  },
  {
   "cell_type": "code",
   "execution_count": 222,
   "id": "1346b13b",
   "metadata": {},
   "outputs": [
    {
     "data": {
      "text/html": [
       "<div>\n",
       "<style scoped>\n",
       "    .dataframe tbody tr th:only-of-type {\n",
       "        vertical-align: middle;\n",
       "    }\n",
       "\n",
       "    .dataframe tbody tr th {\n",
       "        vertical-align: top;\n",
       "    }\n",
       "\n",
       "    .dataframe thead th {\n",
       "        text-align: right;\n",
       "    }\n",
       "</style>\n",
       "<table border=\"1\" class=\"dataframe\">\n",
       "  <thead>\n",
       "    <tr style=\"text-align: right;\">\n",
       "      <th></th>\n",
       "      <th>W</th>\n",
       "      <th>X</th>\n",
       "      <th>dP/dQ*</th>\n",
       "    </tr>\n",
       "  </thead>\n",
       "  <tbody>\n",
       "    <tr>\n",
       "      <th>50</th>\n",
       "      <td>-1.258994</td>\n",
       "      <td>0.695796</td>\n",
       "      <td>inf</td>\n",
       "    </tr>\n",
       "    <tr>\n",
       "      <th>11</th>\n",
       "      <td>-1.419253</td>\n",
       "      <td>0.663135</td>\n",
       "      <td>inf</td>\n",
       "    </tr>\n",
       "    <tr>\n",
       "      <th>35</th>\n",
       "      <td>-0.826302</td>\n",
       "      <td>0.792240</td>\n",
       "      <td>inf</td>\n",
       "    </tr>\n",
       "    <tr>\n",
       "      <th>45</th>\n",
       "      <td>-1.045324</td>\n",
       "      <td>0.741858</td>\n",
       "      <td>inf</td>\n",
       "    </tr>\n",
       "    <tr>\n",
       "      <th>49</th>\n",
       "      <td>-2.603733</td>\n",
       "      <td>0.464813</td>\n",
       "      <td>inf</td>\n",
       "    </tr>\n",
       "    <tr>\n",
       "      <th>...</th>\n",
       "      <td>...</td>\n",
       "      <td>...</td>\n",
       "      <td>...</td>\n",
       "    </tr>\n",
       "    <tr>\n",
       "      <th>93</th>\n",
       "      <td>2.239192</td>\n",
       "      <td>1.987262</td>\n",
       "      <td>0.252533</td>\n",
       "    </tr>\n",
       "    <tr>\n",
       "      <th>26</th>\n",
       "      <td>2.239586</td>\n",
       "      <td>1.987496</td>\n",
       "      <td>0.252486</td>\n",
       "    </tr>\n",
       "    <tr>\n",
       "      <th>8</th>\n",
       "      <td>2.392246</td>\n",
       "      <td>2.080637</td>\n",
       "      <td>0.235318</td>\n",
       "    </tr>\n",
       "    <tr>\n",
       "      <th>28</th>\n",
       "      <td>2.471775</td>\n",
       "      <td>2.130874</td>\n",
       "      <td>0.227036</td>\n",
       "    </tr>\n",
       "    <tr>\n",
       "      <th>25</th>\n",
       "      <td>3.142614</td>\n",
       "      <td>2.605916</td>\n",
       "      <td>0.171098</td>\n",
       "    </tr>\n",
       "  </tbody>\n",
       "</table>\n",
       "<p>100 rows × 3 columns</p>\n",
       "</div>"
      ],
      "text/plain": [
       "           W         X    dP/dQ*\n",
       "50 -1.258994  0.695796       inf\n",
       "11 -1.419253  0.663135       inf\n",
       "35 -0.826302  0.792240       inf\n",
       "45 -1.045324  0.741858       inf\n",
       "49 -2.603733  0.464813       inf\n",
       "..       ...       ...       ...\n",
       "93  2.239192  1.987262  0.252533\n",
       "26  2.239586  1.987496  0.252486\n",
       "8   2.392246  2.080637  0.235318\n",
       "28  2.471775  2.130874  0.227036\n",
       "25  3.142614  2.605916  0.171098\n",
       "\n",
       "[100 rows x 3 columns]"
      ]
     },
     "execution_count": 222,
     "metadata": {},
     "output_type": "execute_result"
    }
   ],
   "source": [
    "data"
   ]
  },
  {
   "cell_type": "code",
   "execution_count": 223,
   "id": "bafed281",
   "metadata": {},
   "outputs": [],
   "source": [
    "data['dQ*/dP'] = 1/data['dP/dQ*']"
   ]
  },
  {
   "cell_type": "code",
   "execution_count": 224,
   "id": "a95bb575",
   "metadata": {},
   "outputs": [
    {
     "data": {
      "text/html": [
       "<div>\n",
       "<style scoped>\n",
       "    .dataframe tbody tr th:only-of-type {\n",
       "        vertical-align: middle;\n",
       "    }\n",
       "\n",
       "    .dataframe tbody tr th {\n",
       "        vertical-align: top;\n",
       "    }\n",
       "\n",
       "    .dataframe thead th {\n",
       "        text-align: right;\n",
       "    }\n",
       "</style>\n",
       "<table border=\"1\" class=\"dataframe\">\n",
       "  <thead>\n",
       "    <tr style=\"text-align: right;\">\n",
       "      <th></th>\n",
       "      <th>W</th>\n",
       "      <th>X</th>\n",
       "      <th>dP/dQ*</th>\n",
       "      <th>dQ*/dP</th>\n",
       "    </tr>\n",
       "  </thead>\n",
       "  <tbody>\n",
       "    <tr>\n",
       "      <th>50</th>\n",
       "      <td>-1.258994</td>\n",
       "      <td>0.695796</td>\n",
       "      <td>inf</td>\n",
       "      <td>0.000000</td>\n",
       "    </tr>\n",
       "    <tr>\n",
       "      <th>11</th>\n",
       "      <td>-1.419253</td>\n",
       "      <td>0.663135</td>\n",
       "      <td>inf</td>\n",
       "      <td>0.000000</td>\n",
       "    </tr>\n",
       "    <tr>\n",
       "      <th>35</th>\n",
       "      <td>-0.826302</td>\n",
       "      <td>0.792240</td>\n",
       "      <td>inf</td>\n",
       "      <td>0.000000</td>\n",
       "    </tr>\n",
       "    <tr>\n",
       "      <th>45</th>\n",
       "      <td>-1.045324</td>\n",
       "      <td>0.741858</td>\n",
       "      <td>inf</td>\n",
       "      <td>0.000000</td>\n",
       "    </tr>\n",
       "    <tr>\n",
       "      <th>49</th>\n",
       "      <td>-2.603733</td>\n",
       "      <td>0.464813</td>\n",
       "      <td>inf</td>\n",
       "      <td>0.000000</td>\n",
       "    </tr>\n",
       "    <tr>\n",
       "      <th>...</th>\n",
       "      <td>...</td>\n",
       "      <td>...</td>\n",
       "      <td>...</td>\n",
       "      <td>...</td>\n",
       "    </tr>\n",
       "    <tr>\n",
       "      <th>93</th>\n",
       "      <td>2.239192</td>\n",
       "      <td>1.987262</td>\n",
       "      <td>0.252533</td>\n",
       "      <td>3.959878</td>\n",
       "    </tr>\n",
       "    <tr>\n",
       "      <th>26</th>\n",
       "      <td>2.239586</td>\n",
       "      <td>1.987496</td>\n",
       "      <td>0.252486</td>\n",
       "      <td>3.960608</td>\n",
       "    </tr>\n",
       "    <tr>\n",
       "      <th>8</th>\n",
       "      <td>2.392246</td>\n",
       "      <td>2.080637</td>\n",
       "      <td>0.235318</td>\n",
       "      <td>4.249575</td>\n",
       "    </tr>\n",
       "    <tr>\n",
       "      <th>28</th>\n",
       "      <td>2.471775</td>\n",
       "      <td>2.130874</td>\n",
       "      <td>0.227036</td>\n",
       "      <td>4.404588</td>\n",
       "    </tr>\n",
       "    <tr>\n",
       "      <th>25</th>\n",
       "      <td>3.142614</td>\n",
       "      <td>2.605916</td>\n",
       "      <td>0.171098</td>\n",
       "      <td>5.844594</td>\n",
       "    </tr>\n",
       "  </tbody>\n",
       "</table>\n",
       "<p>100 rows × 4 columns</p>\n",
       "</div>"
      ],
      "text/plain": [
       "           W         X    dP/dQ*    dQ*/dP\n",
       "50 -1.258994  0.695796       inf  0.000000\n",
       "11 -1.419253  0.663135       inf  0.000000\n",
       "35 -0.826302  0.792240       inf  0.000000\n",
       "45 -1.045324  0.741858       inf  0.000000\n",
       "49 -2.603733  0.464813       inf  0.000000\n",
       "..       ...       ...       ...       ...\n",
       "93  2.239192  1.987262  0.252533  3.959878\n",
       "26  2.239586  1.987496  0.252486  3.960608\n",
       "8   2.392246  2.080637  0.235318  4.249575\n",
       "28  2.471775  2.130874  0.227036  4.404588\n",
       "25  3.142614  2.605916  0.171098  5.844594\n",
       "\n",
       "[100 rows x 4 columns]"
      ]
     },
     "execution_count": 224,
     "metadata": {},
     "output_type": "execute_result"
    }
   ],
   "source": [
    "data"
   ]
  },
  {
   "cell_type": "code",
   "execution_count": 273,
   "id": "a6cb4bfa",
   "metadata": {},
   "outputs": [],
   "source": [
    "hedge_prob = 0.3"
   ]
  },
  {
   "cell_type": "code",
   "execution_count": 274,
   "id": "8032cf12",
   "metadata": {},
   "outputs": [],
   "source": [
    "boundary_index = ((data['dQ*/dP'].cumsum()/repeat) < hedge_prob).sum() - 1"
   ]
  },
  {
   "cell_type": "code",
   "execution_count": 275,
   "id": "bf22cf89",
   "metadata": {},
   "outputs": [
    {
     "data": {
      "text/plain": [
       "63"
      ]
     },
     "execution_count": 275,
     "metadata": {},
     "output_type": "execute_result"
    }
   ],
   "source": [
    "boundary_index"
   ]
  },
  {
   "cell_type": "code",
   "execution_count": 276,
   "id": "eb797c9d",
   "metadata": {},
   "outputs": [
    {
     "data": {
      "text/plain": [
       "0.2997785970886454"
      ]
     },
     "execution_count": 276,
     "metadata": {},
     "output_type": "execute_result"
    }
   ],
   "source": [
    "data['dQ*/dP'].iloc[:boundary_index + 1].sum()/repeat"
   ]
  },
  {
   "cell_type": "code",
   "execution_count": 277,
   "id": "243009bc",
   "metadata": {},
   "outputs": [],
   "source": [
    "phi = (hedge_prob - data['dQ*/dP'].iloc[:boundary_index + 1].sum()/repeat) / (data['dQ*/dP'].iloc[boundary_index + 1]/repeat)"
   ]
  },
  {
   "cell_type": "code",
   "execution_count": 278,
   "id": "c02ce618",
   "metadata": {},
   "outputs": [
    {
     "data": {
      "text/plain": [
       "0.017598309068554495"
      ]
     },
     "execution_count": 278,
     "metadata": {},
     "output_type": "execute_result"
    }
   ],
   "source": [
    "phi"
   ]
  },
  {
   "cell_type": "code",
   "execution_count": 279,
   "id": "5ec93677",
   "metadata": {},
   "outputs": [
    {
     "data": {
      "text/html": [
       "<div>\n",
       "<style scoped>\n",
       "    .dataframe tbody tr th:only-of-type {\n",
       "        vertical-align: middle;\n",
       "    }\n",
       "\n",
       "    .dataframe tbody tr th {\n",
       "        vertical-align: top;\n",
       "    }\n",
       "\n",
       "    .dataframe thead th {\n",
       "        text-align: right;\n",
       "    }\n",
       "</style>\n",
       "<table border=\"1\" class=\"dataframe\">\n",
       "  <thead>\n",
       "    <tr style=\"text-align: right;\">\n",
       "      <th></th>\n",
       "      <th>W</th>\n",
       "      <th>X</th>\n",
       "      <th>dP/dQ*</th>\n",
       "      <th>dQ*/dP</th>\n",
       "      <th>phi</th>\n",
       "    </tr>\n",
       "  </thead>\n",
       "  <tbody>\n",
       "    <tr>\n",
       "      <th>50</th>\n",
       "      <td>-1.258994</td>\n",
       "      <td>0.695796</td>\n",
       "      <td>inf</td>\n",
       "      <td>0.000000</td>\n",
       "      <td>0.000000</td>\n",
       "    </tr>\n",
       "    <tr>\n",
       "      <th>11</th>\n",
       "      <td>-1.419253</td>\n",
       "      <td>0.663135</td>\n",
       "      <td>inf</td>\n",
       "      <td>0.000000</td>\n",
       "      <td>0.000000</td>\n",
       "    </tr>\n",
       "    <tr>\n",
       "      <th>35</th>\n",
       "      <td>-0.826302</td>\n",
       "      <td>0.792240</td>\n",
       "      <td>inf</td>\n",
       "      <td>0.000000</td>\n",
       "      <td>0.000000</td>\n",
       "    </tr>\n",
       "    <tr>\n",
       "      <th>45</th>\n",
       "      <td>-1.045324</td>\n",
       "      <td>0.741858</td>\n",
       "      <td>inf</td>\n",
       "      <td>0.000000</td>\n",
       "      <td>0.000000</td>\n",
       "    </tr>\n",
       "    <tr>\n",
       "      <th>49</th>\n",
       "      <td>-2.603733</td>\n",
       "      <td>0.464813</td>\n",
       "      <td>inf</td>\n",
       "      <td>0.000000</td>\n",
       "      <td>0.000000</td>\n",
       "    </tr>\n",
       "    <tr>\n",
       "      <th>...</th>\n",
       "      <td>...</td>\n",
       "      <td>...</td>\n",
       "      <td>...</td>\n",
       "      <td>...</td>\n",
       "      <td>...</td>\n",
       "    </tr>\n",
       "    <tr>\n",
       "      <th>93</th>\n",
       "      <td>2.239192</td>\n",
       "      <td>1.987262</td>\n",
       "      <td>0.252533</td>\n",
       "      <td>3.959878</td>\n",
       "      <td>0.000697</td>\n",
       "    </tr>\n",
       "    <tr>\n",
       "      <th>26</th>\n",
       "      <td>2.239586</td>\n",
       "      <td>1.987496</td>\n",
       "      <td>0.252486</td>\n",
       "      <td>3.960608</td>\n",
       "      <td>0.000697</td>\n",
       "    </tr>\n",
       "    <tr>\n",
       "      <th>8</th>\n",
       "      <td>2.392246</td>\n",
       "      <td>2.080637</td>\n",
       "      <td>0.235318</td>\n",
       "      <td>4.249575</td>\n",
       "      <td>0.000748</td>\n",
       "    </tr>\n",
       "    <tr>\n",
       "      <th>28</th>\n",
       "      <td>2.471775</td>\n",
       "      <td>2.130874</td>\n",
       "      <td>0.227036</td>\n",
       "      <td>4.404588</td>\n",
       "      <td>0.000775</td>\n",
       "    </tr>\n",
       "    <tr>\n",
       "      <th>25</th>\n",
       "      <td>3.142614</td>\n",
       "      <td>2.605916</td>\n",
       "      <td>0.171098</td>\n",
       "      <td>5.844594</td>\n",
       "      <td>0.001029</td>\n",
       "    </tr>\n",
       "  </tbody>\n",
       "</table>\n",
       "<p>100 rows × 5 columns</p>\n",
       "</div>"
      ],
      "text/plain": [
       "           W         X    dP/dQ*    dQ*/dP       phi\n",
       "50 -1.258994  0.695796       inf  0.000000  0.000000\n",
       "11 -1.419253  0.663135       inf  0.000000  0.000000\n",
       "35 -0.826302  0.792240       inf  0.000000  0.000000\n",
       "45 -1.045324  0.741858       inf  0.000000  0.000000\n",
       "49 -2.603733  0.464813       inf  0.000000  0.000000\n",
       "..       ...       ...       ...       ...       ...\n",
       "93  2.239192  1.987262  0.252533  3.959878  0.000697\n",
       "26  2.239586  1.987496  0.252486  3.960608  0.000697\n",
       "8   2.392246  2.080637  0.235318  4.249575  0.000748\n",
       "28  2.471775  2.130874  0.227036  4.404588  0.000775\n",
       "25  3.142614  2.605916  0.171098  5.844594  0.001029\n",
       "\n",
       "[100 rows x 5 columns]"
      ]
     },
     "execution_count": 279,
     "metadata": {},
     "output_type": "execute_result"
    }
   ],
   "source": [
    "data"
   ]
  },
  {
   "cell_type": "code",
   "execution_count": 280,
   "id": "a2890c9d",
   "metadata": {},
   "outputs": [],
   "source": [
    "k = data['dP/dQ*'].iloc[boundary_index + 1]"
   ]
  },
  {
   "cell_type": "code",
   "execution_count": 281,
   "id": "37c627f2",
   "metadata": {},
   "outputs": [
    {
     "data": {
      "text/plain": [
       "0.7948544561083113"
      ]
     },
     "execution_count": 281,
     "metadata": {},
     "output_type": "execute_result"
    }
   ],
   "source": [
    "k"
   ]
  },
  {
   "cell_type": "code",
   "execution_count": 282,
   "id": "e4f064db",
   "metadata": {},
   "outputs": [],
   "source": [
    "data['phi'] = ((data['dP/dQ*'] > k)*1 + (data['dP/dQ*'] == k)*phi) * 1/repeat * data['dQ*/dP']"
   ]
  },
  {
   "cell_type": "code",
   "execution_count": 283,
   "id": "125d7f35",
   "metadata": {},
   "outputs": [
    {
     "data": {
      "text/plain": [
       "0.30000000000000004"
      ]
     },
     "execution_count": 283,
     "metadata": {},
     "output_type": "execute_result"
    }
   ],
   "source": [
    "data['phi'].sum()"
   ]
  },
  {
   "cell_type": "code",
   "execution_count": 284,
   "id": "87ba8967",
   "metadata": {},
   "outputs": [],
   "source": [
    "new_payoff = np.maximum(X0*data['X'] - K,0)* ((data['dP/dQ*'] > k)*1 + 0*(data['dP/dQ*'] == k)*phi)"
   ]
  },
  {
   "cell_type": "code",
   "execution_count": 285,
   "id": "e80ef8ff",
   "metadata": {},
   "outputs": [
    {
     "data": {
      "text/plain": [
       "<matplotlib.collections.PathCollection at 0x7f8162953cd0>"
      ]
     },
     "execution_count": 285,
     "metadata": {},
     "output_type": "execute_result"
    },
    {
     "data": {
      "image/png": "[encoded data removed]",
      "text/plain": [
       "<Figure size 640x480 with 1 Axes>"
      ]
     },
     "metadata": {},
     "output_type": "display_data"
    }
   ],
   "source": [
    "plt.scatter(range(good_sims.shape[0]),new_payoff)"
   ]
  },
  {
   "cell_type": "code",
   "execution_count": 286,
   "id": "e1f43dd1",
   "metadata": {},
   "outputs": [],
   "source": [
    "new_payoff = np.maximum(X0*data['X'] - K,0)* ((data['dP/dQ*'] > k)*1 + (data['dP/dQ*'] == k)*phi)"
   ]
  },
  {
   "cell_type": "code",
   "execution_count": 287,
   "id": "936c5845",
   "metadata": {},
   "outputs": [
    {
     "data": {
      "text/plain": [
       "<matplotlib.collections.PathCollection at 0x7f8162b54f70>"
      ]
     },
     "execution_count": 287,
     "metadata": {},
     "output_type": "execute_result"
    },
    {
     "data": {
      "image/png": "[encoded data removed]",
      "text/plain": [
       "<Figure size 640x480 with 1 Axes>"
      ]
     },
     "metadata": {},
     "output_type": "display_data"
    }
   ],
   "source": [
    "plt.scatter(range(good_sims.shape[0]),new_payoff)"
   ]
  },
  {
   "cell_type": "code",
   "execution_count": null,
   "id": "5414963e",
   "metadata": {},
   "outputs": [],
   "source": []
  }
 ],
 "metadata": {
  "kernelspec": {
   "display_name": "Python 3 (ipykernel)",
   "language": "python",
   "name": "python3"
  },
  "language_info": {
   "codemirror_mode": {
    "name": "ipython",
    "version": 3
   },
   "file_extension": ".py",
   "mimetype": "text/x-python",
   "name": "python",
   "nbconvert_exporter": "python",
   "pygments_lexer": "ipython3",
   "version": "3.9.13"
  }
 },
 "nbformat": 4,
 "nbformat_minor": 5
}
