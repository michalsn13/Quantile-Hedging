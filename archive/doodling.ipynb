{
 "cells": [
  {
   "cell_type": "code",
   "execution_count": 35,
   "id": "40658787",
   "metadata": {},
   "outputs": [],
   "source": [
    "from underlying import Underlying\n",
    "from option import Option\n",
    "from trader import Trader\n",
    "\n",
    "import matplotlib.pyplot as plt\n",
    "from tqdm import tqdm\n",
    "from quantile_hedging_calculator import *\n",
    "import numpy as np\n",
    "import pandas as pd"
   ]
  },
  {
   "cell_type": "code",
   "execution_count": 36,
   "id": "be2e5a0c",
   "metadata": {},
   "outputs": [],
   "source": [
    "def payoff_weird(X, K, p):\n",
    "    return (1-p)*X.iloc[:,-1] * (X.iloc[:,-1] > K)"
   ]
  },
  {
   "cell_type": "code",
   "execution_count": 37,
   "id": "59ebe310",
   "metadata": {},
   "outputs": [],
   "source": [
    "mu = 0.06\n",
    "sigma =  0.3\n",
    "r = 0.05\n",
    "T = 1\n",
    "X0 = 100\n",
    "repeat = 100"
   ]
  },
  {
   "cell_type": "markdown",
   "id": "167f3c0b",
   "metadata": {},
   "source": [
    "## Full hedging - Vanilla Call"
   ]
  },
  {
   "cell_type": "code",
   "execution_count": 66,
   "id": "9449fcdb",
   "metadata": {},
   "outputs": [],
   "source": [
    "K = 80"
   ]
  },
  {
   "cell_type": "code",
   "execution_count": 67,
   "id": "34cb4e4b",
   "metadata": {},
   "outputs": [],
   "source": [
    "underlying = Underlying(mu, sigma, r, 250)"
   ]
  },
  {
   "cell_type": "code",
   "execution_count": 68,
   "id": "6c5da668",
   "metadata": {},
   "outputs": [],
   "source": [
    "_, reality = underlying.simulate_P(repeat, T)"
   ]
  },
  {
   "cell_type": "code",
   "execution_count": 69,
   "id": "9f3b0682",
   "metadata": {},
   "outputs": [],
   "source": [
    "option = Option(underlying, lambda X: payoff_weird(X, K, 0.9), T)\n",
    "BS_Price = option.get_MC_price(X0, 0)"
   ]
  },
  {
   "cell_type": "code",
   "execution_count": 70,
   "id": "caac00f2",
   "metadata": {},
   "outputs": [
    {
     "data": {
      "text/plain": [
       "8.526481201885574"
      ]
     },
     "execution_count": 70,
     "metadata": {},
     "output_type": "execute_result"
    }
   ],
   "source": [
    "BS_Price"
   ]
  },
  {
   "cell_type": "code",
   "execution_count": 71,
   "id": "f43594b3",
   "metadata": {},
   "outputs": [],
   "source": [
    "W, X = underlying.simulate_P(repeat,option.T)"
   ]
  },
  {
   "cell_type": "code",
   "execution_count": 72,
   "id": "54a72352",
   "metadata": {},
   "outputs": [],
   "source": [
    "data = pd.concat([W.iloc[:,-1],X.iloc[:,-1]], axis = 1)\n",
    "data.columns = ['W','X']"
   ]
  },
  {
   "cell_type": "code",
   "execution_count": 73,
   "id": "4dcf616e",
   "metadata": {},
   "outputs": [
    {
     "data": {
      "text/html": [
       "<div>\n",
       "<style scoped>\n",
       "    .dataframe tbody tr th:only-of-type {\n",
       "        vertical-align: middle;\n",
       "    }\n",
       "\n",
       "    .dataframe tbody tr th {\n",
       "        vertical-align: top;\n",
       "    }\n",
       "\n",
       "    .dataframe thead th {\n",
       "        text-align: right;\n",
       "    }\n",
       "</style>\n",
       "<table border=\"1\" class=\"dataframe\">\n",
       "  <thead>\n",
       "    <tr style=\"text-align: right;\">\n",
       "      <th></th>\n",
       "      <th>W</th>\n",
       "      <th>X</th>\n",
       "    </tr>\n",
       "  </thead>\n",
       "  <tbody>\n",
       "    <tr>\n",
       "      <th>0</th>\n",
       "      <td>0.267589</td>\n",
       "      <td>1.099963</td>\n",
       "    </tr>\n",
       "    <tr>\n",
       "      <th>1</th>\n",
       "      <td>-0.415994</td>\n",
       "      <td>0.896015</td>\n",
       "    </tr>\n",
       "    <tr>\n",
       "      <th>2</th>\n",
       "      <td>2.160144</td>\n",
       "      <td>1.940689</td>\n",
       "    </tr>\n",
       "    <tr>\n",
       "      <th>3</th>\n",
       "      <td>-1.029154</td>\n",
       "      <td>0.745466</td>\n",
       "    </tr>\n",
       "    <tr>\n",
       "      <th>4</th>\n",
       "      <td>-0.602157</td>\n",
       "      <td>0.847345</td>\n",
       "    </tr>\n",
       "    <tr>\n",
       "      <th>...</th>\n",
       "      <td>...</td>\n",
       "      <td>...</td>\n",
       "    </tr>\n",
       "    <tr>\n",
       "      <th>95</th>\n",
       "      <td>-1.010459</td>\n",
       "      <td>0.749658</td>\n",
       "    </tr>\n",
       "    <tr>\n",
       "      <th>96</th>\n",
       "      <td>0.714884</td>\n",
       "      <td>1.257927</td>\n",
       "    </tr>\n",
       "    <tr>\n",
       "      <th>97</th>\n",
       "      <td>-0.209822</td>\n",
       "      <td>0.953185</td>\n",
       "    </tr>\n",
       "    <tr>\n",
       "      <th>98</th>\n",
       "      <td>1.211248</td>\n",
       "      <td>1.459910</td>\n",
       "    </tr>\n",
       "    <tr>\n",
       "      <th>99</th>\n",
       "      <td>-1.118155</td>\n",
       "      <td>0.725825</td>\n",
       "    </tr>\n",
       "  </tbody>\n",
       "</table>\n",
       "<p>100 rows × 2 columns</p>\n",
       "</div>"
      ],
      "text/plain": [
       "           W         X\n",
       "0   0.267589  1.099963\n",
       "1  -0.415994  0.896015\n",
       "2   2.160144  1.940689\n",
       "3  -1.029154  0.745466\n",
       "4  -0.602157  0.847345\n",
       "..       ...       ...\n",
       "95 -1.010459  0.749658\n",
       "96  0.714884  1.257927\n",
       "97 -0.209822  0.953185\n",
       "98  1.211248  1.459910\n",
       "99 -1.118155  0.725825\n",
       "\n",
       "[100 rows x 2 columns]"
      ]
     },
     "execution_count": 73,
     "metadata": {},
     "output_type": "execute_result"
    }
   ],
   "source": [
    "data"
   ]
  },
  {
   "cell_type": "code",
   "execution_count": 74,
   "id": "cbdc7ab6",
   "metadata": {},
   "outputs": [],
   "source": [
    "data['dP/dQ*'] = (np.exp(\n",
    "    (option.underlying.mu - option.underlying.r) * data['W'] / option.underlying.sigma +\n",
    "    (0.5 * ((option.underlying.mu - option.underlying.r) / option.underlying.sigma) ** 2 +\n",
    "     option.underlying.r) * option.T) * BS_Price / option.payoff_func(X * X0))\n",
    "data = data.sort_values('dP/dQ*', ascending = False)"
   ]
  },
  {
   "cell_type": "code",
   "execution_count": 75,
   "id": "1346b13b",
   "metadata": {},
   "outputs": [
    {
     "data": {
      "text/html": [
       "<div>\n",
       "<style scoped>\n",
       "    .dataframe tbody tr th:only-of-type {\n",
       "        vertical-align: middle;\n",
       "    }\n",
       "\n",
       "    .dataframe tbody tr th {\n",
       "        vertical-align: top;\n",
       "    }\n",
       "\n",
       "    .dataframe thead th {\n",
       "        text-align: right;\n",
       "    }\n",
       "</style>\n",
       "<table border=\"1\" class=\"dataframe\">\n",
       "  <thead>\n",
       "    <tr style=\"text-align: right;\">\n",
       "      <th></th>\n",
       "      <th>W</th>\n",
       "      <th>X</th>\n",
       "      <th>dP/dQ*</th>\n",
       "    </tr>\n",
       "  </thead>\n",
       "  <tbody>\n",
       "    <tr>\n",
       "      <th>99</th>\n",
       "      <td>-1.118155</td>\n",
       "      <td>0.725825</td>\n",
       "      <td>inf</td>\n",
       "    </tr>\n",
       "    <tr>\n",
       "      <th>15</th>\n",
       "      <td>-1.695406</td>\n",
       "      <td>0.610412</td>\n",
       "      <td>inf</td>\n",
       "    </tr>\n",
       "    <tr>\n",
       "      <th>41</th>\n",
       "      <td>-1.536765</td>\n",
       "      <td>0.640165</td>\n",
       "      <td>inf</td>\n",
       "    </tr>\n",
       "    <tr>\n",
       "      <th>39</th>\n",
       "      <td>-0.937609</td>\n",
       "      <td>0.766222</td>\n",
       "      <td>inf</td>\n",
       "    </tr>\n",
       "    <tr>\n",
       "      <th>56</th>\n",
       "      <td>-1.118495</td>\n",
       "      <td>0.725751</td>\n",
       "      <td>inf</td>\n",
       "    </tr>\n",
       "    <tr>\n",
       "      <th>...</th>\n",
       "      <td>...</td>\n",
       "      <td>...</td>\n",
       "      <td>...</td>\n",
       "    </tr>\n",
       "    <tr>\n",
       "      <th>24</th>\n",
       "      <td>1.713104</td>\n",
       "      <td>1.697118</td>\n",
       "      <td>0.559517</td>\n",
       "    </tr>\n",
       "    <tr>\n",
       "      <th>70</th>\n",
       "      <td>1.826577</td>\n",
       "      <td>1.755885</td>\n",
       "      <td>0.542840</td>\n",
       "    </tr>\n",
       "    <tr>\n",
       "      <th>62</th>\n",
       "      <td>1.920179</td>\n",
       "      <td>1.805890</td>\n",
       "      <td>0.529459</td>\n",
       "    </tr>\n",
       "    <tr>\n",
       "      <th>2</th>\n",
       "      <td>2.160144</td>\n",
       "      <td>1.940689</td>\n",
       "      <td>0.496639</td>\n",
       "    </tr>\n",
       "    <tr>\n",
       "      <th>23</th>\n",
       "      <td>2.769569</td>\n",
       "      <td>2.330006</td>\n",
       "      <td>0.422146</td>\n",
       "    </tr>\n",
       "  </tbody>\n",
       "</table>\n",
       "<p>100 rows × 3 columns</p>\n",
       "</div>"
      ],
      "text/plain": [
       "           W         X    dP/dQ*\n",
       "99 -1.118155  0.725825       inf\n",
       "15 -1.695406  0.610412       inf\n",
       "41 -1.536765  0.640165       inf\n",
       "39 -0.937609  0.766222       inf\n",
       "56 -1.118495  0.725751       inf\n",
       "..       ...       ...       ...\n",
       "24  1.713104  1.697118  0.559517\n",
       "70  1.826577  1.755885  0.542840\n",
       "62  1.920179  1.805890  0.529459\n",
       "2   2.160144  1.940689  0.496639\n",
       "23  2.769569  2.330006  0.422146\n",
       "\n",
       "[100 rows x 3 columns]"
      ]
     },
     "execution_count": 75,
     "metadata": {},
     "output_type": "execute_result"
    }
   ],
   "source": [
    "data"
   ]
  },
  {
   "cell_type": "code",
   "execution_count": 76,
   "id": "bafed281",
   "metadata": {},
   "outputs": [],
   "source": [
    "data['dQ*/dP'] = 1/data['dP/dQ*']"
   ]
  },
  {
   "cell_type": "code",
   "execution_count": 77,
   "id": "a95bb575",
   "metadata": {},
   "outputs": [
    {
     "data": {
      "text/html": [
       "<div>\n",
       "<style scoped>\n",
       "    .dataframe tbody tr th:only-of-type {\n",
       "        vertical-align: middle;\n",
       "    }\n",
       "\n",
       "    .dataframe tbody tr th {\n",
       "        vertical-align: top;\n",
       "    }\n",
       "\n",
       "    .dataframe thead th {\n",
       "        text-align: right;\n",
       "    }\n",
       "</style>\n",
       "<table border=\"1\" class=\"dataframe\">\n",
       "  <thead>\n",
       "    <tr style=\"text-align: right;\">\n",
       "      <th></th>\n",
       "      <th>W</th>\n",
       "      <th>X</th>\n",
       "      <th>dP/dQ*</th>\n",
       "      <th>dQ*/dP</th>\n",
       "    </tr>\n",
       "  </thead>\n",
       "  <tbody>\n",
       "    <tr>\n",
       "      <th>99</th>\n",
       "      <td>-1.118155</td>\n",
       "      <td>0.725825</td>\n",
       "      <td>inf</td>\n",
       "      <td>0.000000</td>\n",
       "    </tr>\n",
       "    <tr>\n",
       "      <th>15</th>\n",
       "      <td>-1.695406</td>\n",
       "      <td>0.610412</td>\n",
       "      <td>inf</td>\n",
       "      <td>0.000000</td>\n",
       "    </tr>\n",
       "    <tr>\n",
       "      <th>41</th>\n",
       "      <td>-1.536765</td>\n",
       "      <td>0.640165</td>\n",
       "      <td>inf</td>\n",
       "      <td>0.000000</td>\n",
       "    </tr>\n",
       "    <tr>\n",
       "      <th>39</th>\n",
       "      <td>-0.937609</td>\n",
       "      <td>0.766222</td>\n",
       "      <td>inf</td>\n",
       "      <td>0.000000</td>\n",
       "    </tr>\n",
       "    <tr>\n",
       "      <th>56</th>\n",
       "      <td>-1.118495</td>\n",
       "      <td>0.725751</td>\n",
       "      <td>inf</td>\n",
       "      <td>0.000000</td>\n",
       "    </tr>\n",
       "    <tr>\n",
       "      <th>...</th>\n",
       "      <td>...</td>\n",
       "      <td>...</td>\n",
       "      <td>...</td>\n",
       "      <td>...</td>\n",
       "    </tr>\n",
       "    <tr>\n",
       "      <th>24</th>\n",
       "      <td>1.713104</td>\n",
       "      <td>1.697118</td>\n",
       "      <td>0.559517</td>\n",
       "      <td>1.787254</td>\n",
       "    </tr>\n",
       "    <tr>\n",
       "      <th>70</th>\n",
       "      <td>1.826577</td>\n",
       "      <td>1.755885</td>\n",
       "      <td>0.542840</td>\n",
       "      <td>1.842162</td>\n",
       "    </tr>\n",
       "    <tr>\n",
       "      <th>62</th>\n",
       "      <td>1.920179</td>\n",
       "      <td>1.805890</td>\n",
       "      <td>0.529459</td>\n",
       "      <td>1.888722</td>\n",
       "    </tr>\n",
       "    <tr>\n",
       "      <th>2</th>\n",
       "      <td>2.160144</td>\n",
       "      <td>1.940689</td>\n",
       "      <td>0.496639</td>\n",
       "      <td>2.013534</td>\n",
       "    </tr>\n",
       "    <tr>\n",
       "      <th>23</th>\n",
       "      <td>2.769569</td>\n",
       "      <td>2.330006</td>\n",
       "      <td>0.422146</td>\n",
       "      <td>2.368850</td>\n",
       "    </tr>\n",
       "  </tbody>\n",
       "</table>\n",
       "<p>100 rows × 4 columns</p>\n",
       "</div>"
      ],
      "text/plain": [
       "           W         X    dP/dQ*    dQ*/dP\n",
       "99 -1.118155  0.725825       inf  0.000000\n",
       "15 -1.695406  0.610412       inf  0.000000\n",
       "41 -1.536765  0.640165       inf  0.000000\n",
       "39 -0.937609  0.766222       inf  0.000000\n",
       "56 -1.118495  0.725751       inf  0.000000\n",
       "..       ...       ...       ...       ...\n",
       "24  1.713104  1.697118  0.559517  1.787254\n",
       "70  1.826577  1.755885  0.542840  1.842162\n",
       "62  1.920179  1.805890  0.529459  1.888722\n",
       "2   2.160144  1.940689  0.496639  2.013534\n",
       "23  2.769569  2.330006  0.422146  2.368850\n",
       "\n",
       "[100 rows x 4 columns]"
      ]
     },
     "execution_count": 77,
     "metadata": {},
     "output_type": "execute_result"
    }
   ],
   "source": [
    "data"
   ]
  },
  {
   "cell_type": "code",
   "execution_count": 78,
   "id": "a6cb4bfa",
   "metadata": {},
   "outputs": [],
   "source": [
    "hedge_prob = 0.7"
   ]
  },
  {
   "cell_type": "code",
   "execution_count": 79,
   "id": "8032cf12",
   "metadata": {},
   "outputs": [],
   "source": [
    "boundary_index = ((data['dQ*/dP'].cumsum()/repeat) < hedge_prob).sum() - 1"
   ]
  },
  {
   "cell_type": "code",
   "execution_count": 80,
   "id": "bf22cf89",
   "metadata": {},
   "outputs": [
    {
     "data": {
      "text/plain": [
       "81"
      ]
     },
     "execution_count": 80,
     "metadata": {},
     "output_type": "execute_result"
    }
   ],
   "source": [
    "boundary_index"
   ]
  },
  {
   "cell_type": "code",
   "execution_count": 81,
   "id": "eb797c9d",
   "metadata": {},
   "outputs": [
    {
     "data": {
      "text/plain": [
       "0.6935017771793247"
      ]
     },
     "execution_count": 81,
     "metadata": {},
     "output_type": "execute_result"
    }
   ],
   "source": [
    "data['dQ*/dP'].iloc[:boundary_index + 1].sum()/repeat"
   ]
  },
  {
   "cell_type": "code",
   "execution_count": 82,
   "id": "243009bc",
   "metadata": {},
   "outputs": [],
   "source": [
    "phi = (hedge_prob - data['dQ*/dP'].iloc[:boundary_index + 1].sum()/repeat) / (data['dQ*/dP'].iloc[boundary_index + 1]/repeat)"
   ]
  },
  {
   "cell_type": "code",
   "execution_count": 83,
   "id": "c02ce618",
   "metadata": {},
   "outputs": [
    {
     "data": {
      "text/plain": [
       "0.46553902660363217"
      ]
     },
     "execution_count": 83,
     "metadata": {},
     "output_type": "execute_result"
    }
   ],
   "source": [
    "phi"
   ]
  },
  {
   "cell_type": "code",
   "execution_count": 84,
   "id": "5ec93677",
   "metadata": {},
   "outputs": [
    {
     "data": {
      "text/html": [
       "<div>\n",
       "<style scoped>\n",
       "    .dataframe tbody tr th:only-of-type {\n",
       "        vertical-align: middle;\n",
       "    }\n",
       "\n",
       "    .dataframe tbody tr th {\n",
       "        vertical-align: top;\n",
       "    }\n",
       "\n",
       "    .dataframe thead th {\n",
       "        text-align: right;\n",
       "    }\n",
       "</style>\n",
       "<table border=\"1\" class=\"dataframe\">\n",
       "  <thead>\n",
       "    <tr style=\"text-align: right;\">\n",
       "      <th></th>\n",
       "      <th>W</th>\n",
       "      <th>X</th>\n",
       "      <th>dP/dQ*</th>\n",
       "      <th>dQ*/dP</th>\n",
       "    </tr>\n",
       "  </thead>\n",
       "  <tbody>\n",
       "    <tr>\n",
       "      <th>99</th>\n",
       "      <td>-1.118155</td>\n",
       "      <td>0.725825</td>\n",
       "      <td>inf</td>\n",
       "      <td>0.000000</td>\n",
       "    </tr>\n",
       "    <tr>\n",
       "      <th>15</th>\n",
       "      <td>-1.695406</td>\n",
       "      <td>0.610412</td>\n",
       "      <td>inf</td>\n",
       "      <td>0.000000</td>\n",
       "    </tr>\n",
       "    <tr>\n",
       "      <th>41</th>\n",
       "      <td>-1.536765</td>\n",
       "      <td>0.640165</td>\n",
       "      <td>inf</td>\n",
       "      <td>0.000000</td>\n",
       "    </tr>\n",
       "    <tr>\n",
       "      <th>39</th>\n",
       "      <td>-0.937609</td>\n",
       "      <td>0.766222</td>\n",
       "      <td>inf</td>\n",
       "      <td>0.000000</td>\n",
       "    </tr>\n",
       "    <tr>\n",
       "      <th>56</th>\n",
       "      <td>-1.118495</td>\n",
       "      <td>0.725751</td>\n",
       "      <td>inf</td>\n",
       "      <td>0.000000</td>\n",
       "    </tr>\n",
       "    <tr>\n",
       "      <th>...</th>\n",
       "      <td>...</td>\n",
       "      <td>...</td>\n",
       "      <td>...</td>\n",
       "      <td>...</td>\n",
       "    </tr>\n",
       "    <tr>\n",
       "      <th>24</th>\n",
       "      <td>1.713104</td>\n",
       "      <td>1.697118</td>\n",
       "      <td>0.559517</td>\n",
       "      <td>1.787254</td>\n",
       "    </tr>\n",
       "    <tr>\n",
       "      <th>70</th>\n",
       "      <td>1.826577</td>\n",
       "      <td>1.755885</td>\n",
       "      <td>0.542840</td>\n",
       "      <td>1.842162</td>\n",
       "    </tr>\n",
       "    <tr>\n",
       "      <th>62</th>\n",
       "      <td>1.920179</td>\n",
       "      <td>1.805890</td>\n",
       "      <td>0.529459</td>\n",
       "      <td>1.888722</td>\n",
       "    </tr>\n",
       "    <tr>\n",
       "      <th>2</th>\n",
       "      <td>2.160144</td>\n",
       "      <td>1.940689</td>\n",
       "      <td>0.496639</td>\n",
       "      <td>2.013534</td>\n",
       "    </tr>\n",
       "    <tr>\n",
       "      <th>23</th>\n",
       "      <td>2.769569</td>\n",
       "      <td>2.330006</td>\n",
       "      <td>0.422146</td>\n",
       "      <td>2.368850</td>\n",
       "    </tr>\n",
       "  </tbody>\n",
       "</table>\n",
       "<p>100 rows × 4 columns</p>\n",
       "</div>"
      ],
      "text/plain": [
       "           W         X    dP/dQ*    dQ*/dP\n",
       "99 -1.118155  0.725825       inf  0.000000\n",
       "15 -1.695406  0.610412       inf  0.000000\n",
       "41 -1.536765  0.640165       inf  0.000000\n",
       "39 -0.937609  0.766222       inf  0.000000\n",
       "56 -1.118495  0.725751       inf  0.000000\n",
       "..       ...       ...       ...       ...\n",
       "24  1.713104  1.697118  0.559517  1.787254\n",
       "70  1.826577  1.755885  0.542840  1.842162\n",
       "62  1.920179  1.805890  0.529459  1.888722\n",
       "2   2.160144  1.940689  0.496639  2.013534\n",
       "23  2.769569  2.330006  0.422146  2.368850\n",
       "\n",
       "[100 rows x 4 columns]"
      ]
     },
     "execution_count": 84,
     "metadata": {},
     "output_type": "execute_result"
    }
   ],
   "source": [
    "data"
   ]
  },
  {
   "cell_type": "code",
   "execution_count": 85,
   "id": "a2890c9d",
   "metadata": {},
   "outputs": [],
   "source": [
    "k = data['dP/dQ*'].iloc[boundary_index + 1]"
   ]
  },
  {
   "cell_type": "code",
   "execution_count": 86,
   "id": "37c627f2",
   "metadata": {},
   "outputs": [
    {
     "data": {
      "text/plain": [
       "0.7164097622544386"
      ]
     },
     "execution_count": 86,
     "metadata": {},
     "output_type": "execute_result"
    }
   ],
   "source": [
    "k"
   ]
  },
  {
   "cell_type": "code",
   "execution_count": 87,
   "id": "e4f064db",
   "metadata": {},
   "outputs": [],
   "source": [
    "data['phi'] = ((data['dP/dQ*'] > k)*1 + (data['dP/dQ*'] == k)*phi) * 1/repeat * data['dQ*/dP']"
   ]
  },
  {
   "cell_type": "code",
   "execution_count": 88,
   "id": "125d7f35",
   "metadata": {},
   "outputs": [
    {
     "data": {
      "text/plain": [
       "0.7"
      ]
     },
     "execution_count": 88,
     "metadata": {},
     "output_type": "execute_result"
    }
   ],
   "source": [
    "data['phi'].sum()"
   ]
  },
  {
   "cell_type": "code",
   "execution_count": 89,
   "id": "87ba8967",
   "metadata": {},
   "outputs": [],
   "source": [
    "new_payoff = np.maximum(X0*data['X'] - K,0)* ((data['dP/dQ*'] > k)*1 + 0*(data['dP/dQ*'] == k)*phi)"
   ]
  },
  {
   "cell_type": "code",
   "execution_count": 90,
   "id": "e80ef8ff",
   "metadata": {},
   "outputs": [
    {
     "data": {
      "text/plain": [
       "<matplotlib.collections.PathCollection at 0x7f8db2d096a0>"
      ]
     },
     "execution_count": 90,
     "metadata": {},
     "output_type": "execute_result"
    },
    {
     "data": {
      "image/png": "[encoded data removed]",
      "text/plain": [
       "<Figure size 640x480 with 1 Axes>"
      ]
     },
     "metadata": {},
     "output_type": "display_data"
    }
   ],
   "source": [
    "plt.scatter(range(reality.shape[0]),new_payoff)"
   ]
  },
  {
   "cell_type": "code",
   "execution_count": 91,
   "id": "e1f43dd1",
   "metadata": {},
   "outputs": [],
   "source": [
    "new_payoff = np.maximum(X0*data['X'] - K,0)* ((data['dP/dQ*'] > k)*1 + (data['dP/dQ*'] == k)*phi)"
   ]
  },
  {
   "cell_type": "code",
   "execution_count": 92,
   "id": "936c5845",
   "metadata": {},
   "outputs": [
    {
     "data": {
      "text/plain": [
       "<matplotlib.collections.PathCollection at 0x7f8db3591820>"
      ]
     },
     "execution_count": 92,
     "metadata": {},
     "output_type": "execute_result"
    },
    {
     "data": {
      "image/png": "[encoded data removed]",
      "text/plain": [
       "<Figure size 640x480 with 1 Axes>"
      ]
     },
     "metadata": {},
     "output_type": "display_data"
    }
   ],
   "source": [
    "plt.scatter(range(reality.shape[0]),new_payoff)"
   ]
  },
  {
   "cell_type": "code",
   "execution_count": null,
   "id": "5414963e",
   "metadata": {},
   "outputs": [],
   "source": []
  }
 ],
 "metadata": {
  "kernelspec": {
   "display_name": "Python 3 (ipykernel)",
   "language": "python",
   "name": "python3"
  },
  "language_info": {
   "codemirror_mode": {
    "name": "ipython",
    "version": 3
   },
   "file_extension": ".py",
   "mimetype": "text/x-python",
   "name": "python",
   "nbconvert_exporter": "python",
   "pygments_lexer": "ipython3",
   "version": "3.9.13"
  }
 },
 "nbformat": 4,
 "nbformat_minor": 5
}
