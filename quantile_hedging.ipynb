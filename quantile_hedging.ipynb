{
 "cells": [
  {
   "cell_type": "code",
   "execution_count": null,
   "id": "40658787",
   "metadata": {},
   "outputs": [],
   "source": [
    "from underlying import Underlying\n",
    "from option import Option\n",
    "from trader import Trader\n",
    "\n",
    "import matplotlib.pyplot as plt\n",
    "from tqdm import tqdm\n",
    "\n",
    "import numpy as np"
   ]
  },
  {
   "cell_type": "code",
   "execution_count": null,
   "id": "be2e5a0c",
   "metadata": {},
   "outputs": [],
   "source": [
    "def payoff_call(X, K):\n",
    "    if len(X.shape) == 1:\n",
    "        X.shape += (1,)\n",
    "    return np.maximum(X[:,-1]- K, 0)\n",
    "def payoff_put(X, K):\n",
    "    if len(X.shape) == 1:\n",
    "        X.shape += (1,)\n",
    "    return np.maximum(K - X[:,-1], 0)"
   ]
  },
  {
   "cell_type": "code",
   "execution_count": null,
   "id": "d385d33a",
   "metadata": {},
   "outputs": [],
   "source": [
    "mu = 0.05\n",
    "sigma = 0.2\n",
    "r = 0.1\n",
    "T = 1\n",
    "K = 100\n",
    "X0 = 100"
   ]
  },
  {
   "cell_type": "code",
   "execution_count": null,
   "id": "34cb4e4b",
   "metadata": {},
   "outputs": [],
   "source": [
    "underlying = Underlying(mu, sigma, r)"
   ]
  },
  {
   "cell_type": "code",
   "execution_count": null,
   "id": "19fb1a98",
   "metadata": {},
   "outputs": [],
   "source": [
    "_, reality = underlying.simulate_P(X0, T)"
   ]
  },
  {
   "cell_type": "code",
   "execution_count": null,
   "id": "85950493",
   "metadata": {},
   "outputs": [],
   "source": [
    "vanilla_call = Option(underlying, lambda X: payoff_call(X, K), T)"
   ]
  },
  {
   "cell_type": "code",
   "execution_count": null,
   "id": "86e26c76",
   "metadata": {},
   "outputs": [],
   "source": [
    "BC_price = vanilla_call.get_MC_price(X0, 0, method = 'var_control')\n",
    "BC_price"
   ]
  },
  {
   "cell_type": "code",
   "execution_count": null,
   "id": "dbaf56fc",
   "metadata": {
    "scrolled": false
   },
   "outputs": [],
   "source": [
    "final_money = []\n",
    "for row in tqdm(reality):\n",
    "    trader = Trader(money = BC_price)\n",
    "    money_historical, _ = trader.full_hedge(vanilla_call, X0*row)\n",
    "    final_money.append(money_historical[-1])"
   ]
  },
  {
   "cell_type": "code",
   "execution_count": null,
   "id": "2d26bb82",
   "metadata": {},
   "outputs": [],
   "source": [
    "plt.hist(final_money)"
   ]
  },
  {
   "cell_type": "code",
   "execution_count": null,
   "id": "ac8a696d",
   "metadata": {},
   "outputs": [],
   "source": [
    "vanilla_put = Option(underlying, lambda X: payoff_put(X, K =), T)"
   ]
  },
  {
   "cell_type": "code",
   "execution_count": null,
   "id": "8c24e907",
   "metadata": {},
   "outputs": [],
   "source": [
    "BC_price = vanilla_put.get_MC_price(X0, 0, method = 'var_control')\n",
    "BC_price"
   ]
  },
  {
   "cell_type": "code",
   "execution_count": null,
   "id": "0cca511b",
   "metadata": {},
   "outputs": [],
   "source": [
    "final_money = []\n",
    "for row in tqdm(reality):\n",
    "    trader = Trader(money = BC_price)\n",
    "    money_historical, _ = trader.full_hedge(vanilla_put, X0*row)\n",
    "    final_money.append(money_historical[-1])"
   ]
  },
  {
   "cell_type": "code",
   "execution_count": null,
   "id": "b8bfa4ee",
   "metadata": {
    "scrolled": true
   },
   "outputs": [],
   "source": [
    "plt.hist(final_money)"
   ]
  },
  {
   "cell_type": "code",
   "execution_count": null,
   "id": "5b729293",
   "metadata": {},
   "outputs": [],
   "source": [
    "plt.plot(money_historical)"
   ]
  },
  {
   "cell_type": "code",
   "execution_count": null,
   "id": "8824b723",
   "metadata": {},
   "outputs": [],
   "source": [
    "plt.plot(_)"
   ]
  },
  {
   "cell_type": "code",
   "execution_count": null,
   "id": "c4e9ea62",
   "metadata": {},
   "outputs": [],
   "source": [
    "plt.plot(X0*reality[-1,:].flatten())"
   ]
  },
  {
   "cell_type": "code",
   "execution_count": null,
   "id": "a0f88b68",
   "metadata": {},
   "outputs": [],
   "source": []
  }
 ],
 "metadata": {
  "kernelspec": {
   "display_name": "Python 3 (ipykernel)",
   "language": "python",
   "name": "python3"
  },
  "language_info": {
   "codemirror_mode": {
    "name": "ipython",
    "version": 3
   },
   "file_extension": ".py",
   "mimetype": "text/x-python",
   "name": "python",
   "nbconvert_exporter": "python",
   "pygments_lexer": "ipython3",
   "version": "3.9.13"
  }
 },
 "nbformat": 4,
 "nbformat_minor": 5
}
