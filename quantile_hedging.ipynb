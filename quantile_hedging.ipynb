{
 "cells": [
  {
   "cell_type": "code",
   "execution_count": 1,
   "id": "40658787",
   "metadata": {},
   "outputs": [],
   "source": [
    "import numpy as np\n",
    "import pandas as pd\n",
    "\n",
    "import matplotlib.pyplot as plt"
   ]
  },
  {
   "cell_type": "markdown",
   "id": "a2afce40",
   "metadata": {},
   "source": [
    "## Wyznaczenie ceny za pomocą Monte Carlo"
   ]
  },
  {
   "cell_type": "markdown",
   "id": "919bcb69",
   "metadata": {},
   "source": [
    "## Szacowanie pochodnej w punkcie"
   ]
  },
  {
   "cell_type": "code",
   "execution_count": 2,
   "id": "a49d46eb",
   "metadata": {},
   "outputs": [],
   "source": [
    "class Underlying:\n",
    "    def __init__(self, mu, sigma, r):\n",
    "        self.mu = mu\n",
    "        self.sigma = sigma\n",
    "        self.r = r\n",
    "    def simulate_P(self, size, T, time_stamps = 100):\n",
    "        time = np.arange(0,time_stamps)/(time_stamps-1) * T\n",
    "        B = np.random.normal(size=(size, time_stamps), loc=0, scale=1)\n",
    "        W = time * B\n",
    "        sims = np.exp((self.mu - 0.5*self.sigma**2)*time + self.sigma*W)\n",
    "        return (B,sims)\n",
    "    def simulate_Q(self, size, T, time_stamps = 100):\n",
    "        time = np.arange(0,time_stamps)/(time_stamps-1) * T\n",
    "        B = np.random.normal(size=(size, time_stamps), loc=0, scale=1)\n",
    "        W = time * B\n",
    "        sims = np.exp((self.r - 0.5*self.sigma**2)*time + self.sigma*W)\n",
    "        return (B, sims)"
   ]
  },
  {
   "cell_type": "code",
   "execution_count": 12,
   "id": "2e034660",
   "metadata": {},
   "outputs": [],
   "source": [
    "class Option:\n",
    "    def __init__(self, underlying, payoff_func, T):\n",
    "        self.underlying = underlying\n",
    "        self.payoff_func = payoff_func\n",
    "        self.T = T\n",
    "    def MC_price(self, X0, r, n_sims, method='crude'):\n",
    "        discount = np.exp(-r*self.T)\n",
    "        B, sims = self.underlying.simulate_Q(n_sims, self.T)\n",
    "        payoffs = self.payoff_func(X0*sims)\n",
    "        payoffs_mean = payoffs.mean()\n",
    "        if method == 'crude':\n",
    "            price = payoffs_mean\n",
    "        elif method == 'var_control':\n",
    "            MC_B = B[:,-1].mean()\n",
    "            rho = np.sum((payoffs-payoffs_mean)*(B[:,-1]-MC_B))/(payoffs.shape[0]-1)\n",
    "            price = payoffs_mean - rho/1 * (MC_B - 0)\n",
    "        else:\n",
    "            raise Exception(f'Method {method} not implemented...')\n",
    "        return discount * price\n",
    "    def MC_delta(self, dX, r, n_sims, method='crude'):\n",
    "        price_minus = self.MC_price(X0-dX, r, n_sims, method)\n",
    "        price_plus = self.MC_price(X0+dX, r, n_sims, method)\n",
    "        delta = (price_plus - price_minus)/(2*dX)\n",
    "        return delta"
   ]
  },
  {
   "cell_type": "code",
   "execution_count": 13,
   "id": "9748f4b3",
   "metadata": {},
   "outputs": [],
   "source": [
    "def payoff_call(X, K):\n",
    "    return np.maximum(X[:,-1]- K, 0)\n",
    "def payoff_put(X, K):\n",
    "    return np.maximum(K - X[:,-1], 0)"
   ]
  },
  {
   "cell_type": "code",
   "execution_count": 21,
   "id": "c5a8f6ae",
   "metadata": {},
   "outputs": [],
   "source": [
    "x=np.array([[1,2,3],[2,4,5]])"
   ]
  },
  {
   "cell_type": "code",
   "execution_count": 25,
   "id": "57f22e12",
   "metadata": {},
   "outputs": [],
   "source": [
    "def payoff_knock_out_call(X, K, barrier):\n",
    "    safe = (np.max(X,axis=1)>=barrier) * 1\n",
    "    payoff = np.maximum(X[:,-1] - K, 0) * safe\n",
    "    return payoff"
   ]
  },
  {
   "cell_type": "code",
   "execution_count": 29,
   "id": "ded51052",
   "metadata": {},
   "outputs": [],
   "source": [
    "n_sims = 1000000\n",
    "X0 = 100\n",
    "dX = 10\n",
    "mu = 0.1\n",
    "r = 0.05\n",
    "sigma = 0.1\n",
    "T = 1\n",
    "K = 100\n",
    "up_barrier = 120"
   ]
  },
  {
   "cell_type": "code",
   "execution_count": 15,
   "id": "1645773b",
   "metadata": {},
   "outputs": [],
   "source": [
    "underlying = Underlying(mu, sigma, r)"
   ]
  },
  {
   "cell_type": "code",
   "execution_count": 16,
   "id": "7d180fdd",
   "metadata": {},
   "outputs": [],
   "source": [
    "vanilla_call = Option(underlying, lambda X: payoff_call(X, K), T)"
   ]
  },
  {
   "cell_type": "code",
   "execution_count": 17,
   "id": "8fd97e13",
   "metadata": {},
   "outputs": [
    {
     "data": {
      "text/plain": [
       "6.792299815664246"
      ]
     },
     "execution_count": 17,
     "metadata": {},
     "output_type": "execute_result"
    }
   ],
   "source": [
    "vanilla_call.MC_price(X0, r, n_sims, method='crude')"
   ]
  },
  {
   "cell_type": "code",
   "execution_count": 18,
   "id": "3c2c6888",
   "metadata": {},
   "outputs": [
    {
     "data": {
      "text/plain": [
       "6.804115693958655"
      ]
     },
     "execution_count": 18,
     "metadata": {},
     "output_type": "execute_result"
    }
   ],
   "source": [
    "vanilla_call.MC_price(X0, r, n_sims, method='var_control')"
   ]
  },
  {
   "cell_type": "code",
   "execution_count": 19,
   "id": "421c9064",
   "metadata": {},
   "outputs": [
    {
     "data": {
      "text/plain": [
       "0.6767405691194467"
      ]
     },
     "execution_count": 19,
     "metadata": {},
     "output_type": "execute_result"
    }
   ],
   "source": [
    "vanilla_call.MC_delta(dX, r, n_sims, method='crude')"
   ]
  },
  {
   "cell_type": "code",
   "execution_count": 20,
   "id": "e09c0fbd",
   "metadata": {},
   "outputs": [
    {
     "data": {
      "text/plain": [
       "0.6762655863324376"
      ]
     },
     "execution_count": 20,
     "metadata": {},
     "output_type": "execute_result"
    }
   ],
   "source": [
    "vanilla_call.MC_delta(dX, r, n_sims, method='var_control')"
   ]
  },
  {
   "cell_type": "code",
   "execution_count": 30,
   "id": "4d2f78aa",
   "metadata": {},
   "outputs": [],
   "source": [
    "knock_out_call = Option(underlying, lambda X: payoff_knock_out_call(X, K, up_barrier), T)"
   ]
  },
  {
   "cell_type": "code",
   "execution_count": 31,
   "id": "e9951b64",
   "metadata": {},
   "outputs": [
    {
     "data": {
      "text/plain": [
       "5.768639256216623"
      ]
     },
     "execution_count": 31,
     "metadata": {},
     "output_type": "execute_result"
    }
   ],
   "source": [
    "knock_out_call.MC_price(X0, r, n_sims, method='crude')"
   ]
  },
  {
   "cell_type": "code",
   "execution_count": 32,
   "id": "5683c81b",
   "metadata": {},
   "outputs": [
    {
     "data": {
      "text/plain": [
       "5.753413285593999"
      ]
     },
     "execution_count": 32,
     "metadata": {},
     "output_type": "execute_result"
    }
   ],
   "source": [
    "knock_out_call.MC_price(X0, r, n_sims, method='var_control')"
   ]
  },
  {
   "cell_type": "code",
   "execution_count": 33,
   "id": "a8393257",
   "metadata": {},
   "outputs": [
    {
     "data": {
      "text/plain": [
       "0.7466325587044154"
      ]
     },
     "execution_count": 33,
     "metadata": {},
     "output_type": "execute_result"
    }
   ],
   "source": [
    "knock_out_call.MC_delta(dX, r, n_sims, method='crude')"
   ]
  },
  {
   "cell_type": "code",
   "execution_count": 34,
   "id": "ea7ef6ac",
   "metadata": {},
   "outputs": [
    {
     "data": {
      "text/plain": [
       "0.746704087936571"
      ]
     },
     "execution_count": 34,
     "metadata": {},
     "output_type": "execute_result"
    }
   ],
   "source": [
    "knock_out_call.MC_delta(dX, r, n_sims, method='var_control')"
   ]
  },
  {
   "cell_type": "code",
   "execution_count": null,
   "id": "681d1836",
   "metadata": {},
   "outputs": [],
   "source": []
  }
 ],
 "metadata": {
  "kernelspec": {
   "display_name": "Python 3 (ipykernel)",
   "language": "python",
   "name": "python3"
  },
  "language_info": {
   "codemirror_mode": {
    "name": "ipython",
    "version": 3
   },
   "file_extension": ".py",
   "mimetype": "text/x-python",
   "name": "python",
   "nbconvert_exporter": "python",
   "pygments_lexer": "ipython3",
   "version": "3.9.13"
  }
 },
 "nbformat": 4,
 "nbformat_minor": 5
}
